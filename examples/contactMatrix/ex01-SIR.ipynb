{
 "cells": [
  {
   "cell_type": "code",
   "execution_count": 1,
   "metadata": {},
   "outputs": [],
   "source": [
    "%%capture\n",
    "## compile PyRoss for this notebook\n",
    "import os\n",
    "owd = os.getcwd()\n",
    "os.chdir('../../')\n",
    "%run setup.py install\n",
    "os.chdir(owd)"
   ]
  },
  {
   "cell_type": "code",
   "execution_count": 1,
   "metadata": {},
   "outputs": [],
   "source": [
    "import numpy as np\n",
    "import pyross"
   ]
  },
  {
   "cell_type": "code",
   "execution_count": 2,
   "metadata": {},
   "outputs": [],
   "source": [
    "# Get individual contact matrices\n",
    "CH, CW, CS, CO = pyross.contactMatrix.UK()"
   ]
  },
  {
   "cell_type": "code",
   "execution_count": 3,
   "metadata": {},
   "outputs": [],
   "source": [
    "# Generate class with contact matrix for SIR model with UK contact structure\n",
    "generator = pyross.contactMatrix.ContactMatrixFunction(CH, CW, CS, CO)"
   ]
  },
  {
   "cell_type": "code",
   "execution_count": 4,
   "metadata": {},
   "outputs": [],
   "source": [
    "# get constant contact matrix function (this is plug-and-play for model.simulate)\n",
    "C = generator.constant_contactMatrix()"
   ]
  },
  {
   "cell_type": "code",
   "execution_count": 5,
   "metadata": {},
   "outputs": [
    {
     "data": {
      "text/plain": [
       "True"
      ]
     },
     "execution_count": 5,
     "metadata": {},
     "output_type": "execute_result"
    }
   ],
   "source": [
    "# compare: Does the constant contact matrix function yield the sum of the individual contact matrices?\n",
    "(CH + CW + CS + CO == C(123)).all()"
   ]
  },
  {
   "cell_type": "markdown",
   "metadata": {},
   "source": [
    "## Create matrix for temporal intervention"
   ]
  },
  {
   "cell_type": "code",
   "execution_count": 12,
   "metadata": {},
   "outputs": [],
   "source": [
    "times= [1, 2, 3] # temporal boundaries between different contact-behaviour\n",
    "# prefactors for CW, CS, CO:\n",
    "interventions = [[0.9,0.9,0.8], # before first time\n",
    "                 [0.5,0.4,0.3], # between first and second time\n",
    "                 [0.8,0.7,0.6], # between second and third time\n",
    "                  [0.9,0.3,0.5]] # for times larger than third time\n",
    "\n",
    "# generate corresponding contact matrix function\n",
    "C = generator.interventions_temporal(times=times,interventions=interventions)"
   ]
  },
  {
   "cell_type": "code",
   "execution_count": 32,
   "metadata": {},
   "outputs": [
    {
     "name": "stdout",
     "output_type": "stream",
     "text": [
      "True\n",
      "True\n",
      "True\n",
      "True\n",
      "True\n"
     ]
    }
   ],
   "source": [
    "# Check: Does the contact matrix function give what it should?\n",
    "\n",
    "# times at which to evaluate contact matrix function\n",
    "test_times = [-0.1, 0.5, 1.1, 2.9, 5]\n",
    "# for each time, we here enter the corresponding row from the \"interventions\" matrix by hand\n",
    "test_indices = [0, 0, 1, 2, 3]\n",
    " \n",
    "for i,t in enumerate(test_times):\n",
    "    j = test_indices[i]\n",
    "    lhs = CH + interventions[j][0]**2*CW + interventions[j][1]**2*CS + interventions[j][2]**2*CO\n",
    "    rhs = C(t) \n",
    "    print(np.allclose(lhs, rhs))"
   ]
  },
  {
   "cell_type": "markdown",
   "metadata": {},
   "source": [
    "## Create matrix for population-threshold driven intervention"
   ]
  },
  {
   "cell_type": "code",
   "execution_count": 33,
   "metadata": {},
   "outputs": [],
   "source": [
    "# For the SIR model, we have 3*M population numbers (S,Ia,Is)\n",
    "# We now consider M = 1\n",
    "# (Possible extension: Include class R)\n",
    "\n",
    "# thresholds for switching\n",
    "thresholds = np.array([ [0,20,0],\n",
    "                        [0,40,0],\n",
    "                         [0, 100, 0]])\n",
    "# interventions\n",
    "interventions = [[0.5,0.2,0.3], # before first time\n",
    "                 [0.2,0.1,0.1], # between first and second time\n",
    "                 [0.4,0.5,0.2], # between second and third time\n",
    "                  [0.7,0.1,0.1]] # for times larger than third time\n",
    "\n",
    "# generate contact matrix function\n",
    "C = generator.interventions_threshold(thresholds=thresholds,interventions=interventions)\n",
    "\n",
    "# Note that this contact matrix function now takes 4 arguments!\n",
    "# C == C(t, S, Ia, Is)"
   ]
  },
  {
   "cell_type": "code",
   "execution_count": 34,
   "metadata": {},
   "outputs": [],
   "source": [
    "# Check: Does the contact matrix function give what it should?\n",
    "\n",
    "test_populations = [ [ 10,10,10] ,\n",
    "                      [0, 10, 10],\n",
    "                       [10, 50,100],\n",
    "                      [100,200,0]]\n",
    "\n",
    "# The function is written so that for a \"population vector\" state = (S,Ia,Is),\n",
    "# the intervention with the largest index i such that\n",
    "# state[j] >= thresholds[index,j] for all j\n",
    "# is chosen. \n",
    "# Put differently, we look for the first row (from above) in the matrix \"thresholds\" such that\n",
    "# all population numbers exceed the threshold.\n",
    "\n",
    "# for each time, we here enter the corresponding row from the \"interventions\" matrix by hand\n",
    "test_indices = [0, 0, 2, 3]"
   ]
  },
  {
   "cell_type": "code",
   "execution_count": null,
   "metadata": {},
   "outputs": [],
   "source": []
  }
 ],
 "metadata": {
  "kernelspec": {
   "display_name": "Python 3",
   "language": "python",
   "name": "python3"
  },
  "language_info": {
   "codemirror_mode": {
    "name": "ipython",
    "version": 3
   },
   "file_extension": ".py",
   "mimetype": "text/x-python",
   "name": "python",
   "nbconvert_exporter": "python",
   "pygments_lexer": "ipython3",
   "version": "3.7.7"
  }
 },
 "nbformat": 4,
 "nbformat_minor": 2
}
