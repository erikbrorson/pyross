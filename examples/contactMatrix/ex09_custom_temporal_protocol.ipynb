{
 "cells": [
  {
   "cell_type": "code",
   "execution_count": 2,
   "metadata": {},
   "outputs": [],
   "source": [
    "import numpy as np\n",
    "import pyross\n",
    "from matplotlib import pyplot as plt "
   ]
  },
  {
   "cell_type": "code",
   "execution_count": 3,
   "metadata": {},
   "outputs": [],
   "source": [
    "# Get individual contact matrices\n",
    "CH, CW, CS, CO = pyross.contactMatrix.UK()\n",
    "\n",
    "# Generate class with contact matrix for SIR model with UK contact structure\n",
    "generator = pyross.contactMatrix.ContactMatrixFunction(CH, CW, CS, CO)"
   ]
  },
  {
   "cell_type": "code",
   "execution_count": 13,
   "metadata": {},
   "outputs": [
    {
     "data": {
      "image/png": "[encoded data removed]",
      "text/plain": [
       "<Figure size 432x288 with 1 Axes>"
      ]
     },
     "metadata": {
      "needs_background": "light"
     },
     "output_type": "display_data"
    }
   ],
   "source": [
    "# Define a tanh protocol for aW, aS, aO \n",
    "def approx_tanh(t, width, loc):\n",
    "    cond1 = (t < loc-width/2)\n",
    "    cond2 = (t >= loc+width/2)\n",
    "    cond3 = np.logical_and((t < loc+width/2), (t >= loc-width/2))\n",
    "    cond_list = [cond1, cond2, cond3]\n",
    "    fun_list = [-1, 1, lambda t: 2*(t-loc)/width]\n",
    "    return np.piecewise(t, cond_list, fun_list)\n",
    "    \n",
    "def intervention_fun(t, M, width=1, loc=0, aW_f=0, aS_f=0, aO_f=0):\n",
    "    aW = (1-approx_tanh(t, width, loc))/2*(1-aW_f) + aW_f\n",
    "    aS = (1-approx_tanh(t, width, loc))/2*(1-aS_f) + aS_f\n",
    "    aO = (1-approx_tanh(t, width, loc))/2*(1-aO_f) + aO_f\n",
    "    aW_full = np.full((2, M), aW)\n",
    "    aS_full = np.full((2, M), aS)\n",
    "    aO_full = np.full((2, M), aO)\n",
    "    return aW_full, aS_full, aO_full\n",
    "\n",
    "width = 5\n",
    "loc = 50 \n",
    "time_points = np.linspace(0, 100, 1001)\n",
    "aW = np.empty((1001,), dtype='float')\n",
    "for (i, t) in enumerate(time_points): \n",
    "    aW[i] = intervention_fun(t, 16, width=width, loc=loc)[0][0, 0]\n",
    "plt.plot(time_points, aW)\n",
    "plt.show()"
   ]
  },
  {
   "cell_type": "code",
   "execution_count": 15,
   "metadata": {},
   "outputs": [],
   "source": [
    "contactMatrix = generator.intervention_custom_temporal(intervention_fun, width=width, loc=loc)"
   ]
  },
  {
   "cell_type": "code",
   "execution_count": 16,
   "metadata": {},
   "outputs": [
    {
     "data": {
      "text/plain": [
       "True"
      ]
     },
     "execution_count": 16,
     "metadata": {},
     "output_type": "execute_result"
    }
   ],
   "source": [
    "# compare: initially, all contacts \n",
    "(CH + CW + CS + CO == contactMatrix(0)).all()"
   ]
  },
  {
   "cell_type": "code",
   "execution_count": 17,
   "metadata": {},
   "outputs": [
    {
     "data": {
      "text/plain": [
       "True"
      ]
     },
     "execution_count": 17,
     "metadata": {},
     "output_type": "execute_result"
    }
   ],
   "source": [
    "# compare: in the end, only home contacts \n",
    "(CH == contactMatrix(100)).all()"
   ]
  },
  {
   "cell_type": "code",
   "execution_count": null,
   "metadata": {},
   "outputs": [],
   "source": []
  }
 ],
 "metadata": {
  "kernelspec": {
   "display_name": "Python 3",
   "language": "python",
   "name": "python3"
  },
  "language_info": {
   "codemirror_mode": {
    "name": "ipython",
    "version": 3
   },
   "file_extension": ".py",
   "mimetype": "text/x-python",
   "name": "python",
   "nbconvert_exporter": "python",
   "pygments_lexer": "ipython3",
   "version": "3.7.7"
  }
 },
 "nbformat": 4,
 "nbformat_minor": 4
}
