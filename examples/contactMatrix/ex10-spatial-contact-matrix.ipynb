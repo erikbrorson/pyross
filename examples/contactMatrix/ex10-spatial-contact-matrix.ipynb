{
 "cells": [
  {
   "cell_type": "code",
   "execution_count": 1,
   "metadata": {},
   "outputs": [],
   "source": [
    "import numpy as np \n",
    "from matplotlib import pyplot as plt \n",
    "import pyross"
   ]
  },
  {
   "cell_type": "code",
   "execution_count": 33,
   "metadata": {},
   "outputs": [],
   "source": [
    "# make up three populations \n",
    "total_populations = [2e5, 1e5, 0.5e5]\n",
    "populations = np.array([[p/4, p*3/4] for p in total_populations])\n",
    "areas = np.array([1000, 800, 500])\n",
    "densities = total_populations/areas\n",
    "commutes = np.array([[[p1*0.01, p2*0.01]]*3 for (p1, p2) in populations])"
   ]
  },
  {
   "cell_type": "code",
   "execution_count": 19,
   "metadata": {},
   "outputs": [],
   "source": [
    "b = 1\n",
    "work_ratio = 1/3\n",
    "generator = pyross.contactMatrix.SpatialContactMatrix(b, work_ratio, populations, areas, commutes)"
   ]
  },
  {
   "cell_type": "code",
   "execution_count": 34,
   "metadata": {},
   "outputs": [],
   "source": [
    "C = np.array([[18., 9.], \n",
    "              [3., 12.]]) \n",
    "\n",
    "C_spatial = generator.spatial_contact_matrix(C)"
   ]
  },
  {
   "cell_type": "code",
   "execution_count": 27,
   "metadata": {},
   "outputs": [
    {
     "name": "stdout",
     "output_type": "stream",
     "text": [
      "[[18.95209893  9.47604946]\n",
      " [ 3.15868315 12.63473262]]\n"
     ]
    }
   ],
   "source": [
    "# contact matrix for 0\n",
    "print(np.array(C_spatial)[0, :, 0, :])"
   ]
  },
  {
   "cell_type": "code",
   "execution_count": 28,
   "metadata": {},
   "outputs": [
    {
     "name": "stdout",
     "output_type": "stream",
     "text": [
      "[[14.80514566  7.40257283]\n",
      " [ 2.46752428  9.8700971 ]]\n"
     ]
    }
   ],
   "source": [
    "# contact matrix for 1\n",
    "print(np.array(C_spatial)[1, :, 1, :])"
   ]
  },
  {
   "cell_type": "code",
   "execution_count": 29,
   "metadata": {},
   "outputs": [
    {
     "name": "stdout",
     "output_type": "stream",
     "text": [
      "[[18.94894791  9.47447396]\n",
      " [ 3.15815799 12.63263194]]\n"
     ]
    }
   ],
   "source": [
    "# contact matrix for 2\n",
    "print(np.array(C_spatial)[2, :, 2, :])"
   ]
  },
  {
   "cell_type": "code",
   "execution_count": 30,
   "metadata": {},
   "outputs": [
    {
     "name": "stdout",
     "output_type": "stream",
     "text": [
      "[[0.08166627 0.04083313]\n",
      " [0.01361104 0.05444418]]\n"
     ]
    }
   ],
   "source": [
    "# contact matrix between 0 and 1 \n",
    "print(np.array(C_spatial)[0, :, 1, :])"
   ]
  },
  {
   "cell_type": "code",
   "execution_count": 31,
   "metadata": {},
   "outputs": [
    {
     "name": "stdout",
     "output_type": "stream",
     "text": [
      "[[0.07867531 0.03933765]\n",
      " [0.01311255 0.0524502 ]]\n"
     ]
    }
   ],
   "source": [
    "# contact matrix between 0 and 2\n",
    "print(np.array(C_spatial)[0, :, 2, :])"
   ]
  },
  {
   "cell_type": "markdown",
   "metadata": {},
   "source": [
    "## Check that the local spatial matrices sum to give the overall one \n",
    "\n",
    "We want $$ C_{ij} = (\\sum_{\\mu, \\nu} C^{\\mu \\nu}_{ij} N^\\mu_i)/N_i$$"
   ]
  },
  {
   "cell_type": "code",
   "execution_count": 32,
   "metadata": {},
   "outputs": [
    {
     "data": {
      "text/plain": [
       "array([[18.,  3.],\n",
       "       [ 9., 12.]])"
      ]
     },
     "execution_count": 32,
     "metadata": {},
     "output_type": "execute_result"
    }
   ],
   "source": [
    "np.sum(np.sum(populations[:, :, None, None]*C_spatial, axis=0), axis=1)/np.sum(populations, axis=0)"
   ]
  },
  {
   "cell_type": "markdown",
   "metadata": {},
   "source": [
    "This is indeed the overall contact matrix"
   ]
  },
  {
   "cell_type": "code",
   "execution_count": null,
   "metadata": {},
   "outputs": [],
   "source": []
  }
 ],
 "metadata": {
  "kernelspec": {
   "display_name": "Python 3",
   "language": "python",
   "name": "python3"
  },
  "language_info": {
   "codemirror_mode": {
    "name": "ipython",
    "version": 3
   },
   "file_extension": ".py",
   "mimetype": "text/x-python",
   "name": "python",
   "nbconvert_exporter": "python",
   "pygments_lexer": "ipython3",
   "version": "3.7.7"
  }
 },
 "nbformat": 4,
 "nbformat_minor": 4
}
