{
 "cells": [
  {
   "cell_type": "markdown",
   "metadata": {},
   "source": [
    "## Simulating any compartmental model with testing and quarantine using the `SppQ` class\n",
    "\n"
   ]
  },
  {
   "cell_type": "code",
   "execution_count": 1,
   "metadata": {},
   "outputs": [],
   "source": [
    "%%capture\n",
    "## compile PyRoss for this notebook\n",
    "import os\n",
    "owd = os.getcwd()\n",
    "os.chdir('../../')\n",
    "%run setup.py install\n",
    "os.chdir(owd)"
   ]
  },
  {
   "cell_type": "code",
   "execution_count": 2,
   "metadata": {},
   "outputs": [],
   "source": [
    "%matplotlib inline\n",
    "import numpy as np\n",
    "import pyross\n",
    "import matplotlib.pyplot as plt\n",
    "#from matplotlib import rc; rc('text', usetex=True)"
   ]
  },
  {
   "cell_type": "markdown",
   "metadata": {},
   "source": [
    "### The SIR model with quarantine\n",
    "\n",
    "Below you will find the model-specification dictionary for the SIR model with quarantined states"
   ]
  },
  {
   "cell_type": "code",
   "execution_count": 3,
   "metadata": {},
   "outputs": [],
   "source": [
    "model_spec = {\n",
    "    \"classes\" : [\"S\", \"I\"],\n",
    "\n",
    "    \"S\" : {\n",
    "        \"infection\" : [ [\"I\", \"-beta\"] ],\n",
    "    },\n",
    "\n",
    "    \"I\" : {\n",
    "        \"linear\"    : [ [\"I\", \"-gamma\"] ],\n",
    "        \"infection\" : [ [\"I\", \"beta\"] ],\n",
    "    },\n",
    "    \n",
    "    #                S              I           R\n",
    "    \"test_pos\"  : [ \"p_falsepos\", \"p_truepos\", \"p_falsepos\"] ,\n",
    "    \"test_freq\" : [ \"pi_RS\",      \"pi_I\",      \"pi_RS\"] \n",
    "}\n",
    "\n",
    "parameters = {\n",
    "    'beta' : 0.02,\n",
    "    'gamma' : 0.1, \n",
    "    'p_falsepos' : 0.01,\n",
    "    'p_truepos'  : 0.9,\n",
    "    'pi_RS'      : 0.1,\n",
    "    'pi_I'      : 1\n",
    "    \n",
    "}"
   ]
  },
  {
   "cell_type": "markdown",
   "metadata": {},
   "source": [
    "This corresponds to\n",
    "\n",
    "$$\n",
    "\\begin{aligned}\n",
    "\\dot{S}_i & =  - \\beta \\sum_j C_{ij} \\frac{I_j}{N_j} S_i - \\tau_S S_i; &\\dot{S}^Q_i & =  \\tau_S S_i \\\\\n",
    "\\dot{I}_i & = \\beta \\sum_j C_{ij} \\frac{I_j}{N_j} S_i - \\gamma I_i - \\tau_I I_i;\n",
    "&\\dot{I}^Q_i & =- \\gamma I_i^Q+ \\tau_I I_i\\\\\n",
    "\\dot{R}_i & = \\gamma I_i- \\tau_R R_i; &\\dot{R}^Q_i & = \\gamma I^Q_i+ \\tau_R R_i;\n",
    "\\end{aligned}\n",
    "$$\n",
    "\n",
    "Each of the classes, `S`, `I` and `R`,  have a quarantined version, `SQ`, `IQ` and `RQ`. The dynamics within the quarantined states is the same as for the un-quarantined states, but there are no infection terms (assuming perfect quarantine). Individuals are quarantined upon testing positive, hence the total number $N^Q=S^Q+I^Q+R^Q$ would be the reported number of confirmed cases. \n",
    "\n",
    "The transition rates $\\tau_S$, $\\tau_I$, $\\tau_R$ for irreversible transitions to the quarantined states are dependent on time and on other variables. They are determined by the overall testing rate $\\tau_{tot}(t)$ and the parameters specified in `\"test_pos\"` and `\"test_prob\"` (ordered such that they match to `S`, `I` and `R`).  \n",
    "\n",
    "- `\"test_pos\"` specifies the probability $\\kappa_S$, $\\kappa_I$, $\\kappa_R$ that a test performed on an individual of a given class is positive. For classes $R$ and $S$, this is the conditional probability of false positives, for class $I$ the conditional probability of a true positive\n",
    "\n",
    "- `\"test_freq\"` characterises the frequency $\\pi_S$, $\\pi_I$, $\\pi_R$ of tests in a given class. The absolute values of these values does not matter, only their relative magnitudes. If we consider symptomatic testing and set $\\pi_I=1$, then $\\pi_R=\\pi_S$ is the fraction of people who would like to be tested because of symptoms of flu or cold among the population *not* infected with SARS-CoV-2. In models with several infected classes, this parameter can also be used to prioritise testing of patients with severe symptoms or elderly people\n",
    "\n",
    "- The rate of positive tests in each class is computed as\n",
    "  $$ \\tau_X=\\tau_{tot}(t)\\pi_X \\kappa_X/\\mathcal{N} $$\n",
    "  for $X\\in\\{S,I,R\\}$ with the normalisation constant\n",
    "  $$ \\mathcal{N}=\\sum_X \\pi_X  X$$"
   ]
  },
  {
   "cell_type": "markdown",
   "metadata": {},
   "source": [
    "Next, we define the initial condition for all non-quarantined and quarantined states. $R$ is never specified but calculated from the total number. The initial value for $N^Q$ is specified for the auxiliary class `NiQ`. The (scalar) testing rate $\\tau_{tot}(t)$ is specified as a Python function, similar to the time dependent contact matrix. Here, we specify a rapid increase from 10 to 100 tests per day around day 40."
   ]
  },
  {
   "cell_type": "code",
   "execution_count": 4,
   "metadata": {},
   "outputs": [],
   "source": [
    "M = 2                # the population has two age groups\n",
    "N = 5e4              # and this is the total population\n",
    "\n",
    "# set the age structure\n",
    "fi = np.array([0.25, 0.75])  # fraction of population in age age group\n",
    "Ni = N*fi\n",
    "\n",
    "# set the contact structure\n",
    "CM = np.array([[18., 9.], [3., 12.]])\n",
    "\n",
    "\n",
    "# Initial conditions as an array\n",
    "S0 = np.array([Ni[0]-10, Ni[1]-10])\n",
    "I0 = np.array([10,   10])\n",
    "\n",
    "x0 = np.array([\n",
    "    S0[0], S0[1],   # S\n",
    "    I0[0], I0[1],   # I\n",
    "    0,   0,     # SQ\n",
    "    0,   0,     # IQ\n",
    "    0,   0      # NiQ\n",
    "])\n",
    "\n",
    "\n",
    "def contactMatrix(t):  \n",
    "    return CM\n",
    "\n",
    "# Tests performed per day\n",
    "def testRate(t):\n",
    "    return (900.*(1.+np.tanh((t-30.)/10.))/2.+100.)\n",
    "\n",
    "# duration of simulation and data file\n",
    "Tf = 100;  Nf=Tf+1; \n",
    "\n",
    "model = pyross.stochastic.SppQ(model_spec, parameters, M, Ni)\n",
    "data = model.simulate(x0, contactMatrix, testRate, Tf, Nf)\n",
    "data_array = data['X']\n",
    "\n",
    "det_model = pyross.deterministic.SppQ(model_spec, parameters, M, Ni)\n",
    "data_det = det_model.simulate(x0, contactMatrix, testRate, Tf, Nf)\n",
    "data_array_data = data_det['X']\n",
    "\n",
    "# non-quarantined version for comarpison\n",
    "model_specU = model_spec.copy()\n",
    "model_specU.pop('test_freq')\n",
    "model_specU.pop('test_pos')\n",
    "modelU = pyross.stochastic.Spp(model_specU, parameters, M, Ni)\n",
    "dataU = modelU.simulate(x0[0:(2*M)], contactMatrix, Tf, Nf)"
   ]
  },
  {
   "cell_type": "code",
   "execution_count": 5,
   "metadata": {},
   "outputs": [
    {
     "data": {
      "image/png": "[encoded data removed]",
      "text/plain": [
       "<Figure size 1280x480 with 2 Axes>"
      ]
     },
     "metadata": {},
     "output_type": "display_data"
    }
   ],
   "source": [
    "# plot the data and obtain the epidemic curve\n",
    "S = np.sum(model.model_class_data('S', data), axis=1)\n",
    "I = np.sum(model.model_class_data('I', data), axis=1)\n",
    "R = np.sum(model.model_class_data('R', data), axis=1)\n",
    "SQ = np.sum(model.model_class_data('SQ', data), axis=1)\n",
    "IQ = np.sum(model.model_class_data('IQ', data), axis=1)\n",
    "RQ = np.sum(model.model_class_data('RQ', data), axis=1)\n",
    "NQ = np.sum(model.model_class_data('NiQ', data), axis=1)\n",
    "\n",
    "NQ_det = np.sum(det_model.model_class_data('NiQ', data_det), axis=1)\n",
    "\n",
    "SU = np.sum(modelU.model_class_data('S', dataU), axis=1)\n",
    "IU = np.sum(modelU.model_class_data('I', dataU), axis=1)\n",
    "RU = np.sum(modelU.model_class_data('R', dataU), axis=1)\n",
    "\n",
    "t = data['t']\n",
    "\n",
    "fig = plt.figure(num=None, figsize=(16, 6), dpi=80, facecolor='w', edgecolor='k')\n",
    "plt.rcParams.update({'font.size': 18})\n",
    "\n",
    "plt.subplot(1, 2, 1)\n",
    "plt.plot(t, S, '-', color=\"#348ABD\", label='$S$', lw=3)\n",
    "plt.plot(t, I, '-', color='#A60628', label='$I$', lw=3)\n",
    "plt.plot(t, R, '-', color=\"dimgrey\", label='$R$', lw=3)\n",
    "plt.plot(t, SU, '--', color=\"#348ABD\", label='$S$ (w/o $Q$)', lw=2)\n",
    "plt.plot(t, IU, '--', color='#A60628', label='$I$ (w/o $Q$)', lw=2)\n",
    "plt.plot(t, RU, '--', color=\"dimgrey\", label='$R$ (w/o $Q$)', lw=2)\n",
    "\n",
    "plt.legend(fontsize=18); plt.grid() \n",
    "plt.autoscale(enable=True, axis='x', tight=True)\n",
    "plt.ylabel('Compartment value')\n",
    "plt.xlabel('Days');\n",
    "\n",
    "plt.subplot(1, 2, 2)\n",
    "tm = t[1:]-0.5\n",
    "plt.plot(tm, [testRate(tt) for tt in tm], '-', color=\"darkgreen\", label='daily total tests', lw=3)\n",
    "plt.plot(tm, np.diff(NQ), '-', color=\"#348ABD\", label='daily positive tests', lw=3)\n",
    "plt.plot(tm, np.diff(NQ_det), '--', color=\"#348ABD\", label='daily positive tests (deterministic)', lw=2)\n",
    "plt.plot(tm, np.diff(I+R+IQ+RQ), '-', color=\"#A60628\", label='true new cases', lw=3)\n",
    "\n",
    "plt.legend(fontsize=18); plt.grid() \n",
    "plt.autoscale(enable=True, axis='x', tight=True)\n",
    "plt.ylabel('Compartment value')\n",
    "plt.xlabel('Days');"
   ]
  },
  {
   "cell_type": "markdown",
   "metadata": {},
   "source": [
    "In this simple model, testing and quarantining has helped to eradicate the disease. It is interesting to evaluate how many infections have been confired anf how many have remained unconfirmed:"
   ]
  },
  {
   "cell_type": "code",
   "execution_count": 6,
   "metadata": {},
   "outputs": [
    {
     "name": "stdout",
     "output_type": "stream",
     "text": [
      "Confirmed cases: 14171\n",
      "Confirmed cases (incl. false positives): 14344\n",
      "Total cases: 42987\n"
     ]
    }
   ],
   "source": [
    "print(\"Confirmed cases:\", int(RQ[-1]))\n",
    "print(\"Confirmed cases (incl. false positives):\", int(NQ[-1]))\n",
    "print(\"Total cases:\", int(R[-1]+RQ[-1]))"
   ]
  },
  {
   "cell_type": "code",
   "execution_count": 7,
   "metadata": {},
   "outputs": [],
   "source": [
    "# load the data and rescale to intensive variables \n",
    "Tf_inference = 30 # truncate to only getting the first few datapoints \n",
    "Nf_inference = Tf_inference+1\n",
    "x = (data_array[:Nf_inference]).astype('float')/N \n",
    "\n",
    "inference_parameters = parameters.copy()"
   ]
  },
  {
   "cell_type": "code",
   "execution_count": 9,
   "metadata": {},
   "outputs": [
    {
     "name": "stdout",
     "output_type": "stream",
     "text": [
      "[[0. 0. 0. 0. 0. 0. 0. 0. 1. 0.]\n",
      " [0. 0. 0. 0. 0. 0. 0. 0. 0. 1.]]\n",
      "LSODA\n",
      "100000\n"
     ]
    },
    {
     "ename": "Exception",
     "evalue": "Error: method not found. use set_det_method to reset, or pass in a valid method",
     "output_type": "error",
     "traceback": [
      "\u001b[0;31m---------------------------------------------------------------------------\u001b[0m",
      "\u001b[0;31mException\u001b[0m                                 Traceback (most recent call last)",
      "\u001b[0;32mpyross/inference.pyx\u001b[0m in \u001b[0;36mpyross.inference.SIR_type.obtain_full_mean_cov\u001b[0;34m()\u001b[0m\n",
      "\u001b[0;32mpyross/inference.pyx\u001b[0m in \u001b[0;36mpyross.inference.SppQ.integrate\u001b[0;34m()\u001b[0m\n",
      "\u001b[0;32mpyross/inference.pyx\u001b[0m in \u001b[0;36mpyross.inference.SIR_type.integrate\u001b[0;34m()\u001b[0m\n",
      "\u001b[0;31mException\u001b[0m: Error: method not found. use set_det_method to reset, or pass in a valid method"
     ]
    },
    {
     "name": "stdout",
     "output_type": "stream",
     "text": [
      "0.0\n"
     ]
    },
    {
     "name": "stderr",
     "output_type": "stream",
     "text": [
      "Exception ignored in: 'pyross.inference.SIR_type.obtain_log_p_for_traj_matrix_fltr'\n",
      "Traceback (most recent call last):\n",
      "  File \"pyross/inference.pyx\", line 1329, in pyross.inference.SIR_type.obtain_full_mean_cov\n",
      "  File \"pyross/inference.pyx\", line 2700, in pyross.inference.SppQ.integrate\n",
      "  File \"pyross/inference.pyx\", line 1528, in pyross.inference.SIR_type.integrate\n",
      "Exception: Error: method not found. use set_det_method to reset, or pass in a valid method\n"
     ]
    }
   ],
   "source": [
    "# a filter that sums over all the diagnosed people for each age group\n",
    "fltr = np.kron([0, 0, 0, 0, 1],np.identity(M))\n",
    "print(fltr)\n",
    "\n",
    "# Compare the deterministic trajectory and the stochastic trajectory with the same \n",
    "# initial conditions and parameters \n",
    "obs=np.einsum('ij,kj->ki', fltr, x)\n",
    "x0=x[0]\n",
    "\n",
    "# initialise the estimator \n",
    "steps = 4 # number internal integration steps taken\n",
    "estimator = pyross.inference.SppQ(model_spec, inference_parameters, testRate, M, fi, N, steps, lyapunov_method='euler')\n",
    "print(estimator.det_method)\n",
    "\n",
    "# compute -log_p for the original (correct) parameters \n",
    "logp = estimator.minus_logp_red(inference_parameters, x0, obs[1:], fltr, Tf_inference, Nf_inference, contactMatrix)\n",
    "print(logp) "
   ]
  },
  {
   "cell_type": "code",
   "execution_count": 9,
   "metadata": {},
   "outputs": [
    {
     "name": "stdout",
     "output_type": "stream",
     "text": [
      "Starting global minimisation...\n"
     ]
    },
    {
     "name": "stderr",
     "output_type": "stream",
     "text": [
      "Exception ignored in: 'pyross.inference.SIR_type.obtain_log_p_for_traj_matrix_fltr'\n",
      "Traceback (most recent call last):\n",
      "  File \"pyross/inference.pyx\", line 1329, in pyross.inference.SIR_type.obtain_full_mean_cov\n",
      "  File \"pyross/inference.pyx\", line 2699, in pyross.inference.SppQ.integrate\n",
      "  File \"pyross/inference.pyx\", line 1527, in pyross.inference.SIR_type.integrate\n",
      "Exception: Error: method not found. use set_det_method to reset, or pass in a valid method\n",
      "Exception ignored in: 'pyross.inference.SIR_type.obtain_log_p_for_traj_matrix_fltr'\n",
      "Traceback (most recent call last):\n",
      "  File \"pyross/inference.pyx\", line 1329, in pyross.inference.SIR_type.obtain_full_mean_cov\n",
      "  File \"pyross/inference.pyx\", line 2699, in pyross.inference.SppQ.integrate\n",
      "  File \"pyross/inference.pyx\", line 1527, in pyross.inference.SIR_type.integrate\n",
      "Exception ignored in: 'pyross.inference.SIR_type.obtain_log_p_for_traj_matrix_fltr'\n",
      "Traceback (most recent call last):\n",
      "Exception: Error: method not found. use set_det_method to reset, or pass in a valid method\n",
      "  File \"pyross/inference.pyx\", line 1329, in pyross.inference.SIR_type.obtain_full_mean_cov\n",
      "Exception ignored in: 'pyross.inference.SIR_type.obtain_log_p_for_traj_matrix_fltr'\n",
      "Exception ignored in: 'pyross.inference.SIR_type.obtain_log_p_for_traj_matrix_fltr'\n",
      "  File \"pyross/inference.pyx\", line 2699, in pyross.inference.SppQ.integrate\n",
      "Traceback (most recent call last):\n",
      "  File \"pyross/inference.pyx\", line 1527, in pyross.inference.SIR_type.integrate\n",
      "Traceback (most recent call last):\n",
      "Exception: Error: method not found. use set_det_method to reset, or pass in a valid method\n",
      "  File \"pyross/inference.pyx\", line 1329, in pyross.inference.SIR_type.obtain_full_mean_cov\n",
      "  File \"pyross/inference.pyx\", line 2699, in pyross.inference.SppQ.integrate\n",
      "  File \"pyross/inference.pyx\", line 1527, in pyross.inference.SIR_type.integrate\n",
      "Exception: Error: method not found. use set_det_method to reset, or pass in a valid method\n",
      "Exception ignored in: 'pyross.inference.SIR_type.obtain_log_p_for_traj_matrix_fltr'\n"
     ]
    },
    {
     "ename": "Exception",
     "evalue": "Error: method not found. use set_det_method to reset, or pass in a valid method",
     "output_type": "error",
     "traceback": [
      "\u001b[0;31m---------------------------------------------------------------------------\u001b[0m",
      "\u001b[0;31mException\u001b[0m                                 Traceback (most recent call last)",
      "\u001b[0;32mpyross/inference.pyx\u001b[0m in \u001b[0;36mpyross.inference.SIR_type.obtain_full_mean_cov\u001b[0;34m()\u001b[0m\n",
      "\u001b[0;32mpyross/inference.pyx\u001b[0m in \u001b[0;36mpyross.inference.SppQ.integrate\u001b[0;34m()\u001b[0m\n",
      "\u001b[0;32mpyross/inference.pyx\u001b[0m in \u001b[0;36mpyross.inference.SIR_type.integrate\u001b[0;34m()\u001b[0m\n",
      "\u001b[0;31mException\u001b[0m: Error: method not found. use set_det_method to reset, or pass in a valid method"
     ]
    },
    {
     "name": "stderr",
     "output_type": "stream",
     "text": [
      "Exception ignored in: 'pyross.inference.SIR_type.obtain_log_p_for_traj_matrix_fltr'\n",
      "  File \"pyross/inference.pyx\", line 1329, in pyross.inference.SIR_type.obtain_full_mean_cov\n",
      "Traceback (most recent call last):\n",
      "Traceback (most recent call last):\n",
      "  File \"pyross/inference.pyx\", line 1329, in pyross.inference.SIR_type.obtain_full_mean_cov\n",
      "  File \"pyross/inference.pyx\", line 1329, in pyross.inference.SIR_type.obtain_full_mean_cov\n",
      "  File \"pyross/inference.pyx\", line 2699, in pyross.inference.SppQ.integrate\n",
      "Exception ignored in: 'pyross.inference.SIR_type.obtain_log_p_for_traj_matrix_fltr'\n",
      "  File \"pyross/inference.pyx\", line 2699, in pyross.inference.SppQ.integrate\n",
      "  File \"pyross/inference.pyx\", line 1527, in pyross.inference.SIR_type.integrate\n",
      "Traceback (most recent call last):\n",
      "Exception ignored in: 'pyross.inference.SIR_type.obtain_log_p_for_traj_matrix_fltr'\n",
      "  File \"pyross/inference.pyx\", line 2699, in pyross.inference.SppQ.integrate\n",
      "Exception: Error: method not found. use set_det_method to reset, or pass in a valid method\n",
      "Exception: Error: method not found. use set_det_method to reset, or pass in a valid method\n",
      "Traceback (most recent call last):\n",
      "  File \"pyross/inference.pyx\", line 1527, in pyross.inference.SIR_type.integrate\n",
      "  File \"pyross/inference.pyx\", line 1329, in pyross.inference.SIR_type.obtain_full_mean_cov\n",
      "  File \"pyross/inference.pyx\", line 1527, in pyross.inference.SIR_type.integrate\n",
      "Exception: Error: method not found. use set_det_method to reset, or pass in a valid method\n",
      "Exception: Error: method not found. use set_det_method to reset, or pass in a valid method\n",
      "  File \"pyross/inference.pyx\", line 2699, in pyross.inference.SppQ.integrate\n",
      "  File \"pyross/inference.pyx\", line 1527, in pyross.inference.SIR_type.integrate\n"
     ]
    },
    {
     "ename": "Exception",
     "evalue": "Error: method not found. use set_det_method to reset, or pass in a valid method",
     "output_type": "error",
     "traceback": [
      "\u001b[0;31m---------------------------------------------------------------------------\u001b[0m",
      "\u001b[0;31mException\u001b[0m                                 Traceback (most recent call last)",
      "\u001b[0;32mpyross/inference.pyx\u001b[0m in \u001b[0;36mpyross.inference.SIR_type.obtain_full_mean_cov\u001b[0;34m()\u001b[0m\n",
      "\u001b[0;32mpyross/inference.pyx\u001b[0m in \u001b[0;36mpyross.inference.SppQ.integrate\u001b[0;34m()\u001b[0m\n",
      "\u001b[0;32mpyross/inference.pyx\u001b[0m in \u001b[0;36mpyross.inference.SIR_type.integrate\u001b[0;34m()\u001b[0m\n",
      "\u001b[0;31mException\u001b[0m: Error: method not found. use set_det_method to reset, or pass in a valid method"
     ]
    },
    {
     "name": "stderr",
     "output_type": "stream",
     "text": [
      "Exception: Error: method not found. use set_det_method to reset, or pass in a valid method\n"
     ]
    },
    {
     "ename": "Exception",
     "evalue": "Error: method not found. use set_det_method to reset, or pass in a valid method",
     "output_type": "error",
     "traceback": [
      "\u001b[0;31m---------------------------------------------------------------------------\u001b[0m",
      "\u001b[0;31mException\u001b[0m                                 Traceback (most recent call last)",
      "\u001b[0;32mpyross/inference.pyx\u001b[0m in \u001b[0;36mpyross.inference.SIR_type.obtain_full_mean_cov\u001b[0;34m()\u001b[0m\n",
      "\u001b[0;32mpyross/inference.pyx\u001b[0m in \u001b[0;36mpyross.inference.SppQ.integrate\u001b[0;34m()\u001b[0m\n",
      "\u001b[0;32mpyross/inference.pyx\u001b[0m in \u001b[0;36mpyross.inference.SIR_type.integrate\u001b[0;34m()\u001b[0m\n",
      "\u001b[0;31mException\u001b[0m: Error: method not found. use set_det_method to reset, or pass in a valid method"
     ]
    },
    {
     "name": "stderr",
     "output_type": "stream",
     "text": [
      "  File \"pyross/inference.pyx\", line 1329, in pyross.inference.SIR_type.obtain_full_mean_cov\n",
      "Exception ignored in: 'pyross.inference.SIR_type.obtain_log_p_for_traj_matrix_fltr'\n",
      "Exception ignored in: 'pyross.inference.SIR_type.obtain_log_p_for_traj_matrix_fltr'\n",
      "Traceback (most recent call last):\n",
      "Traceback (most recent call last):\n",
      "  File \"pyross/inference.pyx\", line 1329, in pyross.inference.SIR_type.obtain_full_mean_cov\n",
      "  File \"pyross/inference.pyx\", line 1329, in pyross.inference.SIR_type.obtain_full_mean_cov\n",
      "  File \"pyross/inference.pyx\", line 2699, in pyross.inference.SppQ.integrate\n",
      "  File \"pyross/inference.pyx\", line 2699, in pyross.inference.SppQ.integrate\n",
      "  File \"pyross/inference.pyx\", line 1527, in pyross.inference.SIR_type.integrate\n",
      "  File \"pyross/inference.pyx\", line 1527, in pyross.inference.SIR_type.integrate\n",
      "Exception: Error: method not found. use set_det_method to reset, or pass in a valid method\n",
      "Exception: Error: method not found. use set_det_method to reset, or pass in a valid method\n",
      "  File \"pyross/inference.pyx\", line 2699, in pyross.inference.SppQ.integrate\n",
      "  File \"pyross/inference.pyx\", line 1527, in pyross.inference.SIR_type.integrate\n"
     ]
    },
    {
     "ename": "Exception",
     "evalue": "Error: method not found. use set_det_method to reset, or pass in a valid method",
     "output_type": "error",
     "traceback": [
      "\u001b[0;31m---------------------------------------------------------------------------\u001b[0m",
      "\u001b[0;31mException\u001b[0m                                 Traceback (most recent call last)",
      "\u001b[0;32mpyross/inference.pyx\u001b[0m in \u001b[0;36mpyross.inference.SIR_type.obtain_full_mean_cov\u001b[0;34m()\u001b[0m\n",
      "\u001b[0;32mpyross/inference.pyx\u001b[0m in \u001b[0;36mpyross.inference.SppQ.integrate\u001b[0;34m()\u001b[0m\n",
      "\u001b[0;32mpyross/inference.pyx\u001b[0m in \u001b[0;36mpyross.inference.SIR_type.integrate\u001b[0;34m()\u001b[0m\n",
      "\u001b[0;31mException\u001b[0m: Error: method not found. use set_det_method to reset, or pass in a valid method"
     ]
    },
    {
     "name": "stderr",
     "output_type": "stream",
     "text": [
      "Exception ignored in: 'pyross.inference.SIR_type.obtain_log_p_for_traj_matrix_fltr'\n",
      "Traceback (most recent call last):\n",
      "  File \"pyross/inference.pyx\", line 1329, in pyross.inference.SIR_type.obtain_full_mean_cov\n",
      "  File \"pyross/inference.pyx\", line 2699, in pyross.inference.SppQ.integrate\n",
      "  File \"pyross/inference.pyx\", line 1527, in pyross.inference.SIR_type.integrate\n",
      "Exception: Error: method not found. use set_det_method to reset, or pass in a valid method\n"
     ]
    },
    {
     "ename": "Exception",
     "evalue": "Error: method not found. use set_det_method to reset, or pass in a valid method",
     "output_type": "error",
     "traceback": [
      "\u001b[0;31m---------------------------------------------------------------------------\u001b[0m",
      "\u001b[0;31mException\u001b[0m                                 Traceback (most recent call last)",
      "\u001b[0;32mpyross/inference.pyx\u001b[0m in \u001b[0;36mpyross.inference.SIR_type.obtain_full_mean_cov\u001b[0;34m()\u001b[0m\n",
      "\u001b[0;32mpyross/inference.pyx\u001b[0m in \u001b[0;36mpyross.inference.SppQ.integrate\u001b[0;34m()\u001b[0m\n",
      "\u001b[0;32mpyross/inference.pyx\u001b[0m in \u001b[0;36mpyross.inference.SIR_type.integrate\u001b[0;34m()\u001b[0m\n",
      "\u001b[0;31mException\u001b[0m: Error: method not found. use set_det_method to reset, or pass in a valid method"
     ]
    },
    {
     "name": "stderr",
     "output_type": "stream",
     "text": [
      "Exception ignored in: 'pyross.inference.SIR_type.obtain_log_p_for_traj_matrix_fltr'\n",
      "Traceback (most recent call last):\n",
      "  File \"pyross/inference.pyx\", line 1329, in pyross.inference.SIR_type.obtain_full_mean_cov\n",
      "  File \"pyross/inference.pyx\", line 2699, in pyross.inference.SppQ.integrate\n",
      "  File \"pyross/inference.pyx\", line 1527, in pyross.inference.SIR_type.integrate\n",
      "Exception: Error: method not found. use set_det_method to reset, or pass in a valid method\n"
     ]
    },
    {
     "ename": "Exception",
     "evalue": "Error: method not found. use set_det_method to reset, or pass in a valid method",
     "output_type": "error",
     "traceback": [
      "\u001b[0;31m---------------------------------------------------------------------------\u001b[0m",
      "\u001b[0;31mException\u001b[0m                                 Traceback (most recent call last)",
      "\u001b[0;32mpyross/inference.pyx\u001b[0m in \u001b[0;36mpyross.inference.SIR_type.obtain_full_mean_cov\u001b[0;34m()\u001b[0m\n",
      "\u001b[0;32mpyross/inference.pyx\u001b[0m in \u001b[0;36mpyross.inference.SppQ.integrate\u001b[0;34m()\u001b[0m\n",
      "\u001b[0;32mpyross/inference.pyx\u001b[0m in \u001b[0;36mpyross.inference.SIR_type.integrate\u001b[0;34m()\u001b[0m\n",
      "\u001b[0;31mException\u001b[0m: Error: method not found. use set_det_method to reset, or pass in a valid method"
     ]
    },
    {
     "name": "stderr",
     "output_type": "stream",
     "text": [
      "Exception ignored in: 'pyross.inference.SIR_type.obtain_log_p_for_traj_matrix_fltr'\n",
      "Traceback (most recent call last):\n",
      "  File \"pyross/inference.pyx\", line 1329, in pyross.inference.SIR_type.obtain_full_mean_cov\n",
      "  File \"pyross/inference.pyx\", line 2699, in pyross.inference.SppQ.integrate\n",
      "  File \"pyross/inference.pyx\", line 1527, in pyross.inference.SIR_type.integrate\n",
      "Exception: Error: method not found. use set_det_method to reset, or pass in a valid method\n"
     ]
    },
    {
     "ename": "Exception",
     "evalue": "Error: method not found. use set_det_method to reset, or pass in a valid method",
     "output_type": "error",
     "traceback": [
      "\u001b[0;31m---------------------------------------------------------------------------\u001b[0m",
      "\u001b[0;31mException\u001b[0m                                 Traceback (most recent call last)",
      "\u001b[0;32mpyross/inference.pyx\u001b[0m in \u001b[0;36mpyross.inference.SIR_type.obtain_full_mean_cov\u001b[0;34m()\u001b[0m\n",
      "\u001b[0;32mpyross/inference.pyx\u001b[0m in \u001b[0;36mpyross.inference.SppQ.integrate\u001b[0;34m()\u001b[0m\n",
      "\u001b[0;32mpyross/inference.pyx\u001b[0m in \u001b[0;36mpyross.inference.SIR_type.integrate\u001b[0;34m()\u001b[0m\n",
      "\u001b[0;31mException\u001b[0m: Error: method not found. use set_det_method to reset, or pass in a valid method"
     ]
    },
    {
     "name": "stderr",
     "output_type": "stream",
     "text": [
      "Exception ignored in: 'pyross.inference.SIR_type.obtain_log_p_for_traj_matrix_fltr'\n",
      "Traceback (most recent call last):\n",
      "  File \"pyross/inference.pyx\", line 1329, in pyross.inference.SIR_type.obtain_full_mean_cov\n",
      "  File \"pyross/inference.pyx\", line 2699, in pyross.inference.SppQ.integrate\n",
      "  File \"pyross/inference.pyx\", line 1527, in pyross.inference.SIR_type.integrate\n",
      "Exception: Error: method not found. use set_det_method to reset, or pass in a valid method\n"
     ]
    },
    {
     "ename": "Exception",
     "evalue": "Error: method not found. use set_det_method to reset, or pass in a valid method",
     "output_type": "error",
     "traceback": [
      "\u001b[0;31m---------------------------------------------------------------------------\u001b[0m",
      "\u001b[0;31mException\u001b[0m                                 Traceback (most recent call last)",
      "\u001b[0;32mpyross/inference.pyx\u001b[0m in \u001b[0;36mpyross.inference.SIR_type.obtain_full_mean_cov\u001b[0;34m()\u001b[0m\n",
      "\u001b[0;32mpyross/inference.pyx\u001b[0m in \u001b[0;36mpyross.inference.SppQ.integrate\u001b[0;34m()\u001b[0m\n",
      "\u001b[0;32mpyross/inference.pyx\u001b[0m in \u001b[0;36mpyross.inference.SIR_type.integrate\u001b[0;34m()\u001b[0m\n",
      "\u001b[0;31mException\u001b[0m: Error: method not found. use set_det_method to reset, or pass in a valid method"
     ]
    },
    {
     "name": "stderr",
     "output_type": "stream",
     "text": [
      "Exception ignored in: 'pyross.inference.SIR_type.obtain_log_p_for_traj_matrix_fltr'\n",
      "Traceback (most recent call last):\n",
      "  File \"pyross/inference.pyx\", line 1329, in pyross.inference.SIR_type.obtain_full_mean_cov\n",
      "  File \"pyross/inference.pyx\", line 2699, in pyross.inference.SppQ.integrate\n",
      "  File \"pyross/inference.pyx\", line 1527, in pyross.inference.SIR_type.integrate\n",
      "Exception: Error: method not found. use set_det_method to reset, or pass in a valid method\n"
     ]
    },
    {
     "name": "stdout",
     "output_type": "stream",
     "text": [
      "(8_w,16)-aCMA-ES (mu_w=4.8,w_1=32%) in dimension 6 (seed=877570570, Wed Jun 10 15:46:51 2020)\n",
      "Iterat #Fevals   function value  axis ratio  sigma  min&max std  t[m:s]\n",
      "    1     16 -3.775117402672853e+01 1.0e+00 9.33e-01  9e-05  9e-02 0:00.1\n"
     ]
    },
    {
     "ename": "Exception",
     "evalue": "Error: method not found. use set_det_method to reset, or pass in a valid method",
     "output_type": "error",
     "traceback": [
      "\u001b[0;31m---------------------------------------------------------------------------\u001b[0m",
      "\u001b[0;31mException\u001b[0m                                 Traceback (most recent call last)",
      "\u001b[0;32mpyross/inference.pyx\u001b[0m in \u001b[0;36mpyross.inference.SIR_type.obtain_full_mean_cov\u001b[0;34m()\u001b[0m\n",
      "\u001b[0;32mpyross/inference.pyx\u001b[0m in \u001b[0;36mpyross.inference.SppQ.integrate\u001b[0;34m()\u001b[0m\n",
      "\u001b[0;32mpyross/inference.pyx\u001b[0m in \u001b[0;36mpyross.inference.SIR_type.integrate\u001b[0;34m()\u001b[0m\n",
      "\u001b[0;31mException\u001b[0m: Error: method not found. use set_det_method to reset, or pass in a valid method"
     ]
    },
    {
     "ename": "Exception",
     "evalue": "Error: method not found. use set_det_method to reset, or pass in a valid method",
     "output_type": "error",
     "traceback": [
      "\u001b[0;31m---------------------------------------------------------------------------\u001b[0m",
      "\u001b[0;31mException\u001b[0m                                 Traceback (most recent call last)",
      "\u001b[0;32mpyross/inference.pyx\u001b[0m in \u001b[0;36mpyross.inference.SIR_type.obtain_full_mean_cov\u001b[0;34m()\u001b[0m\n",
      "\u001b[0;32mpyross/inference.pyx\u001b[0m in \u001b[0;36mpyross.inference.SppQ.integrate\u001b[0;34m()\u001b[0m\n",
      "\u001b[0;32mpyross/inference.pyx\u001b[0m in \u001b[0;36mpyross.inference.SIR_type.integrate\u001b[0;34m()\u001b[0m\n",
      "\u001b[0;31mException\u001b[0m: Error: method not found. use set_det_method to reset, or pass in a valid method"
     ]
    },
    {
     "name": "stderr",
     "output_type": "stream",
     "text": [
      "Exception ignored in: 'pyross.inference.SIR_type.obtain_log_p_for_traj_matrix_fltr'\n",
      "Exception ignored in: 'pyross.inference.SIR_type.obtain_log_p_for_traj_matrix_fltr'\n",
      "Traceback (most recent call last):\n",
      "Traceback (most recent call last):\n",
      "  File \"pyross/inference.pyx\", line 1329, in pyross.inference.SIR_type.obtain_full_mean_cov\n",
      "Traceback (most recent call last):\n"
     ]
    },
    {
     "ename": "Exception",
     "evalue": "Error: method not found. use set_det_method to reset, or pass in a valid method",
     "output_type": "error",
     "traceback": [
      "\u001b[0;31m---------------------------------------------------------------------------\u001b[0m",
      "\u001b[0;31mException\u001b[0m                                 Traceback (most recent call last)",
      "\u001b[0;32mpyross/inference.pyx\u001b[0m in \u001b[0;36mpyross.inference.SIR_type.obtain_full_mean_cov\u001b[0;34m()\u001b[0m\n",
      "\u001b[0;32mpyross/inference.pyx\u001b[0m in \u001b[0;36mpyross.inference.SppQ.integrate\u001b[0;34m()\u001b[0m\n",
      "\u001b[0;32mpyross/inference.pyx\u001b[0m in \u001b[0;36mpyross.inference.SIR_type.integrate\u001b[0;34m()\u001b[0m\n",
      "\u001b[0;31mException\u001b[0m: Error: method not found. use set_det_method to reset, or pass in a valid method"
     ]
    },
    {
     "ename": "Exception",
     "evalue": "Error: method not found. use set_det_method to reset, or pass in a valid method",
     "output_type": "error",
     "traceback": [
      "\u001b[0;31m---------------------------------------------------------------------------\u001b[0m",
      "\u001b[0;31mException\u001b[0m                                 Traceback (most recent call last)",
      "\u001b[0;32mpyross/inference.pyx\u001b[0m in \u001b[0;36mpyross.inference.SIR_type.obtain_full_mean_cov\u001b[0;34m()\u001b[0m\n",
      "\u001b[0;32mpyross/inference.pyx\u001b[0m in \u001b[0;36mpyross.inference.SppQ.integrate\u001b[0;34m()\u001b[0m\n",
      "\u001b[0;32mpyross/inference.pyx\u001b[0m in \u001b[0;36mpyross.inference.SIR_type.integrate\u001b[0;34m()\u001b[0m\n",
      "\u001b[0;31mException\u001b[0m: Error: method not found. use set_det_method to reset, or pass in a valid method"
     ]
    },
    {
     "name": "stderr",
     "output_type": "stream",
     "text": [
      "Exception ignored in: 'pyross.inference.SIR_type.obtain_log_p_for_traj_matrix_fltr'\n",
      "Exception ignored in: 'pyross.inference.SIR_type.obtain_log_p_for_traj_matrix_fltr'\n",
      "Traceback (most recent call last):\n",
      "  File \"pyross/inference.pyx\", line 1329, in pyross.inference.SIR_type.obtain_full_mean_cov\n",
      "  File \"pyross/inference.pyx\", line 1329, in pyross.inference.SIR_type.obtain_full_mean_cov\n"
     ]
    },
    {
     "ename": "Exception",
     "evalue": "Error: method not found. use set_det_method to reset, or pass in a valid method",
     "output_type": "error",
     "traceback": [
      "\u001b[0;31m---------------------------------------------------------------------------\u001b[0m",
      "\u001b[0;31mException\u001b[0m                                 Traceback (most recent call last)",
      "\u001b[0;32mpyross/inference.pyx\u001b[0m in \u001b[0;36mpyross.inference.SIR_type.obtain_full_mean_cov\u001b[0;34m()\u001b[0m\n",
      "\u001b[0;32mpyross/inference.pyx\u001b[0m in \u001b[0;36mpyross.inference.SppQ.integrate\u001b[0;34m()\u001b[0m\n",
      "\u001b[0;32mpyross/inference.pyx\u001b[0m in \u001b[0;36mpyross.inference.SIR_type.integrate\u001b[0;34m()\u001b[0m\n",
      "\u001b[0;31mException\u001b[0m: Error: method not found. use set_det_method to reset, or pass in a valid method"
     ]
    },
    {
     "name": "stderr",
     "output_type": "stream",
     "text": [
      "  File \"pyross/inference.pyx\", line 2699, in pyross.inference.SppQ.integrate\n",
      "Exception ignored in: 'pyross.inference.SIR_type.obtain_log_p_for_traj_matrix_fltr'\n",
      "  File \"pyross/inference.pyx\", line 1527, in pyross.inference.SIR_type.integrate\n"
     ]
    },
    {
     "ename": "Exception",
     "evalue": "Error: method not found. use set_det_method to reset, or pass in a valid method",
     "output_type": "error",
     "traceback": [
      "\u001b[0;31m---------------------------------------------------------------------------\u001b[0m",
      "\u001b[0;31mException\u001b[0m                                 Traceback (most recent call last)",
      "\u001b[0;32mpyross/inference.pyx\u001b[0m in \u001b[0;36mpyross.inference.SIR_type.obtain_full_mean_cov\u001b[0;34m()\u001b[0m\n",
      "\u001b[0;32mpyross/inference.pyx\u001b[0m in \u001b[0;36mpyross.inference.SppQ.integrate\u001b[0;34m()\u001b[0m\n",
      "\u001b[0;32mpyross/inference.pyx\u001b[0m in \u001b[0;36mpyross.inference.SIR_type.integrate\u001b[0;34m()\u001b[0m\n",
      "\u001b[0;31mException\u001b[0m: Error: method not found. use set_det_method to reset, or pass in a valid method"
     ]
    },
    {
     "name": "stderr",
     "output_type": "stream",
     "text": [
      "Traceback (most recent call last):\n",
      "Exception ignored in: 'pyross.inference.SIR_type.obtain_log_p_for_traj_matrix_fltr'\n",
      "Exception: Error: method not found. use set_det_method to reset, or pass in a valid method\n",
      "Traceback (most recent call last):\n",
      "  File \"pyross/inference.pyx\", line 1329, in pyross.inference.SIR_type.obtain_full_mean_cov\n",
      "  File \"pyross/inference.pyx\", line 2699, in pyross.inference.SppQ.integrate\n",
      "  File \"pyross/inference.pyx\", line 1329, in pyross.inference.SIR_type.obtain_full_mean_cov\n"
     ]
    },
    {
     "ename": "Exception",
     "evalue": "Error: method not found. use set_det_method to reset, or pass in a valid method",
     "output_type": "error",
     "traceback": [
      "\u001b[0;31m---------------------------------------------------------------------------\u001b[0m",
      "\u001b[0;31mException\u001b[0m                                 Traceback (most recent call last)",
      "\u001b[0;32mpyross/inference.pyx\u001b[0m in \u001b[0;36mpyross.inference.SIR_type.obtain_full_mean_cov\u001b[0;34m()\u001b[0m\n",
      "\u001b[0;32mpyross/inference.pyx\u001b[0m in \u001b[0;36mpyross.inference.SppQ.integrate\u001b[0;34m()\u001b[0m\n",
      "\u001b[0;32mpyross/inference.pyx\u001b[0m in \u001b[0;36mpyross.inference.SIR_type.integrate\u001b[0;34m()\u001b[0m\n",
      "\u001b[0;31mException\u001b[0m: Error: method not found. use set_det_method to reset, or pass in a valid method"
     ]
    },
    {
     "name": "stderr",
     "output_type": "stream",
     "text": [
      "  File \"pyross/inference.pyx\", line 2699, in pyross.inference.SppQ.integrate\n",
      "  File \"pyross/inference.pyx\", line 1329, in pyross.inference.SIR_type.obtain_full_mean_cov\n",
      "  File \"pyross/inference.pyx\", line 1527, in pyross.inference.SIR_type.integrate\n",
      "  File \"pyross/inference.pyx\", line 2699, in pyross.inference.SppQ.integrate\n",
      "  File \"pyross/inference.pyx\", line 1527, in pyross.inference.SIR_type.integrate\n",
      "  File \"pyross/inference.pyx\", line 2699, in pyross.inference.SppQ.integrate\n",
      "Exception ignored in: 'pyross.inference.SIR_type.obtain_log_p_for_traj_matrix_fltr'\n",
      "Exception: Error: method not found. use set_det_method to reset, or pass in a valid method\n",
      "Exception: Error: method not found. use set_det_method to reset, or pass in a valid method\n",
      "  File \"pyross/inference.pyx\", line 1527, in pyross.inference.SIR_type.integrate\n",
      "  File \"pyross/inference.pyx\", line 2699, in pyross.inference.SppQ.integrate\n",
      "  File \"pyross/inference.pyx\", line 1527, in pyross.inference.SIR_type.integrate\n",
      "Traceback (most recent call last):\n",
      "Exception: Error: method not found. use set_det_method to reset, or pass in a valid method\n",
      "Exception: Error: method not found. use set_det_method to reset, or pass in a valid method\n",
      "  File \"pyross/inference.pyx\", line 1329, in pyross.inference.SIR_type.obtain_full_mean_cov\n",
      "  File \"pyross/inference.pyx\", line 2699, in pyross.inference.SppQ.integrate\n",
      "  File \"pyross/inference.pyx\", line 1527, in pyross.inference.SIR_type.integrate\n",
      "Exception: Error: method not found. use set_det_method to reset, or pass in a valid method\n"
     ]
    },
    {
     "ename": "Exception",
     "evalue": "Error: method not found. use set_det_method to reset, or pass in a valid method",
     "output_type": "error",
     "traceback": [
      "\u001b[0;31m---------------------------------------------------------------------------\u001b[0m",
      "\u001b[0;31mException\u001b[0m                                 Traceback (most recent call last)",
      "\u001b[0;32mpyross/inference.pyx\u001b[0m in \u001b[0;36mpyross.inference.SIR_type.obtain_full_mean_cov\u001b[0;34m()\u001b[0m\n",
      "\u001b[0;32mpyross/inference.pyx\u001b[0m in \u001b[0;36mpyross.inference.SppQ.integrate\u001b[0;34m()\u001b[0m\n",
      "\u001b[0;32mpyross/inference.pyx\u001b[0m in \u001b[0;36mpyross.inference.SIR_type.integrate\u001b[0;34m()\u001b[0m\n",
      "\u001b[0;31mException\u001b[0m: Error: method not found. use set_det_method to reset, or pass in a valid method"
     ]
    },
    {
     "name": "stderr",
     "output_type": "stream",
     "text": [
      "  File \"pyross/inference.pyx\", line 1527, in pyross.inference.SIR_type.integrate\n",
      "Exception ignored in: 'pyross.inference.SIR_type.obtain_log_p_for_traj_matrix_fltr'\n",
      "Exception: Error: method not found. use set_det_method to reset, or pass in a valid method\n",
      "Traceback (most recent call last):\n",
      "  File \"pyross/inference.pyx\", line 1329, in pyross.inference.SIR_type.obtain_full_mean_cov\n",
      "  File \"pyross/inference.pyx\", line 2699, in pyross.inference.SppQ.integrate\n",
      "  File \"pyross/inference.pyx\", line 1527, in pyross.inference.SIR_type.integrate\n"
     ]
    },
    {
     "ename": "Exception",
     "evalue": "Error: method not found. use set_det_method to reset, or pass in a valid method",
     "output_type": "error",
     "traceback": [
      "\u001b[0;31m---------------------------------------------------------------------------\u001b[0m",
      "\u001b[0;31mException\u001b[0m                                 Traceback (most recent call last)",
      "\u001b[0;32mpyross/inference.pyx\u001b[0m in \u001b[0;36mpyross.inference.SIR_type.obtain_full_mean_cov\u001b[0;34m()\u001b[0m\n",
      "\u001b[0;32mpyross/inference.pyx\u001b[0m in \u001b[0;36mpyross.inference.SppQ.integrate\u001b[0;34m()\u001b[0m\n",
      "\u001b[0;32mpyross/inference.pyx\u001b[0m in \u001b[0;36mpyross.inference.SIR_type.integrate\u001b[0;34m()\u001b[0m\n",
      "\u001b[0;31mException\u001b[0m: Error: method not found. use set_det_method to reset, or pass in a valid method"
     ]
    },
    {
     "name": "stderr",
     "output_type": "stream",
     "text": [
      "Exception ignored in: 'pyross.inference.SIR_type.obtain_log_p_for_traj_matrix_fltr'\n",
      "Traceback (most recent call last):\n",
      "Exception: Error: method not found. use set_det_method to reset, or pass in a valid method\n",
      "  File \"pyross/inference.pyx\", line 1329, in pyross.inference.SIR_type.obtain_full_mean_cov\n",
      "  File \"pyross/inference.pyx\", line 2699, in pyross.inference.SppQ.integrate\n",
      "  File \"pyross/inference.pyx\", line 1527, in pyross.inference.SIR_type.integrate\n",
      "Exception: Error: method not found. use set_det_method to reset, or pass in a valid method\n"
     ]
    },
    {
     "ename": "Exception",
     "evalue": "Error: method not found. use set_det_method to reset, or pass in a valid method",
     "output_type": "error",
     "traceback": [
      "\u001b[0;31m---------------------------------------------------------------------------\u001b[0m",
      "\u001b[0;31mException\u001b[0m                                 Traceback (most recent call last)",
      "\u001b[0;32mpyross/inference.pyx\u001b[0m in \u001b[0;36mpyross.inference.SIR_type.obtain_full_mean_cov\u001b[0;34m()\u001b[0m\n",
      "\u001b[0;32mpyross/inference.pyx\u001b[0m in \u001b[0;36mpyross.inference.SppQ.integrate\u001b[0;34m()\u001b[0m\n",
      "\u001b[0;32mpyross/inference.pyx\u001b[0m in \u001b[0;36mpyross.inference.SIR_type.integrate\u001b[0;34m()\u001b[0m\n",
      "\u001b[0;31mException\u001b[0m: Error: method not found. use set_det_method to reset, or pass in a valid method"
     ]
    },
    {
     "name": "stderr",
     "output_type": "stream",
     "text": [
      "Exception ignored in: 'pyross.inference.SIR_type.obtain_log_p_for_traj_matrix_fltr'\n",
      "Traceback (most recent call last):\n",
      "  File \"pyross/inference.pyx\", line 1329, in pyross.inference.SIR_type.obtain_full_mean_cov\n",
      "  File \"pyross/inference.pyx\", line 2699, in pyross.inference.SppQ.integrate\n",
      "  File \"pyross/inference.pyx\", line 1527, in pyross.inference.SIR_type.integrate\n",
      "Exception: Error: method not found. use set_det_method to reset, or pass in a valid method\n"
     ]
    },
    {
     "ename": "Exception",
     "evalue": "Error: method not found. use set_det_method to reset, or pass in a valid method",
     "output_type": "error",
     "traceback": [
      "\u001b[0;31m---------------------------------------------------------------------------\u001b[0m",
      "\u001b[0;31mException\u001b[0m                                 Traceback (most recent call last)",
      "\u001b[0;32mpyross/inference.pyx\u001b[0m in \u001b[0;36mpyross.inference.SIR_type.obtain_full_mean_cov\u001b[0;34m()\u001b[0m\n",
      "\u001b[0;32mpyross/inference.pyx\u001b[0m in \u001b[0;36mpyross.inference.SppQ.integrate\u001b[0;34m()\u001b[0m\n",
      "\u001b[0;32mpyross/inference.pyx\u001b[0m in \u001b[0;36mpyross.inference.SIR_type.integrate\u001b[0;34m()\u001b[0m\n",
      "\u001b[0;31mException\u001b[0m: Error: method not found. use set_det_method to reset, or pass in a valid method"
     ]
    },
    {
     "name": "stderr",
     "output_type": "stream",
     "text": [
      "Exception ignored in: 'pyross.inference.SIR_type.obtain_log_p_for_traj_matrix_fltr'\n",
      "Traceback (most recent call last):\n",
      "  File \"pyross/inference.pyx\", line 1329, in pyross.inference.SIR_type.obtain_full_mean_cov\n",
      "  File \"pyross/inference.pyx\", line 2699, in pyross.inference.SppQ.integrate\n",
      "  File \"pyross/inference.pyx\", line 1527, in pyross.inference.SIR_type.integrate\n",
      "Exception: Error: method not found. use set_det_method to reset, or pass in a valid method\n"
     ]
    },
    {
     "ename": "Exception",
     "evalue": "Error: method not found. use set_det_method to reset, or pass in a valid method",
     "output_type": "error",
     "traceback": [
      "\u001b[0;31m---------------------------------------------------------------------------\u001b[0m",
      "\u001b[0;31mException\u001b[0m                                 Traceback (most recent call last)",
      "\u001b[0;32mpyross/inference.pyx\u001b[0m in \u001b[0;36mpyross.inference.SIR_type.obtain_full_mean_cov\u001b[0;34m()\u001b[0m\n",
      "\u001b[0;32mpyross/inference.pyx\u001b[0m in \u001b[0;36mpyross.inference.SppQ.integrate\u001b[0;34m()\u001b[0m\n",
      "\u001b[0;32mpyross/inference.pyx\u001b[0m in \u001b[0;36mpyross.inference.SIR_type.integrate\u001b[0;34m()\u001b[0m\n",
      "\u001b[0;31mException\u001b[0m: Error: method not found. use set_det_method to reset, or pass in a valid method"
     ]
    },
    {
     "name": "stderr",
     "output_type": "stream",
     "text": [
      "Exception ignored in: 'pyross.inference.SIR_type.obtain_log_p_for_traj_matrix_fltr'\n",
      "Traceback (most recent call last):\n",
      "  File \"pyross/inference.pyx\", line 1329, in pyross.inference.SIR_type.obtain_full_mean_cov\n",
      "  File \"pyross/inference.pyx\", line 2699, in pyross.inference.SppQ.integrate\n",
      "  File \"pyross/inference.pyx\", line 1527, in pyross.inference.SIR_type.integrate\n",
      "Exception: Error: method not found. use set_det_method to reset, or pass in a valid method\n"
     ]
    },
    {
     "ename": "Exception",
     "evalue": "Error: method not found. use set_det_method to reset, or pass in a valid method",
     "output_type": "error",
     "traceback": [
      "\u001b[0;31m---------------------------------------------------------------------------\u001b[0m",
      "\u001b[0;31mException\u001b[0m                                 Traceback (most recent call last)",
      "\u001b[0;32mpyross/inference.pyx\u001b[0m in \u001b[0;36mpyross.inference.SIR_type.obtain_full_mean_cov\u001b[0;34m()\u001b[0m\n",
      "\u001b[0;32mpyross/inference.pyx\u001b[0m in \u001b[0;36mpyross.inference.SppQ.integrate\u001b[0;34m()\u001b[0m\n",
      "\u001b[0;32mpyross/inference.pyx\u001b[0m in \u001b[0;36mpyross.inference.SIR_type.integrate\u001b[0;34m()\u001b[0m\n",
      "\u001b[0;31mException\u001b[0m: Error: method not found. use set_det_method to reset, or pass in a valid method"
     ]
    },
    {
     "name": "stderr",
     "output_type": "stream",
     "text": [
      "Exception ignored in: 'pyross.inference.SIR_type.obtain_log_p_for_traj_matrix_fltr'\n",
      "Traceback (most recent call last):\n",
      "  File \"pyross/inference.pyx\", line 1329, in pyross.inference.SIR_type.obtain_full_mean_cov\n",
      "  File \"pyross/inference.pyx\", line 2699, in pyross.inference.SppQ.integrate\n",
      "  File \"pyross/inference.pyx\", line 1527, in pyross.inference.SIR_type.integrate\n",
      "Exception: Error: method not found. use set_det_method to reset, or pass in a valid method\n"
     ]
    },
    {
     "ename": "Exception",
     "evalue": "Error: method not found. use set_det_method to reset, or pass in a valid method",
     "output_type": "error",
     "traceback": [
      "\u001b[0;31m---------------------------------------------------------------------------\u001b[0m",
      "\u001b[0;31mException\u001b[0m                                 Traceback (most recent call last)",
      "\u001b[0;32mpyross/inference.pyx\u001b[0m in \u001b[0;36mpyross.inference.SIR_type.obtain_full_mean_cov\u001b[0;34m()\u001b[0m\n",
      "\u001b[0;32mpyross/inference.pyx\u001b[0m in \u001b[0;36mpyross.inference.SppQ.integrate\u001b[0;34m()\u001b[0m\n",
      "\u001b[0;32mpyross/inference.pyx\u001b[0m in \u001b[0;36mpyross.inference.SIR_type.integrate\u001b[0;34m()\u001b[0m\n",
      "\u001b[0;31mException\u001b[0m: Error: method not found. use set_det_method to reset, or pass in a valid method"
     ]
    },
    {
     "name": "stderr",
     "output_type": "stream",
     "text": [
      "Exception ignored in: 'pyross.inference.SIR_type.obtain_log_p_for_traj_matrix_fltr'\n",
      "Traceback (most recent call last):\n",
      "  File \"pyross/inference.pyx\", line 1329, in pyross.inference.SIR_type.obtain_full_mean_cov\n",
      "  File \"pyross/inference.pyx\", line 2699, in pyross.inference.SppQ.integrate\n"
     ]
    },
    {
     "ename": "Exception",
     "evalue": "Error: method not found. use set_det_method to reset, or pass in a valid method",
     "output_type": "error",
     "traceback": [
      "\u001b[0;31m---------------------------------------------------------------------------\u001b[0m",
      "\u001b[0;31mException\u001b[0m                                 Traceback (most recent call last)",
      "\u001b[0;32mpyross/inference.pyx\u001b[0m in \u001b[0;36mpyross.inference.SIR_type.obtain_full_mean_cov\u001b[0;34m()\u001b[0m\n",
      "\u001b[0;32mpyross/inference.pyx\u001b[0m in \u001b[0;36mpyross.inference.SppQ.integrate\u001b[0;34m()\u001b[0m\n",
      "\u001b[0;32mpyross/inference.pyx\u001b[0m in \u001b[0;36mpyross.inference.SIR_type.integrate\u001b[0;34m()\u001b[0m\n",
      "\u001b[0;31mException\u001b[0m: Error: method not found. use set_det_method to reset, or pass in a valid method"
     ]
    },
    {
     "name": "stderr",
     "output_type": "stream",
     "text": [
      "  File \"pyross/inference.pyx\", line 1527, in pyross.inference.SIR_type.integrate\n",
      "Exception ignored in: 'pyross.inference.SIR_type.obtain_log_p_for_traj_matrix_fltr'\n",
      "Exception: Error: method not found. use set_det_method to reset, or pass in a valid method\n",
      "Traceback (most recent call last):\n",
      "  File \"pyross/inference.pyx\", line 1329, in pyross.inference.SIR_type.obtain_full_mean_cov\n",
      "  File \"pyross/inference.pyx\", line 2699, in pyross.inference.SppQ.integrate\n",
      "  File \"pyross/inference.pyx\", line 1527, in pyross.inference.SIR_type.integrate\n",
      "Exception: Error: method not found. use set_det_method to reset, or pass in a valid method\n"
     ]
    },
    {
     "ename": "Exception",
     "evalue": "Error: method not found. use set_det_method to reset, or pass in a valid method",
     "output_type": "error",
     "traceback": [
      "\u001b[0;31m---------------------------------------------------------------------------\u001b[0m",
      "\u001b[0;31mException\u001b[0m                                 Traceback (most recent call last)",
      "\u001b[0;32mpyross/inference.pyx\u001b[0m in \u001b[0;36mpyross.inference.SIR_type.obtain_full_mean_cov\u001b[0;34m()\u001b[0m\n",
      "\u001b[0;32mpyross/inference.pyx\u001b[0m in \u001b[0;36mpyross.inference.SppQ.integrate\u001b[0;34m()\u001b[0m\n",
      "\u001b[0;32mpyross/inference.pyx\u001b[0m in \u001b[0;36mpyross.inference.SIR_type.integrate\u001b[0;34m()\u001b[0m\n",
      "\u001b[0;31mException\u001b[0m: Error: method not found. use set_det_method to reset, or pass in a valid method"
     ]
    },
    {
     "name": "stderr",
     "output_type": "stream",
     "text": [
      "Exception ignored in: 'pyross.inference.SIR_type.obtain_log_p_for_traj_matrix_fltr'\n",
      "Traceback (most recent call last):\n",
      "  File \"pyross/inference.pyx\", line 1329, in pyross.inference.SIR_type.obtain_full_mean_cov\n",
      "  File \"pyross/inference.pyx\", line 2699, in pyross.inference.SppQ.integrate\n",
      "  File \"pyross/inference.pyx\", line 1527, in pyross.inference.SIR_type.integrate\n",
      "Exception: Error: method not found. use set_det_method to reset, or pass in a valid method\n"
     ]
    },
    {
     "name": "stdout",
     "output_type": "stream",
     "text": [
      "    2     32 -3.801896754991930e+01 1.3e+00 9.08e-01  8e-05  9e-02 0:00.2\n"
     ]
    },
    {
     "ename": "Exception",
     "evalue": "Error: method not found. use set_det_method to reset, or pass in a valid method",
     "output_type": "error",
     "traceback": [
      "\u001b[0;31m---------------------------------------------------------------------------\u001b[0m",
      "\u001b[0;31mException\u001b[0m                                 Traceback (most recent call last)",
      "\u001b[0;32mpyross/inference.pyx\u001b[0m in \u001b[0;36mpyross.inference.SIR_type.obtain_full_mean_cov\u001b[0;34m()\u001b[0m\n",
      "\u001b[0;32mpyross/inference.pyx\u001b[0m in \u001b[0;36mpyross.inference.SppQ.integrate\u001b[0;34m()\u001b[0m\n",
      "\u001b[0;32mpyross/inference.pyx\u001b[0m in \u001b[0;36mpyross.inference.SIR_type.integrate\u001b[0;34m()\u001b[0m\n",
      "\u001b[0;31mException\u001b[0m: Error: method not found. use set_det_method to reset, or pass in a valid method"
     ]
    },
    {
     "name": "stderr",
     "output_type": "stream",
     "text": [
      "Exception ignored in: 'pyross.inference.SIR_type.obtain_log_p_for_traj_matrix_fltr'\n",
      "Traceback (most recent call last):\n",
      "  File \"pyross/inference.pyx\", line 1329, in pyross.inference.SIR_type.obtain_full_mean_cov\n",
      "  File \"pyross/inference.pyx\", line 2699, in pyross.inference.SppQ.integrate\n",
      "  File \"pyross/inference.pyx\", line 1527, in pyross.inference.SIR_type.integrate\n",
      "Exception: Error: method not found. use set_det_method to reset, or pass in a valid method\n"
     ]
    },
    {
     "ename": "Exception",
     "evalue": "Error: method not found. use set_det_method to reset, or pass in a valid method",
     "output_type": "error",
     "traceback": [
      "\u001b[0;31m---------------------------------------------------------------------------\u001b[0m",
      "\u001b[0;31mException\u001b[0m                                 Traceback (most recent call last)",
      "\u001b[0;32mpyross/inference.pyx\u001b[0m in \u001b[0;36mpyross.inference.SIR_type.obtain_full_mean_cov\u001b[0;34m()\u001b[0m\n",
      "\u001b[0;32mpyross/inference.pyx\u001b[0m in \u001b[0;36mpyross.inference.SppQ.integrate\u001b[0;34m()\u001b[0m\n",
      "\u001b[0;32mpyross/inference.pyx\u001b[0m in \u001b[0;36mpyross.inference.SIR_type.integrate\u001b[0;34m()\u001b[0m\n",
      "\u001b[0;31mException\u001b[0m: Error: method not found. use set_det_method to reset, or pass in a valid method"
     ]
    },
    {
     "ename": "Exception",
     "evalue": "Error: method not found. use set_det_method to reset, or pass in a valid method",
     "output_type": "error",
     "traceback": [
      "\u001b[0;31m---------------------------------------------------------------------------\u001b[0m",
      "\u001b[0;31mException\u001b[0m                                 Traceback (most recent call last)",
      "\u001b[0;32mpyross/inference.pyx\u001b[0m in \u001b[0;36mpyross.inference.SIR_type.obtain_full_mean_cov\u001b[0;34m()\u001b[0m\n",
      "\u001b[0;32mpyross/inference.pyx\u001b[0m in \u001b[0;36mpyross.inference.SppQ.integrate\u001b[0;34m()\u001b[0m\n",
      "\u001b[0;32mpyross/inference.pyx\u001b[0m in \u001b[0;36mpyross.inference.SIR_type.integrate\u001b[0;34m()\u001b[0m\n",
      "\u001b[0;31mException\u001b[0m: Error: method not found. use set_det_method to reset, or pass in a valid method"
     ]
    },
    {
     "name": "stderr",
     "output_type": "stream",
     "text": [
      "Exception ignored in: 'pyross.inference.SIR_type.obtain_log_p_for_traj_matrix_fltr'\n",
      "Exception ignored in: 'pyross.inference.SIR_type.obtain_log_p_for_traj_matrix_fltr'\n",
      "Traceback (most recent call last):\n",
      "  File \"pyross/inference.pyx\", line 1329, in pyross.inference.SIR_type.obtain_full_mean_cov\n",
      "  File \"pyross/inference.pyx\", line 2699, in pyross.inference.SppQ.integrate\n",
      "  File \"pyross/inference.pyx\", line 1527, in pyross.inference.SIR_type.integrate\n",
      "Exception: Error: method not found. use set_det_method to reset, or pass in a valid method\n"
     ]
    },
    {
     "ename": "Exception",
     "evalue": "Error: method not found. use set_det_method to reset, or pass in a valid method",
     "output_type": "error",
     "traceback": [
      "\u001b[0;31m---------------------------------------------------------------------------\u001b[0m",
      "\u001b[0;31mException\u001b[0m                                 Traceback (most recent call last)",
      "\u001b[0;32mpyross/inference.pyx\u001b[0m in \u001b[0;36mpyross.inference.SIR_type.obtain_full_mean_cov\u001b[0;34m()\u001b[0m\n",
      "\u001b[0;32mpyross/inference.pyx\u001b[0m in \u001b[0;36mpyross.inference.SppQ.integrate\u001b[0;34m()\u001b[0m\n",
      "\u001b[0;32mpyross/inference.pyx\u001b[0m in \u001b[0;36mpyross.inference.SIR_type.integrate\u001b[0;34m()\u001b[0m\n",
      "\u001b[0;31mException\u001b[0m: Error: method not found. use set_det_method to reset, or pass in a valid method"
     ]
    },
    {
     "name": "stderr",
     "output_type": "stream",
     "text": [
      "Exception ignored in: 'pyross.inference.SIR_type.obtain_log_p_for_traj_matrix_fltr'\n",
      "Traceback (most recent call last):\n",
      "  File \"pyross/inference.pyx\", line 1329, in pyross.inference.SIR_type.obtain_full_mean_cov\n",
      "  File \"pyross/inference.pyx\", line 2699, in pyross.inference.SppQ.integrate\n",
      "  File \"pyross/inference.pyx\", line 1527, in pyross.inference.SIR_type.integrate\n",
      "Exception: Error: method not found. use set_det_method to reset, or pass in a valid method\n"
     ]
    },
    {
     "ename": "Exception",
     "evalue": "Error: method not found. use set_det_method to reset, or pass in a valid method",
     "output_type": "error",
     "traceback": [
      "\u001b[0;31m---------------------------------------------------------------------------\u001b[0m",
      "\u001b[0;31mException\u001b[0m                                 Traceback (most recent call last)",
      "\u001b[0;32mpyross/inference.pyx\u001b[0m in \u001b[0;36mpyross.inference.SIR_type.obtain_full_mean_cov\u001b[0;34m()\u001b[0m\n",
      "\u001b[0;32mpyross/inference.pyx\u001b[0m in \u001b[0;36mpyross.inference.SppQ.integrate\u001b[0;34m()\u001b[0m\n",
      "\u001b[0;32mpyross/inference.pyx\u001b[0m in \u001b[0;36mpyross.inference.SIR_type.integrate\u001b[0;34m()\u001b[0m\n",
      "\u001b[0;31mException\u001b[0m: Error: method not found. use set_det_method to reset, or pass in a valid method"
     ]
    },
    {
     "name": "stderr",
     "output_type": "stream",
     "text": [
      "Traceback (most recent call last):\n",
      "Exception ignored in: 'pyross.inference.SIR_type.obtain_log_p_for_traj_matrix_fltr'\n",
      "  File \"pyross/inference.pyx\", line 1329, in pyross.inference.SIR_type.obtain_full_mean_cov\n",
      "Traceback (most recent call last):\n"
     ]
    },
    {
     "ename": "Exception",
     "evalue": "Error: method not found. use set_det_method to reset, or pass in a valid method",
     "output_type": "error",
     "traceback": [
      "\u001b[0;31m---------------------------------------------------------------------------\u001b[0m",
      "\u001b[0;31mException\u001b[0m                                 Traceback (most recent call last)",
      "\u001b[0;32mpyross/inference.pyx\u001b[0m in \u001b[0;36mpyross.inference.SIR_type.obtain_full_mean_cov\u001b[0;34m()\u001b[0m\n",
      "\u001b[0;32mpyross/inference.pyx\u001b[0m in \u001b[0;36mpyross.inference.SppQ.integrate\u001b[0;34m()\u001b[0m\n",
      "\u001b[0;32mpyross/inference.pyx\u001b[0m in \u001b[0;36mpyross.inference.SIR_type.integrate\u001b[0;34m()\u001b[0m\n",
      "\u001b[0;31mException\u001b[0m: Error: method not found. use set_det_method to reset, or pass in a valid method"
     ]
    },
    {
     "name": "stderr",
     "output_type": "stream",
     "text": [
      "  File \"pyross/inference.pyx\", line 2699, in pyross.inference.SppQ.integrate\n",
      "Exception ignored in: 'pyross.inference.SIR_type.obtain_log_p_for_traj_matrix_fltr'\n",
      "  File \"pyross/inference.pyx\", line 1527, in pyross.inference.SIR_type.integrate\n",
      "Traceback (most recent call last):\n",
      "  File \"pyross/inference.pyx\", line 1329, in pyross.inference.SIR_type.obtain_full_mean_cov\n",
      "  File \"pyross/inference.pyx\", line 2699, in pyross.inference.SppQ.integrate\n",
      "Exception: Error: method not found. use set_det_method to reset, or pass in a valid method\n"
     ]
    },
    {
     "ename": "Exception",
     "evalue": "Error: method not found. use set_det_method to reset, or pass in a valid method",
     "output_type": "error",
     "traceback": [
      "\u001b[0;31m---------------------------------------------------------------------------\u001b[0m",
      "\u001b[0;31mException\u001b[0m                                 Traceback (most recent call last)",
      "\u001b[0;32mpyross/inference.pyx\u001b[0m in \u001b[0;36mpyross.inference.SIR_type.obtain_full_mean_cov\u001b[0;34m()\u001b[0m\n",
      "\u001b[0;32mpyross/inference.pyx\u001b[0m in \u001b[0;36mpyross.inference.SppQ.integrate\u001b[0;34m()\u001b[0m\n",
      "\u001b[0;32mpyross/inference.pyx\u001b[0m in \u001b[0;36mpyross.inference.SIR_type.integrate\u001b[0;34m()\u001b[0m\n",
      "\u001b[0;31mException\u001b[0m: Error: method not found. use set_det_method to reset, or pass in a valid method"
     ]
    },
    {
     "name": "stderr",
     "output_type": "stream",
     "text": [
      "Exception ignored in: 'pyross.inference.SIR_type.obtain_log_p_for_traj_matrix_fltr'\n",
      "Traceback (most recent call last):\n",
      "  File \"pyross/inference.pyx\", line 1329, in pyross.inference.SIR_type.obtain_full_mean_cov\n",
      "  File \"pyross/inference.pyx\", line 2699, in pyross.inference.SppQ.integrate\n",
      "  File \"pyross/inference.pyx\", line 1527, in pyross.inference.SIR_type.integrate\n",
      "Exception: Error: method not found. use set_det_method to reset, or pass in a valid method\n"
     ]
    },
    {
     "ename": "Exception",
     "evalue": "Error: method not found. use set_det_method to reset, or pass in a valid method",
     "output_type": "error",
     "traceback": [
      "\u001b[0;31m---------------------------------------------------------------------------\u001b[0m",
      "\u001b[0;31mException\u001b[0m                                 Traceback (most recent call last)",
      "\u001b[0;32mpyross/inference.pyx\u001b[0m in \u001b[0;36mpyross.inference.SIR_type.obtain_full_mean_cov\u001b[0;34m()\u001b[0m\n",
      "\u001b[0;32mpyross/inference.pyx\u001b[0m in \u001b[0;36mpyross.inference.SppQ.integrate\u001b[0;34m()\u001b[0m\n",
      "\u001b[0;32mpyross/inference.pyx\u001b[0m in \u001b[0;36mpyross.inference.SIR_type.integrate\u001b[0;34m()\u001b[0m\n",
      "\u001b[0;31mException\u001b[0m: Error: method not found. use set_det_method to reset, or pass in a valid method"
     ]
    },
    {
     "name": "stderr",
     "output_type": "stream",
     "text": [
      "Exception ignored in: 'pyross.inference.SIR_type.obtain_log_p_for_traj_matrix_fltr'\n",
      "  File \"pyross/inference.pyx\", line 1329, in pyross.inference.SIR_type.obtain_full_mean_cov\n",
      "Traceback (most recent call last):\n",
      "  File \"pyross/inference.pyx\", line 2699, in pyross.inference.SppQ.integrate\n",
      "  File \"pyross/inference.pyx\", line 1329, in pyross.inference.SIR_type.obtain_full_mean_cov\n",
      "  File \"pyross/inference.pyx\", line 1527, in pyross.inference.SIR_type.integrate\n",
      "  File \"pyross/inference.pyx\", line 2699, in pyross.inference.SppQ.integrate\n",
      "Exception: Error: method not found. use set_det_method to reset, or pass in a valid method\n",
      "  File \"pyross/inference.pyx\", line 1527, in pyross.inference.SIR_type.integrate\n",
      "Exception: Error: method not found. use set_det_method to reset, or pass in a valid method\n"
     ]
    },
    {
     "ename": "Exception",
     "evalue": "Error: method not found. use set_det_method to reset, or pass in a valid method",
     "output_type": "error",
     "traceback": [
      "\u001b[0;31m---------------------------------------------------------------------------\u001b[0m",
      "\u001b[0;31mException\u001b[0m                                 Traceback (most recent call last)",
      "\u001b[0;32mpyross/inference.pyx\u001b[0m in \u001b[0;36mpyross.inference.SIR_type.obtain_full_mean_cov\u001b[0;34m()\u001b[0m\n",
      "\u001b[0;32mpyross/inference.pyx\u001b[0m in \u001b[0;36mpyross.inference.SppQ.integrate\u001b[0;34m()\u001b[0m\n",
      "\u001b[0;32mpyross/inference.pyx\u001b[0m in \u001b[0;36mpyross.inference.SIR_type.integrate\u001b[0;34m()\u001b[0m\n",
      "\u001b[0;31mException\u001b[0m: Error: method not found. use set_det_method to reset, or pass in a valid method"
     ]
    },
    {
     "name": "stderr",
     "output_type": "stream",
     "text": [
      "Exception ignored in: 'pyross.inference.SIR_type.obtain_log_p_for_traj_matrix_fltr'\n",
      "Traceback (most recent call last):\n",
      "  File \"pyross/inference.pyx\", line 1329, in pyross.inference.SIR_type.obtain_full_mean_cov\n",
      "  File \"pyross/inference.pyx\", line 2699, in pyross.inference.SppQ.integrate\n",
      "  File \"pyross/inference.pyx\", line 1527, in pyross.inference.SIR_type.integrate\n",
      "Exception: Error: method not found. use set_det_method to reset, or pass in a valid method\n"
     ]
    },
    {
     "ename": "Exception",
     "evalue": "Error: method not found. use set_det_method to reset, or pass in a valid method",
     "output_type": "error",
     "traceback": [
      "\u001b[0;31m---------------------------------------------------------------------------\u001b[0m",
      "\u001b[0;31mException\u001b[0m                                 Traceback (most recent call last)",
      "\u001b[0;32mpyross/inference.pyx\u001b[0m in \u001b[0;36mpyross.inference.SIR_type.obtain_full_mean_cov\u001b[0;34m()\u001b[0m\n",
      "\u001b[0;32mpyross/inference.pyx\u001b[0m in \u001b[0;36mpyross.inference.SppQ.integrate\u001b[0;34m()\u001b[0m\n",
      "\u001b[0;32mpyross/inference.pyx\u001b[0m in \u001b[0;36mpyross.inference.SIR_type.integrate\u001b[0;34m()\u001b[0m\n",
      "\u001b[0;31mException\u001b[0m: Error: method not found. use set_det_method to reset, or pass in a valid method"
     ]
    },
    {
     "name": "stderr",
     "output_type": "stream",
     "text": [
      "  File \"pyross/inference.pyx\", line 1527, in pyross.inference.SIR_type.integrate\n"
     ]
    },
    {
     "ename": "Exception",
     "evalue": "Error: method not found. use set_det_method to reset, or pass in a valid method",
     "output_type": "error",
     "traceback": [
      "\u001b[0;31m---------------------------------------------------------------------------\u001b[0m",
      "\u001b[0;31mException\u001b[0m                                 Traceback (most recent call last)",
      "\u001b[0;32mpyross/inference.pyx\u001b[0m in \u001b[0;36mpyross.inference.SIR_type.obtain_full_mean_cov\u001b[0;34m()\u001b[0m\n",
      "\u001b[0;32mpyross/inference.pyx\u001b[0m in \u001b[0;36mpyross.inference.SppQ.integrate\u001b[0;34m()\u001b[0m\n",
      "\u001b[0;32mpyross/inference.pyx\u001b[0m in \u001b[0;36mpyross.inference.SIR_type.integrate\u001b[0;34m()\u001b[0m\n",
      "\u001b[0;31mException\u001b[0m: Error: method not found. use set_det_method to reset, or pass in a valid method"
     ]
    },
    {
     "name": "stderr",
     "output_type": "stream",
     "text": [
      "Exception ignored in: 'pyross.inference.SIR_type.obtain_log_p_for_traj_matrix_fltr'\n",
      "Exception: Error: method not found. use set_det_method to reset, or pass in a valid method\n",
      "Traceback (most recent call last):\n",
      "Exception ignored in: 'pyross.inference.SIR_type.obtain_log_p_for_traj_matrix_fltr'\n",
      "Traceback (most recent call last):\n",
      "  File \"pyross/inference.pyx\", line 1329, in pyross.inference.SIR_type.obtain_full_mean_cov\n",
      "  File \"pyross/inference.pyx\", line 1329, in pyross.inference.SIR_type.obtain_full_mean_cov\n",
      "  File \"pyross/inference.pyx\", line 2699, in pyross.inference.SppQ.integrate\n"
     ]
    },
    {
     "ename": "Exception",
     "evalue": "Error: method not found. use set_det_method to reset, or pass in a valid method",
     "output_type": "error",
     "traceback": [
      "\u001b[0;31m---------------------------------------------------------------------------\u001b[0m",
      "\u001b[0;31mException\u001b[0m                                 Traceback (most recent call last)",
      "\u001b[0;32mpyross/inference.pyx\u001b[0m in \u001b[0;36mpyross.inference.SIR_type.obtain_full_mean_cov\u001b[0;34m()\u001b[0m\n",
      "\u001b[0;32mpyross/inference.pyx\u001b[0m in \u001b[0;36mpyross.inference.SppQ.integrate\u001b[0;34m()\u001b[0m\n",
      "\u001b[0;32mpyross/inference.pyx\u001b[0m in \u001b[0;36mpyross.inference.SIR_type.integrate\u001b[0;34m()\u001b[0m\n",
      "\u001b[0;31mException\u001b[0m: Error: method not found. use set_det_method to reset, or pass in a valid method"
     ]
    },
    {
     "name": "stderr",
     "output_type": "stream",
     "text": [
      "  File \"pyross/inference.pyx\", line 2699, in pyross.inference.SppQ.integrate\n",
      "  File \"pyross/inference.pyx\", line 1527, in pyross.inference.SIR_type.integrate\n",
      "Exception ignored in: 'pyross.inference.SIR_type.obtain_log_p_for_traj_matrix_fltr'\n",
      "Traceback (most recent call last):\n",
      "Exception: Error: method not found. use set_det_method to reset, or pass in a valid method\n",
      "  File \"pyross/inference.pyx\", line 1527, in pyross.inference.SIR_type.integrate\n",
      "  File \"pyross/inference.pyx\", line 1329, in pyross.inference.SIR_type.obtain_full_mean_cov\n",
      "Exception: Error: method not found. use set_det_method to reset, or pass in a valid method\n",
      "  File \"pyross/inference.pyx\", line 2699, in pyross.inference.SppQ.integrate\n",
      "  File \"pyross/inference.pyx\", line 1527, in pyross.inference.SIR_type.integrate\n",
      "Exception: Error: method not found. use set_det_method to reset, or pass in a valid method\n"
     ]
    },
    {
     "ename": "Exception",
     "evalue": "Error: method not found. use set_det_method to reset, or pass in a valid method",
     "output_type": "error",
     "traceback": [
      "\u001b[0;31m---------------------------------------------------------------------------\u001b[0m",
      "\u001b[0;31mException\u001b[0m                                 Traceback (most recent call last)",
      "\u001b[0;32mpyross/inference.pyx\u001b[0m in \u001b[0;36mpyross.inference.SIR_type.obtain_full_mean_cov\u001b[0;34m()\u001b[0m\n",
      "\u001b[0;32mpyross/inference.pyx\u001b[0m in \u001b[0;36mpyross.inference.SppQ.integrate\u001b[0;34m()\u001b[0m\n",
      "\u001b[0;32mpyross/inference.pyx\u001b[0m in \u001b[0;36mpyross.inference.SIR_type.integrate\u001b[0;34m()\u001b[0m\n",
      "\u001b[0;31mException\u001b[0m: Error: method not found. use set_det_method to reset, or pass in a valid method"
     ]
    },
    {
     "name": "stderr",
     "output_type": "stream",
     "text": [
      "Exception ignored in: 'pyross.inference.SIR_type.obtain_log_p_for_traj_matrix_fltr'\n",
      "Traceback (most recent call last):\n",
      "  File \"pyross/inference.pyx\", line 1329, in pyross.inference.SIR_type.obtain_full_mean_cov\n"
     ]
    },
    {
     "ename": "Exception",
     "evalue": "Error: method not found. use set_det_method to reset, or pass in a valid method",
     "output_type": "error",
     "traceback": [
      "\u001b[0;31m---------------------------------------------------------------------------\u001b[0m",
      "\u001b[0;31mException\u001b[0m                                 Traceback (most recent call last)",
      "\u001b[0;32mpyross/inference.pyx\u001b[0m in \u001b[0;36mpyross.inference.SIR_type.obtain_full_mean_cov\u001b[0;34m()\u001b[0m\n",
      "\u001b[0;32mpyross/inference.pyx\u001b[0m in \u001b[0;36mpyross.inference.SppQ.integrate\u001b[0;34m()\u001b[0m\n",
      "\u001b[0;32mpyross/inference.pyx\u001b[0m in \u001b[0;36mpyross.inference.SIR_type.integrate\u001b[0;34m()\u001b[0m\n",
      "\u001b[0;31mException\u001b[0m: Error: method not found. use set_det_method to reset, or pass in a valid method"
     ]
    },
    {
     "name": "stderr",
     "output_type": "stream",
     "text": [
      "  File \"pyross/inference.pyx\", line 2699, in pyross.inference.SppQ.integrate\n",
      "Exception ignored in: 'pyross.inference.SIR_type.obtain_log_p_for_traj_matrix_fltr'\n",
      "  File \"pyross/inference.pyx\", line 1527, in pyross.inference.SIR_type.integrate\n",
      "Exception: Error: method not found. use set_det_method to reset, or pass in a valid method\n"
     ]
    },
    {
     "ename": "Exception",
     "evalue": "Error: method not found. use set_det_method to reset, or pass in a valid method",
     "output_type": "error",
     "traceback": [
      "\u001b[0;31m---------------------------------------------------------------------------\u001b[0m",
      "\u001b[0;31mException\u001b[0m                                 Traceback (most recent call last)",
      "\u001b[0;32mpyross/inference.pyx\u001b[0m in \u001b[0;36mpyross.inference.SIR_type.obtain_full_mean_cov\u001b[0;34m()\u001b[0m\n",
      "\u001b[0;32mpyross/inference.pyx\u001b[0m in \u001b[0;36mpyross.inference.SppQ.integrate\u001b[0;34m()\u001b[0m\n",
      "\u001b[0;32mpyross/inference.pyx\u001b[0m in \u001b[0;36mpyross.inference.SIR_type.integrate\u001b[0;34m()\u001b[0m\n",
      "\u001b[0;31mException\u001b[0m: Error: method not found. use set_det_method to reset, or pass in a valid method"
     ]
    },
    {
     "name": "stderr",
     "output_type": "stream",
     "text": [
      "Traceback (most recent call last):\n",
      "Exception ignored in: 'pyross.inference.SIR_type.obtain_log_p_for_traj_matrix_fltr'\n",
      "  File \"pyross/inference.pyx\", line 1329, in pyross.inference.SIR_type.obtain_full_mean_cov\n",
      "Traceback (most recent call last):\n",
      "  File \"pyross/inference.pyx\", line 1329, in pyross.inference.SIR_type.obtain_full_mean_cov\n",
      "  File \"pyross/inference.pyx\", line 2699, in pyross.inference.SppQ.integrate\n",
      "  File \"pyross/inference.pyx\", line 2699, in pyross.inference.SppQ.integrate\n",
      "  File \"pyross/inference.pyx\", line 1527, in pyross.inference.SIR_type.integrate\n",
      "  File \"pyross/inference.pyx\", line 1527, in pyross.inference.SIR_type.integrate\n"
     ]
    },
    {
     "ename": "Exception",
     "evalue": "Error: method not found. use set_det_method to reset, or pass in a valid method",
     "output_type": "error",
     "traceback": [
      "\u001b[0;31m---------------------------------------------------------------------------\u001b[0m",
      "\u001b[0;31mException\u001b[0m                                 Traceback (most recent call last)",
      "\u001b[0;32mpyross/inference.pyx\u001b[0m in \u001b[0;36mpyross.inference.SIR_type.obtain_full_mean_cov\u001b[0;34m()\u001b[0m\n",
      "\u001b[0;32mpyross/inference.pyx\u001b[0m in \u001b[0;36mpyross.inference.SppQ.integrate\u001b[0;34m()\u001b[0m\n",
      "\u001b[0;32mpyross/inference.pyx\u001b[0m in \u001b[0;36mpyross.inference.SIR_type.integrate\u001b[0;34m()\u001b[0m\n",
      "\u001b[0;31mException\u001b[0m: Error: method not found. use set_det_method to reset, or pass in a valid method"
     ]
    },
    {
     "name": "stderr",
     "output_type": "stream",
     "text": [
      "Exception: Error: method not found. use set_det_method to reset, or pass in a valid method\n",
      "Exception ignored in: 'pyross.inference.SIR_type.obtain_log_p_for_traj_matrix_fltr'\n",
      "Exception: Error: method not found. use set_det_method to reset, or pass in a valid method\n",
      "Traceback (most recent call last):\n",
      "  File \"pyross/inference.pyx\", line 1329, in pyross.inference.SIR_type.obtain_full_mean_cov\n",
      "  File \"pyross/inference.pyx\", line 2699, in pyross.inference.SppQ.integrate\n",
      "  File \"pyross/inference.pyx\", line 1527, in pyross.inference.SIR_type.integrate\n",
      "Exception: Error: method not found. use set_det_method to reset, or pass in a valid method\n"
     ]
    },
    {
     "name": "stdout",
     "output_type": "stream",
     "text": [
      "    3     48 -3.781612682250808e+01 1.4e+00 9.25e-01  8e-05  8e-02 0:00.2\n"
     ]
    },
    {
     "ename": "Exception",
     "evalue": "Error: method not found. use set_det_method to reset, or pass in a valid method",
     "output_type": "error",
     "traceback": [
      "\u001b[0;31m---------------------------------------------------------------------------\u001b[0m",
      "\u001b[0;31mException\u001b[0m                                 Traceback (most recent call last)",
      "\u001b[0;32mpyross/inference.pyx\u001b[0m in \u001b[0;36mpyross.inference.SIR_type.obtain_full_mean_cov\u001b[0;34m()\u001b[0m\n",
      "\u001b[0;32mpyross/inference.pyx\u001b[0m in \u001b[0;36mpyross.inference.SppQ.integrate\u001b[0;34m()\u001b[0m\n",
      "\u001b[0;32mpyross/inference.pyx\u001b[0m in \u001b[0;36mpyross.inference.SIR_type.integrate\u001b[0;34m()\u001b[0m\n",
      "\u001b[0;31mException\u001b[0m: Error: method not found. use set_det_method to reset, or pass in a valid method"
     ]
    },
    {
     "name": "stderr",
     "output_type": "stream",
     "text": [
      "Exception ignored in: 'pyross.inference.SIR_type.obtain_log_p_for_traj_matrix_fltr'\n",
      "Traceback (most recent call last):\n",
      "  File \"pyross/inference.pyx\", line 1329, in pyross.inference.SIR_type.obtain_full_mean_cov\n",
      "  File \"pyross/inference.pyx\", line 2699, in pyross.inference.SppQ.integrate\n",
      "  File \"pyross/inference.pyx\", line 1527, in pyross.inference.SIR_type.integrate\n",
      "Exception: Error: method not found. use set_det_method to reset, or pass in a valid method\n",
      "  File \"pyross/inference.pyx\", line 2699, in pyross.inference.SppQ.integrate\n"
     ]
    },
    {
     "ename": "Exception",
     "evalue": "Error: method not found. use set_det_method to reset, or pass in a valid method",
     "output_type": "error",
     "traceback": [
      "\u001b[0;31m---------------------------------------------------------------------------\u001b[0m",
      "\u001b[0;31mException\u001b[0m                                 Traceback (most recent call last)",
      "\u001b[0;32mpyross/inference.pyx\u001b[0m in \u001b[0;36mpyross.inference.SIR_type.obtain_full_mean_cov\u001b[0;34m()\u001b[0m\n",
      "\u001b[0;32mpyross/inference.pyx\u001b[0m in \u001b[0;36mpyross.inference.SppQ.integrate\u001b[0;34m()\u001b[0m\n",
      "\u001b[0;32mpyross/inference.pyx\u001b[0m in \u001b[0;36mpyross.inference.SIR_type.integrate\u001b[0;34m()\u001b[0m\n",
      "\u001b[0;31mException\u001b[0m: Error: method not found. use set_det_method to reset, or pass in a valid method"
     ]
    },
    {
     "ename": "Exception",
     "evalue": "Error: method not found. use set_det_method to reset, or pass in a valid method",
     "output_type": "error",
     "traceback": [
      "\u001b[0;31m---------------------------------------------------------------------------\u001b[0m",
      "\u001b[0;31mException\u001b[0m                                 Traceback (most recent call last)",
      "\u001b[0;32mpyross/inference.pyx\u001b[0m in \u001b[0;36mpyross.inference.SIR_type.obtain_full_mean_cov\u001b[0;34m()\u001b[0m\n",
      "\u001b[0;32mpyross/inference.pyx\u001b[0m in \u001b[0;36mpyross.inference.SppQ.integrate\u001b[0;34m()\u001b[0m\n",
      "\u001b[0;32mpyross/inference.pyx\u001b[0m in \u001b[0;36mpyross.inference.SIR_type.integrate\u001b[0;34m()\u001b[0m\n",
      "\u001b[0;31mException\u001b[0m: Error: method not found. use set_det_method to reset, or pass in a valid method"
     ]
    },
    {
     "name": "stderr",
     "output_type": "stream",
     "text": [
      "Exception ignored in: 'pyross.inference.SIR_type.obtain_log_p_for_traj_matrix_fltr'\n",
      "Exception ignored in: 'pyross.inference.SIR_type.obtain_log_p_for_traj_matrix_fltr'\n",
      "Traceback (most recent call last):\n",
      "Traceback (most recent call last):\n",
      "  File \"pyross/inference.pyx\", line 1329, in pyross.inference.SIR_type.obtain_full_mean_cov\n",
      "  File \"pyross/inference.pyx\", line 1329, in pyross.inference.SIR_type.obtain_full_mean_cov\n",
      "  File \"pyross/inference.pyx\", line 2699, in pyross.inference.SppQ.integrate\n",
      "  File \"pyross/inference.pyx\", line 1527, in pyross.inference.SIR_type.integrate\n",
      "Exception: Error: method not found. use set_det_method to reset, or pass in a valid method\n"
     ]
    },
    {
     "ename": "Exception",
     "evalue": "Error: method not found. use set_det_method to reset, or pass in a valid method",
     "output_type": "error",
     "traceback": [
      "\u001b[0;31m---------------------------------------------------------------------------\u001b[0m",
      "\u001b[0;31mException\u001b[0m                                 Traceback (most recent call last)",
      "\u001b[0;32mpyross/inference.pyx\u001b[0m in \u001b[0;36mpyross.inference.SIR_type.obtain_full_mean_cov\u001b[0;34m()\u001b[0m\n",
      "\u001b[0;32mpyross/inference.pyx\u001b[0m in \u001b[0;36mpyross.inference.SppQ.integrate\u001b[0;34m()\u001b[0m\n",
      "\u001b[0;32mpyross/inference.pyx\u001b[0m in \u001b[0;36mpyross.inference.SIR_type.integrate\u001b[0;34m()\u001b[0m\n",
      "\u001b[0;31mException\u001b[0m: Error: method not found. use set_det_method to reset, or pass in a valid method"
     ]
    },
    {
     "name": "stderr",
     "output_type": "stream",
     "text": [
      "Exception ignored in: 'pyross.inference.SIR_type.obtain_log_p_for_traj_matrix_fltr'\n",
      "Traceback (most recent call last):\n",
      "  File \"pyross/inference.pyx\", line 1329, in pyross.inference.SIR_type.obtain_full_mean_cov\n",
      "  File \"pyross/inference.pyx\", line 2699, in pyross.inference.SppQ.integrate\n",
      "  File \"pyross/inference.pyx\", line 1527, in pyross.inference.SIR_type.integrate\n",
      "Exception: Error: method not found. use set_det_method to reset, or pass in a valid method\n",
      "  File \"pyross/inference.pyx\", line 1527, in pyross.inference.SIR_type.integrate\n",
      "Exception: Error: method not found. use set_det_method to reset, or pass in a valid method\n"
     ]
    },
    {
     "ename": "Exception",
     "evalue": "Error: method not found. use set_det_method to reset, or pass in a valid method",
     "output_type": "error",
     "traceback": [
      "\u001b[0;31m---------------------------------------------------------------------------\u001b[0m",
      "\u001b[0;31mException\u001b[0m                                 Traceback (most recent call last)",
      "\u001b[0;32mpyross/inference.pyx\u001b[0m in \u001b[0;36mpyross.inference.SIR_type.obtain_full_mean_cov\u001b[0;34m()\u001b[0m\n",
      "\u001b[0;32mpyross/inference.pyx\u001b[0m in \u001b[0;36mpyross.inference.SppQ.integrate\u001b[0;34m()\u001b[0m\n",
      "\u001b[0;32mpyross/inference.pyx\u001b[0m in \u001b[0;36mpyross.inference.SIR_type.integrate\u001b[0;34m()\u001b[0m\n",
      "\u001b[0;31mException\u001b[0m: Error: method not found. use set_det_method to reset, or pass in a valid method"
     ]
    },
    {
     "name": "stderr",
     "output_type": "stream",
     "text": [
      "Exception ignored in: 'pyross.inference.SIR_type.obtain_log_p_for_traj_matrix_fltr'\n",
      "Traceback (most recent call last):\n",
      "  File \"pyross/inference.pyx\", line 1329, in pyross.inference.SIR_type.obtain_full_mean_cov\n",
      "  File \"pyross/inference.pyx\", line 2699, in pyross.inference.SppQ.integrate\n",
      "  File \"pyross/inference.pyx\", line 1527, in pyross.inference.SIR_type.integrate\n",
      "Exception: Error: method not found. use set_det_method to reset, or pass in a valid method\n"
     ]
    },
    {
     "ename": "Exception",
     "evalue": "Error: method not found. use set_det_method to reset, or pass in a valid method",
     "output_type": "error",
     "traceback": [
      "\u001b[0;31m---------------------------------------------------------------------------\u001b[0m",
      "\u001b[0;31mException\u001b[0m                                 Traceback (most recent call last)",
      "\u001b[0;32mpyross/inference.pyx\u001b[0m in \u001b[0;36mpyross.inference.SIR_type.obtain_full_mean_cov\u001b[0;34m()\u001b[0m\n",
      "\u001b[0;32mpyross/inference.pyx\u001b[0m in \u001b[0;36mpyross.inference.SppQ.integrate\u001b[0;34m()\u001b[0m\n",
      "\u001b[0;32mpyross/inference.pyx\u001b[0m in \u001b[0;36mpyross.inference.SIR_type.integrate\u001b[0;34m()\u001b[0m\n",
      "\u001b[0;31mException\u001b[0m: Error: method not found. use set_det_method to reset, or pass in a valid method"
     ]
    },
    {
     "name": "stderr",
     "output_type": "stream",
     "text": [
      "Exception ignored in: 'pyross.inference.SIR_type.obtain_log_p_for_traj_matrix_fltr'\n",
      "Traceback (most recent call last):\n",
      "  File \"pyross/inference.pyx\", line 1329, in pyross.inference.SIR_type.obtain_full_mean_cov\n",
      "  File \"pyross/inference.pyx\", line 2699, in pyross.inference.SppQ.integrate\n",
      "  File \"pyross/inference.pyx\", line 1527, in pyross.inference.SIR_type.integrate\n",
      "Exception: Error: method not found. use set_det_method to reset, or pass in a valid method\n"
     ]
    },
    {
     "ename": "Exception",
     "evalue": "Error: method not found. use set_det_method to reset, or pass in a valid method",
     "output_type": "error",
     "traceback": [
      "\u001b[0;31m---------------------------------------------------------------------------\u001b[0m",
      "\u001b[0;31mException\u001b[0m                                 Traceback (most recent call last)",
      "\u001b[0;32mpyross/inference.pyx\u001b[0m in \u001b[0;36mpyross.inference.SIR_type.obtain_full_mean_cov\u001b[0;34m()\u001b[0m\n",
      "\u001b[0;32mpyross/inference.pyx\u001b[0m in \u001b[0;36mpyross.inference.SppQ.integrate\u001b[0;34m()\u001b[0m\n",
      "\u001b[0;32mpyross/inference.pyx\u001b[0m in \u001b[0;36mpyross.inference.SIR_type.integrate\u001b[0;34m()\u001b[0m\n",
      "\u001b[0;31mException\u001b[0m: Error: method not found. use set_det_method to reset, or pass in a valid method"
     ]
    },
    {
     "name": "stderr",
     "output_type": "stream",
     "text": [
      "Exception ignored in: 'pyross.inference.SIR_type.obtain_log_p_for_traj_matrix_fltr'\n",
      "Traceback (most recent call last):\n",
      "  File \"pyross/inference.pyx\", line 1329, in pyross.inference.SIR_type.obtain_full_mean_cov\n",
      "  File \"pyross/inference.pyx\", line 2699, in pyross.inference.SppQ.integrate\n"
     ]
    },
    {
     "ename": "Exception",
     "evalue": "Error: method not found. use set_det_method to reset, or pass in a valid method",
     "output_type": "error",
     "traceback": [
      "\u001b[0;31m---------------------------------------------------------------------------\u001b[0m",
      "\u001b[0;31mException\u001b[0m                                 Traceback (most recent call last)",
      "\u001b[0;32mpyross/inference.pyx\u001b[0m in \u001b[0;36mpyross.inference.SIR_type.obtain_full_mean_cov\u001b[0;34m()\u001b[0m\n",
      "\u001b[0;32mpyross/inference.pyx\u001b[0m in \u001b[0;36mpyross.inference.SppQ.integrate\u001b[0;34m()\u001b[0m\n",
      "\u001b[0;32mpyross/inference.pyx\u001b[0m in \u001b[0;36mpyross.inference.SIR_type.integrate\u001b[0;34m()\u001b[0m\n",
      "\u001b[0;31mException\u001b[0m: Error: method not found. use set_det_method to reset, or pass in a valid method"
     ]
    },
    {
     "name": "stderr",
     "output_type": "stream",
     "text": [
      "Exception ignored in: 'pyross.inference.SIR_type.obtain_log_p_for_traj_matrix_fltr'\n",
      "  File \"pyross/inference.pyx\", line 1527, in pyross.inference.SIR_type.integrate\n",
      "Exception: Error: method not found. use set_det_method to reset, or pass in a valid method\n"
     ]
    },
    {
     "ename": "Exception",
     "evalue": "Error: method not found. use set_det_method to reset, or pass in a valid method",
     "output_type": "error",
     "traceback": [
      "\u001b[0;31m---------------------------------------------------------------------------\u001b[0m",
      "\u001b[0;31mException\u001b[0m                                 Traceback (most recent call last)",
      "\u001b[0;32mpyross/inference.pyx\u001b[0m in \u001b[0;36mpyross.inference.SIR_type.obtain_full_mean_cov\u001b[0;34m()\u001b[0m\n",
      "\u001b[0;32mpyross/inference.pyx\u001b[0m in \u001b[0;36mpyross.inference.SppQ.integrate\u001b[0;34m()\u001b[0m\n",
      "\u001b[0;32mpyross/inference.pyx\u001b[0m in \u001b[0;36mpyross.inference.SIR_type.integrate\u001b[0;34m()\u001b[0m\n",
      "\u001b[0;31mException\u001b[0m: Error: method not found. use set_det_method to reset, or pass in a valid method"
     ]
    },
    {
     "name": "stderr",
     "output_type": "stream",
     "text": [
      "Exception ignored in: 'pyross.inference.SIR_type.obtain_log_p_for_traj_matrix_fltr'\n",
      "Traceback (most recent call last):\n"
     ]
    },
    {
     "ename": "Exception",
     "evalue": "Error: method not found. use set_det_method to reset, or pass in a valid method",
     "output_type": "error",
     "traceback": [
      "\u001b[0;31m---------------------------------------------------------------------------\u001b[0m",
      "\u001b[0;31mException\u001b[0m                                 Traceback (most recent call last)",
      "\u001b[0;32mpyross/inference.pyx\u001b[0m in \u001b[0;36mpyross.inference.SIR_type.obtain_full_mean_cov\u001b[0;34m()\u001b[0m\n",
      "\u001b[0;32mpyross/inference.pyx\u001b[0m in \u001b[0;36mpyross.inference.SppQ.integrate\u001b[0;34m()\u001b[0m\n",
      "\u001b[0;32mpyross/inference.pyx\u001b[0m in \u001b[0;36mpyross.inference.SIR_type.integrate\u001b[0;34m()\u001b[0m\n",
      "\u001b[0;31mException\u001b[0m: Error: method not found. use set_det_method to reset, or pass in a valid method"
     ]
    },
    {
     "name": "stderr",
     "output_type": "stream",
     "text": [
      "Traceback (most recent call last):\n",
      "  File \"pyross/inference.pyx\", line 1329, in pyross.inference.SIR_type.obtain_full_mean_cov\n",
      "  File \"pyross/inference.pyx\", line 1329, in pyross.inference.SIR_type.obtain_full_mean_cov\n",
      "Exception ignored in: 'pyross.inference.SIR_type.obtain_log_p_for_traj_matrix_fltr'\n",
      "  File \"pyross/inference.pyx\", line 2699, in pyross.inference.SppQ.integrate\n",
      "  File \"pyross/inference.pyx\", line 2699, in pyross.inference.SppQ.integrate\n",
      "  File \"pyross/inference.pyx\", line 1527, in pyross.inference.SIR_type.integrate\n",
      "Traceback (most recent call last):\n",
      "  File \"pyross/inference.pyx\", line 1527, in pyross.inference.SIR_type.integrate\n",
      "Exception: Error: method not found. use set_det_method to reset, or pass in a valid method\n",
      "Exception: Error: method not found. use set_det_method to reset, or pass in a valid method\n",
      "  File \"pyross/inference.pyx\", line 1329, in pyross.inference.SIR_type.obtain_full_mean_cov\n"
     ]
    },
    {
     "ename": "Exception",
     "evalue": "Error: method not found. use set_det_method to reset, or pass in a valid method",
     "output_type": "error",
     "traceback": [
      "\u001b[0;31m---------------------------------------------------------------------------\u001b[0m",
      "\u001b[0;31mException\u001b[0m                                 Traceback (most recent call last)",
      "\u001b[0;32mpyross/inference.pyx\u001b[0m in \u001b[0;36mpyross.inference.SIR_type.obtain_full_mean_cov\u001b[0;34m()\u001b[0m\n",
      "\u001b[0;32mpyross/inference.pyx\u001b[0m in \u001b[0;36mpyross.inference.SppQ.integrate\u001b[0;34m()\u001b[0m\n",
      "\u001b[0;32mpyross/inference.pyx\u001b[0m in \u001b[0;36mpyross.inference.SIR_type.integrate\u001b[0;34m()\u001b[0m\n",
      "\u001b[0;31mException\u001b[0m: Error: method not found. use set_det_method to reset, or pass in a valid method"
     ]
    },
    {
     "name": "stderr",
     "output_type": "stream",
     "text": [
      "Exception ignored in: 'pyross.inference.SIR_type.obtain_log_p_for_traj_matrix_fltr'\n",
      "Traceback (most recent call last):\n",
      "  File \"pyross/inference.pyx\", line 1329, in pyross.inference.SIR_type.obtain_full_mean_cov\n",
      "  File \"pyross/inference.pyx\", line 2699, in pyross.inference.SppQ.integrate\n",
      "  File \"pyross/inference.pyx\", line 1527, in pyross.inference.SIR_type.integrate\n",
      "Exception: Error: method not found. use set_det_method to reset, or pass in a valid method\n",
      "  File \"pyross/inference.pyx\", line 2699, in pyross.inference.SppQ.integrate\n",
      "  File \"pyross/inference.pyx\", line 1527, in pyross.inference.SIR_type.integrate\n",
      "Exception: Error: method not found. use set_det_method to reset, or pass in a valid method\n"
     ]
    },
    {
     "ename": "Exception",
     "evalue": "Error: method not found. use set_det_method to reset, or pass in a valid method",
     "output_type": "error",
     "traceback": [
      "\u001b[0;31m---------------------------------------------------------------------------\u001b[0m",
      "\u001b[0;31mException\u001b[0m                                 Traceback (most recent call last)",
      "\u001b[0;32mpyross/inference.pyx\u001b[0m in \u001b[0;36mpyross.inference.SIR_type.obtain_full_mean_cov\u001b[0;34m()\u001b[0m\n",
      "\u001b[0;32mpyross/inference.pyx\u001b[0m in \u001b[0;36mpyross.inference.SppQ.integrate\u001b[0;34m()\u001b[0m\n",
      "\u001b[0;32mpyross/inference.pyx\u001b[0m in \u001b[0;36mpyross.inference.SIR_type.integrate\u001b[0;34m()\u001b[0m\n",
      "\u001b[0;31mException\u001b[0m: Error: method not found. use set_det_method to reset, or pass in a valid method"
     ]
    },
    {
     "name": "stderr",
     "output_type": "stream",
     "text": [
      "Exception ignored in: 'pyross.inference.SIR_type.obtain_log_p_for_traj_matrix_fltr'\n",
      "Traceback (most recent call last):\n"
     ]
    },
    {
     "ename": "Exception",
     "evalue": "Error: method not found. use set_det_method to reset, or pass in a valid method",
     "output_type": "error",
     "traceback": [
      "\u001b[0;31m---------------------------------------------------------------------------\u001b[0m",
      "\u001b[0;31mException\u001b[0m                                 Traceback (most recent call last)",
      "\u001b[0;32mpyross/inference.pyx\u001b[0m in \u001b[0;36mpyross.inference.SIR_type.obtain_full_mean_cov\u001b[0;34m()\u001b[0m\n",
      "\u001b[0;32mpyross/inference.pyx\u001b[0m in \u001b[0;36mpyross.inference.SppQ.integrate\u001b[0;34m()\u001b[0m\n",
      "\u001b[0;32mpyross/inference.pyx\u001b[0m in \u001b[0;36mpyross.inference.SIR_type.integrate\u001b[0;34m()\u001b[0m\n",
      "\u001b[0;31mException\u001b[0m: Error: method not found. use set_det_method to reset, or pass in a valid method"
     ]
    },
    {
     "name": "stderr",
     "output_type": "stream",
     "text": [
      "Exception ignored in: 'pyross.inference.SIR_type.obtain_log_p_for_traj_matrix_fltr'\n",
      "Traceback (most recent call last):\n",
      "  File \"pyross/inference.pyx\", line 1329, in pyross.inference.SIR_type.obtain_full_mean_cov\n",
      "  File \"pyross/inference.pyx\", line 2699, in pyross.inference.SppQ.integrate\n",
      "  File \"pyross/inference.pyx\", line 1527, in pyross.inference.SIR_type.integrate\n",
      "  File \"pyross/inference.pyx\", line 1329, in pyross.inference.SIR_type.obtain_full_mean_cov\n",
      "Exception: Error: method not found. use set_det_method to reset, or pass in a valid method\n",
      "  File \"pyross/inference.pyx\", line 2699, in pyross.inference.SppQ.integrate\n"
     ]
    },
    {
     "ename": "Exception",
     "evalue": "Error: method not found. use set_det_method to reset, or pass in a valid method",
     "output_type": "error",
     "traceback": [
      "\u001b[0;31m---------------------------------------------------------------------------\u001b[0m",
      "\u001b[0;31mException\u001b[0m                                 Traceback (most recent call last)",
      "\u001b[0;32mpyross/inference.pyx\u001b[0m in \u001b[0;36mpyross.inference.SIR_type.obtain_full_mean_cov\u001b[0;34m()\u001b[0m\n",
      "\u001b[0;32mpyross/inference.pyx\u001b[0m in \u001b[0;36mpyross.inference.SppQ.integrate\u001b[0;34m()\u001b[0m\n",
      "\u001b[0;32mpyross/inference.pyx\u001b[0m in \u001b[0;36mpyross.inference.SIR_type.integrate\u001b[0;34m()\u001b[0m\n",
      "\u001b[0;31mException\u001b[0m: Error: method not found. use set_det_method to reset, or pass in a valid method"
     ]
    },
    {
     "name": "stderr",
     "output_type": "stream",
     "text": [
      "  File \"pyross/inference.pyx\", line 1527, in pyross.inference.SIR_type.integrate\n",
      "Exception ignored in: 'pyross.inference.SIR_type.obtain_log_p_for_traj_matrix_fltr'\n",
      "Exception: Error: method not found. use set_det_method to reset, or pass in a valid method\n",
      "Traceback (most recent call last):\n",
      "  File \"pyross/inference.pyx\", line 1329, in pyross.inference.SIR_type.obtain_full_mean_cov\n",
      "  File \"pyross/inference.pyx\", line 2699, in pyross.inference.SppQ.integrate\n",
      "  File \"pyross/inference.pyx\", line 1527, in pyross.inference.SIR_type.integrate\n",
      "Exception: Error: method not found. use set_det_method to reset, or pass in a valid method\n"
     ]
    },
    {
     "ename": "Exception",
     "evalue": "Error: method not found. use set_det_method to reset, or pass in a valid method",
     "output_type": "error",
     "traceback": [
      "\u001b[0;31m---------------------------------------------------------------------------\u001b[0m",
      "\u001b[0;31mException\u001b[0m                                 Traceback (most recent call last)",
      "\u001b[0;32mpyross/inference.pyx\u001b[0m in \u001b[0;36mpyross.inference.SIR_type.obtain_full_mean_cov\u001b[0;34m()\u001b[0m\n",
      "\u001b[0;32mpyross/inference.pyx\u001b[0m in \u001b[0;36mpyross.inference.SppQ.integrate\u001b[0;34m()\u001b[0m\n",
      "\u001b[0;32mpyross/inference.pyx\u001b[0m in \u001b[0;36mpyross.inference.SIR_type.integrate\u001b[0;34m()\u001b[0m\n",
      "\u001b[0;31mException\u001b[0m: Error: method not found. use set_det_method to reset, or pass in a valid method"
     ]
    },
    {
     "name": "stderr",
     "output_type": "stream",
     "text": [
      "Exception ignored in: 'pyross.inference.SIR_type.obtain_log_p_for_traj_matrix_fltr'\n",
      "Traceback (most recent call last):\n",
      "  File \"pyross/inference.pyx\", line 1329, in pyross.inference.SIR_type.obtain_full_mean_cov\n",
      "  File \"pyross/inference.pyx\", line 2699, in pyross.inference.SppQ.integrate\n",
      "  File \"pyross/inference.pyx\", line 1527, in pyross.inference.SIR_type.integrate\n",
      "Exception: Error: method not found. use set_det_method to reset, or pass in a valid method\n"
     ]
    },
    {
     "ename": "Exception",
     "evalue": "Error: method not found. use set_det_method to reset, or pass in a valid method",
     "output_type": "error",
     "traceback": [
      "\u001b[0;31m---------------------------------------------------------------------------\u001b[0m",
      "\u001b[0;31mException\u001b[0m                                 Traceback (most recent call last)",
      "\u001b[0;32mpyross/inference.pyx\u001b[0m in \u001b[0;36mpyross.inference.SIR_type.obtain_full_mean_cov\u001b[0;34m()\u001b[0m\n",
      "\u001b[0;32mpyross/inference.pyx\u001b[0m in \u001b[0;36mpyross.inference.SppQ.integrate\u001b[0;34m()\u001b[0m\n",
      "\u001b[0;32mpyross/inference.pyx\u001b[0m in \u001b[0;36mpyross.inference.SIR_type.integrate\u001b[0;34m()\u001b[0m\n",
      "\u001b[0;31mException\u001b[0m: Error: method not found. use set_det_method to reset, or pass in a valid method"
     ]
    },
    {
     "name": "stderr",
     "output_type": "stream",
     "text": [
      "Exception ignored in: 'pyross.inference.SIR_type.obtain_log_p_for_traj_matrix_fltr'\n",
      "Traceback (most recent call last):\n",
      "  File \"pyross/inference.pyx\", line 1329, in pyross.inference.SIR_type.obtain_full_mean_cov\n",
      "  File \"pyross/inference.pyx\", line 2699, in pyross.inference.SppQ.integrate\n",
      "  File \"pyross/inference.pyx\", line 1527, in pyross.inference.SIR_type.integrate\n",
      "Exception: Error: method not found. use set_det_method to reset, or pass in a valid method\n"
     ]
    },
    {
     "name": "stdout",
     "output_type": "stream",
     "text": [
      "    4     64 -3.808832610646284e+01 1.6e+00 8.62e-01  8e-05  7e-02 0:00.3\n",
      "Optimal value (global minimisation):  -38.088326106462844\n",
      "Starting local minimisation...\n"
     ]
    },
    {
     "ename": "Exception",
     "evalue": "Error: method not found. use set_det_method to reset, or pass in a valid method",
     "output_type": "error",
     "traceback": [
      "\u001b[0;31m---------------------------------------------------------------------------\u001b[0m",
      "\u001b[0;31mException\u001b[0m                                 Traceback (most recent call last)",
      "\u001b[0;32mpyross/inference.pyx\u001b[0m in \u001b[0;36mpyross.inference.SIR_type.obtain_full_mean_cov\u001b[0;34m()\u001b[0m\n",
      "\u001b[0;32mpyross/inference.pyx\u001b[0m in \u001b[0;36mpyross.inference.SppQ.integrate\u001b[0;34m()\u001b[0m\n",
      "\u001b[0;32mpyross/inference.pyx\u001b[0m in \u001b[0;36mpyross.inference.SIR_type.integrate\u001b[0;34m()\u001b[0m\n",
      "\u001b[0;31mException\u001b[0m: Error: method not found. use set_det_method to reset, or pass in a valid method"
     ]
    },
    {
     "name": "stderr",
     "output_type": "stream",
     "text": [
      "Exception ignored in: 'pyross.inference.SIR_type.obtain_log_p_for_traj_matrix_fltr'\n",
      "Traceback (most recent call last):\n",
      "  File \"pyross/inference.pyx\", line 1329, in pyross.inference.SIR_type.obtain_full_mean_cov\n",
      "  File \"pyross/inference.pyx\", line 2699, in pyross.inference.SppQ.integrate\n",
      "  File \"pyross/inference.pyx\", line 1527, in pyross.inference.SIR_type.integrate\n",
      "Exception: Error: method not found. use set_det_method to reset, or pass in a valid method\n"
     ]
    },
    {
     "ename": "Exception",
     "evalue": "Error: method not found. use set_det_method to reset, or pass in a valid method",
     "output_type": "error",
     "traceback": [
      "\u001b[0;31m---------------------------------------------------------------------------\u001b[0m",
      "\u001b[0;31mException\u001b[0m                                 Traceback (most recent call last)",
      "\u001b[0;32mpyross/inference.pyx\u001b[0m in \u001b[0;36mpyross.inference.SIR_type.obtain_full_mean_cov\u001b[0;34m()\u001b[0m\n",
      "\u001b[0;32mpyross/inference.pyx\u001b[0m in \u001b[0;36mpyross.inference.SppQ.integrate\u001b[0;34m()\u001b[0m\n",
      "\u001b[0;32mpyross/inference.pyx\u001b[0m in \u001b[0;36mpyross.inference.SIR_type.integrate\u001b[0;34m()\u001b[0m\n",
      "\u001b[0;31mException\u001b[0m: Error: method not found. use set_det_method to reset, or pass in a valid method"
     ]
    },
    {
     "name": "stderr",
     "output_type": "stream",
     "text": [
      "Exception ignored in: 'pyross.inference.SIR_type.obtain_log_p_for_traj_matrix_fltr'\n",
      "Traceback (most recent call last):\n",
      "  File \"pyross/inference.pyx\", line 1329, in pyross.inference.SIR_type.obtain_full_mean_cov\n",
      "  File \"pyross/inference.pyx\", line 2699, in pyross.inference.SppQ.integrate\n",
      "  File \"pyross/inference.pyx\", line 1527, in pyross.inference.SIR_type.integrate\n",
      "Exception: Error: method not found. use set_det_method to reset, or pass in a valid method\n"
     ]
    },
    {
     "ename": "Exception",
     "evalue": "Error: method not found. use set_det_method to reset, or pass in a valid method",
     "output_type": "error",
     "traceback": [
      "\u001b[0;31m---------------------------------------------------------------------------\u001b[0m",
      "\u001b[0;31mException\u001b[0m                                 Traceback (most recent call last)",
      "\u001b[0;32mpyross/inference.pyx\u001b[0m in \u001b[0;36mpyross.inference.SIR_type.obtain_full_mean_cov\u001b[0;34m()\u001b[0m\n",
      "\u001b[0;32mpyross/inference.pyx\u001b[0m in \u001b[0;36mpyross.inference.SppQ.integrate\u001b[0;34m()\u001b[0m\n",
      "\u001b[0;32mpyross/inference.pyx\u001b[0m in \u001b[0;36mpyross.inference.SIR_type.integrate\u001b[0;34m()\u001b[0m\n",
      "\u001b[0;31mException\u001b[0m: Error: method not found. use set_det_method to reset, or pass in a valid method"
     ]
    },
    {
     "name": "stderr",
     "output_type": "stream",
     "text": [
      "Exception ignored in: 'pyross.inference.SIR_type.obtain_log_p_for_traj_matrix_fltr'\n",
      "Traceback (most recent call last):\n",
      "  File \"pyross/inference.pyx\", line 1329, in pyross.inference.SIR_type.obtain_full_mean_cov\n",
      "  File \"pyross/inference.pyx\", line 2699, in pyross.inference.SppQ.integrate\n",
      "  File \"pyross/inference.pyx\", line 1527, in pyross.inference.SIR_type.integrate\n",
      "Exception: Error: method not found. use set_det_method to reset, or pass in a valid method\n"
     ]
    },
    {
     "ename": "Exception",
     "evalue": "Error: method not found. use set_det_method to reset, or pass in a valid method",
     "output_type": "error",
     "traceback": [
      "\u001b[0;31m---------------------------------------------------------------------------\u001b[0m",
      "\u001b[0;31mException\u001b[0m                                 Traceback (most recent call last)",
      "\u001b[0;32mpyross/inference.pyx\u001b[0m in \u001b[0;36mpyross.inference.SIR_type.obtain_full_mean_cov\u001b[0;34m()\u001b[0m\n",
      "\u001b[0;32mpyross/inference.pyx\u001b[0m in \u001b[0;36mpyross.inference.SppQ.integrate\u001b[0;34m()\u001b[0m\n",
      "\u001b[0;32mpyross/inference.pyx\u001b[0m in \u001b[0;36mpyross.inference.SIR_type.integrate\u001b[0;34m()\u001b[0m\n",
      "\u001b[0;31mException\u001b[0m: Error: method not found. use set_det_method to reset, or pass in a valid method"
     ]
    },
    {
     "name": "stderr",
     "output_type": "stream",
     "text": [
      "Exception ignored in: 'pyross.inference.SIR_type.obtain_log_p_for_traj_matrix_fltr'\n",
      "Traceback (most recent call last):\n",
      "  File \"pyross/inference.pyx\", line 1329, in pyross.inference.SIR_type.obtain_full_mean_cov\n",
      "  File \"pyross/inference.pyx\", line 2699, in pyross.inference.SppQ.integrate\n",
      "  File \"pyross/inference.pyx\", line 1527, in pyross.inference.SIR_type.integrate\n",
      "Exception: Error: method not found. use set_det_method to reset, or pass in a valid method\n"
     ]
    },
    {
     "ename": "Exception",
     "evalue": "Error: method not found. use set_det_method to reset, or pass in a valid method",
     "output_type": "error",
     "traceback": [
      "\u001b[0;31m---------------------------------------------------------------------------\u001b[0m",
      "\u001b[0;31mException\u001b[0m                                 Traceback (most recent call last)",
      "\u001b[0;32mpyross/inference.pyx\u001b[0m in \u001b[0;36mpyross.inference.SIR_type.obtain_full_mean_cov\u001b[0;34m()\u001b[0m\n",
      "\u001b[0;32mpyross/inference.pyx\u001b[0m in \u001b[0;36mpyross.inference.SppQ.integrate\u001b[0;34m()\u001b[0m\n",
      "\u001b[0;32mpyross/inference.pyx\u001b[0m in \u001b[0;36mpyross.inference.SIR_type.integrate\u001b[0;34m()\u001b[0m\n",
      "\u001b[0;31mException\u001b[0m: Error: method not found. use set_det_method to reset, or pass in a valid method"
     ]
    },
    {
     "name": "stderr",
     "output_type": "stream",
     "text": [
      "Exception ignored in: 'pyross.inference.SIR_type.obtain_log_p_for_traj_matrix_fltr'\n",
      "Traceback (most recent call last):\n",
      "  File \"pyross/inference.pyx\", line 1329, in pyross.inference.SIR_type.obtain_full_mean_cov\n",
      "  File \"pyross/inference.pyx\", line 2699, in pyross.inference.SppQ.integrate\n",
      "  File \"pyross/inference.pyx\", line 1527, in pyross.inference.SIR_type.integrate\n",
      "Exception: Error: method not found. use set_det_method to reset, or pass in a valid method\n"
     ]
    },
    {
     "ename": "Exception",
     "evalue": "Error: method not found. use set_det_method to reset, or pass in a valid method",
     "output_type": "error",
     "traceback": [
      "\u001b[0;31m---------------------------------------------------------------------------\u001b[0m",
      "\u001b[0;31mException\u001b[0m                                 Traceback (most recent call last)",
      "\u001b[0;32mpyross/inference.pyx\u001b[0m in \u001b[0;36mpyross.inference.SIR_type.obtain_full_mean_cov\u001b[0;34m()\u001b[0m\n",
      "\u001b[0;32mpyross/inference.pyx\u001b[0m in \u001b[0;36mpyross.inference.SppQ.integrate\u001b[0;34m()\u001b[0m\n",
      "\u001b[0;32mpyross/inference.pyx\u001b[0m in \u001b[0;36mpyross.inference.SIR_type.integrate\u001b[0;34m()\u001b[0m\n",
      "\u001b[0;31mException\u001b[0m: Error: method not found. use set_det_method to reset, or pass in a valid method"
     ]
    },
    {
     "name": "stderr",
     "output_type": "stream",
     "text": [
      "Exception ignored in: 'pyross.inference.SIR_type.obtain_log_p_for_traj_matrix_fltr'\n",
      "Traceback (most recent call last):\n",
      "  File \"pyross/inference.pyx\", line 1329, in pyross.inference.SIR_type.obtain_full_mean_cov\n",
      "  File \"pyross/inference.pyx\", line 2699, in pyross.inference.SppQ.integrate\n",
      "  File \"pyross/inference.pyx\", line 1527, in pyross.inference.SIR_type.integrate\n",
      "Exception: Error: method not found. use set_det_method to reset, or pass in a valid method\n"
     ]
    },
    {
     "ename": "Exception",
     "evalue": "Error: method not found. use set_det_method to reset, or pass in a valid method",
     "output_type": "error",
     "traceback": [
      "\u001b[0;31m---------------------------------------------------------------------------\u001b[0m",
      "\u001b[0;31mException\u001b[0m                                 Traceback (most recent call last)",
      "\u001b[0;32mpyross/inference.pyx\u001b[0m in \u001b[0;36mpyross.inference.SIR_type.obtain_full_mean_cov\u001b[0;34m()\u001b[0m\n",
      "\u001b[0;32mpyross/inference.pyx\u001b[0m in \u001b[0;36mpyross.inference.SppQ.integrate\u001b[0;34m()\u001b[0m\n",
      "\u001b[0;32mpyross/inference.pyx\u001b[0m in \u001b[0;36mpyross.inference.SIR_type.integrate\u001b[0;34m()\u001b[0m\n",
      "\u001b[0;31mException\u001b[0m: Error: method not found. use set_det_method to reset, or pass in a valid method"
     ]
    },
    {
     "name": "stderr",
     "output_type": "stream",
     "text": [
      "Exception ignored in: 'pyross.inference.SIR_type.obtain_log_p_for_traj_matrix_fltr'\n",
      "Traceback (most recent call last):\n",
      "  File \"pyross/inference.pyx\", line 1329, in pyross.inference.SIR_type.obtain_full_mean_cov\n",
      "  File \"pyross/inference.pyx\", line 2699, in pyross.inference.SppQ.integrate\n",
      "  File \"pyross/inference.pyx\", line 1527, in pyross.inference.SIR_type.integrate\n",
      "Exception: Error: method not found. use set_det_method to reset, or pass in a valid method\n"
     ]
    },
    {
     "ename": "Exception",
     "evalue": "Error: method not found. use set_det_method to reset, or pass in a valid method",
     "output_type": "error",
     "traceback": [
      "\u001b[0;31m---------------------------------------------------------------------------\u001b[0m",
      "\u001b[0;31mException\u001b[0m                                 Traceback (most recent call last)",
      "\u001b[0;32mpyross/inference.pyx\u001b[0m in \u001b[0;36mpyross.inference.SIR_type.obtain_full_mean_cov\u001b[0;34m()\u001b[0m\n",
      "\u001b[0;32mpyross/inference.pyx\u001b[0m in \u001b[0;36mpyross.inference.SppQ.integrate\u001b[0;34m()\u001b[0m\n",
      "\u001b[0;32mpyross/inference.pyx\u001b[0m in \u001b[0;36mpyross.inference.SIR_type.integrate\u001b[0;34m()\u001b[0m\n",
      "\u001b[0;31mException\u001b[0m: Error: method not found. use set_det_method to reset, or pass in a valid method"
     ]
    },
    {
     "name": "stderr",
     "output_type": "stream",
     "text": [
      "Exception ignored in: 'pyross.inference.SIR_type.obtain_log_p_for_traj_matrix_fltr'\n",
      "Traceback (most recent call last):\n",
      "  File \"pyross/inference.pyx\", line 1329, in pyross.inference.SIR_type.obtain_full_mean_cov\n",
      "  File \"pyross/inference.pyx\", line 2699, in pyross.inference.SppQ.integrate\n",
      "  File \"pyross/inference.pyx\", line 1527, in pyross.inference.SIR_type.integrate\n",
      "Exception: Error: method not found. use set_det_method to reset, or pass in a valid method\n"
     ]
    },
    {
     "ename": "Exception",
     "evalue": "Error: method not found. use set_det_method to reset, or pass in a valid method",
     "output_type": "error",
     "traceback": [
      "\u001b[0;31m---------------------------------------------------------------------------\u001b[0m",
      "\u001b[0;31mException\u001b[0m                                 Traceback (most recent call last)",
      "\u001b[0;32mpyross/inference.pyx\u001b[0m in \u001b[0;36mpyross.inference.SIR_type.obtain_full_mean_cov\u001b[0;34m()\u001b[0m\n",
      "\u001b[0;32mpyross/inference.pyx\u001b[0m in \u001b[0;36mpyross.inference.SppQ.integrate\u001b[0;34m()\u001b[0m\n",
      "\u001b[0;32mpyross/inference.pyx\u001b[0m in \u001b[0;36mpyross.inference.SIR_type.integrate\u001b[0;34m()\u001b[0m\n",
      "\u001b[0;31mException\u001b[0m: Error: method not found. use set_det_method to reset, or pass in a valid method"
     ]
    },
    {
     "name": "stderr",
     "output_type": "stream",
     "text": [
      "Exception ignored in: 'pyross.inference.SIR_type.obtain_log_p_for_traj_matrix_fltr'\n",
      "Traceback (most recent call last):\n",
      "  File \"pyross/inference.pyx\", line 1329, in pyross.inference.SIR_type.obtain_full_mean_cov\n",
      "  File \"pyross/inference.pyx\", line 2699, in pyross.inference.SppQ.integrate\n",
      "  File \"pyross/inference.pyx\", line 1527, in pyross.inference.SIR_type.integrate\n",
      "Exception: Error: method not found. use set_det_method to reset, or pass in a valid method\n"
     ]
    },
    {
     "ename": "Exception",
     "evalue": "Error: method not found. use set_det_method to reset, or pass in a valid method",
     "output_type": "error",
     "traceback": [
      "\u001b[0;31m---------------------------------------------------------------------------\u001b[0m",
      "\u001b[0;31mException\u001b[0m                                 Traceback (most recent call last)",
      "\u001b[0;32mpyross/inference.pyx\u001b[0m in \u001b[0;36mpyross.inference.SIR_type.obtain_full_mean_cov\u001b[0;34m()\u001b[0m\n",
      "\u001b[0;32mpyross/inference.pyx\u001b[0m in \u001b[0;36mpyross.inference.SppQ.integrate\u001b[0;34m()\u001b[0m\n",
      "\u001b[0;32mpyross/inference.pyx\u001b[0m in \u001b[0;36mpyross.inference.SIR_type.integrate\u001b[0;34m()\u001b[0m\n",
      "\u001b[0;31mException\u001b[0m: Error: method not found. use set_det_method to reset, or pass in a valid method"
     ]
    },
    {
     "name": "stderr",
     "output_type": "stream",
     "text": [
      "Exception ignored in: 'pyross.inference.SIR_type.obtain_log_p_for_traj_matrix_fltr'\n",
      "Traceback (most recent call last):\n",
      "  File \"pyross/inference.pyx\", line 1329, in pyross.inference.SIR_type.obtain_full_mean_cov\n",
      "  File \"pyross/inference.pyx\", line 2699, in pyross.inference.SppQ.integrate\n",
      "  File \"pyross/inference.pyx\", line 1527, in pyross.inference.SIR_type.integrate\n",
      "Exception: Error: method not found. use set_det_method to reset, or pass in a valid method\n"
     ]
    },
    {
     "ename": "Exception",
     "evalue": "Error: method not found. use set_det_method to reset, or pass in a valid method",
     "output_type": "error",
     "traceback": [
      "\u001b[0;31m---------------------------------------------------------------------------\u001b[0m",
      "\u001b[0;31mException\u001b[0m                                 Traceback (most recent call last)",
      "\u001b[0;32mpyross/inference.pyx\u001b[0m in \u001b[0;36mpyross.inference.SIR_type.obtain_full_mean_cov\u001b[0;34m()\u001b[0m\n",
      "\u001b[0;32mpyross/inference.pyx\u001b[0m in \u001b[0;36mpyross.inference.SppQ.integrate\u001b[0;34m()\u001b[0m\n",
      "\u001b[0;32mpyross/inference.pyx\u001b[0m in \u001b[0;36mpyross.inference.SIR_type.integrate\u001b[0;34m()\u001b[0m\n",
      "\u001b[0;31mException\u001b[0m: Error: method not found. use set_det_method to reset, or pass in a valid method"
     ]
    },
    {
     "name": "stderr",
     "output_type": "stream",
     "text": [
      "Exception ignored in: 'pyross.inference.SIR_type.obtain_log_p_for_traj_matrix_fltr'\n",
      "Traceback (most recent call last):\n",
      "  File \"pyross/inference.pyx\", line 1329, in pyross.inference.SIR_type.obtain_full_mean_cov\n",
      "  File \"pyross/inference.pyx\", line 2699, in pyross.inference.SppQ.integrate\n",
      "  File \"pyross/inference.pyx\", line 1527, in pyross.inference.SIR_type.integrate\n",
      "Exception: Error: method not found. use set_det_method to reset, or pass in a valid method\n"
     ]
    },
    {
     "ename": "Exception",
     "evalue": "Error: method not found. use set_det_method to reset, or pass in a valid method",
     "output_type": "error",
     "traceback": [
      "\u001b[0;31m---------------------------------------------------------------------------\u001b[0m",
      "\u001b[0;31mException\u001b[0m                                 Traceback (most recent call last)",
      "\u001b[0;32mpyross/inference.pyx\u001b[0m in \u001b[0;36mpyross.inference.SIR_type.obtain_full_mean_cov\u001b[0;34m()\u001b[0m\n",
      "\u001b[0;32mpyross/inference.pyx\u001b[0m in \u001b[0;36mpyross.inference.SppQ.integrate\u001b[0;34m()\u001b[0m\n",
      "\u001b[0;32mpyross/inference.pyx\u001b[0m in \u001b[0;36mpyross.inference.SIR_type.integrate\u001b[0;34m()\u001b[0m\n",
      "\u001b[0;31mException\u001b[0m: Error: method not found. use set_det_method to reset, or pass in a valid method"
     ]
    },
    {
     "name": "stderr",
     "output_type": "stream",
     "text": [
      "Exception ignored in: 'pyross.inference.SIR_type.obtain_log_p_for_traj_matrix_fltr'\n",
      "Traceback (most recent call last):\n",
      "  File \"pyross/inference.pyx\", line 1329, in pyross.inference.SIR_type.obtain_full_mean_cov\n",
      "  File \"pyross/inference.pyx\", line 2699, in pyross.inference.SppQ.integrate\n",
      "  File \"pyross/inference.pyx\", line 1527, in pyross.inference.SIR_type.integrate\n",
      "Exception: Error: method not found. use set_det_method to reset, or pass in a valid method\n"
     ]
    },
    {
     "ename": "Exception",
     "evalue": "Error: method not found. use set_det_method to reset, or pass in a valid method",
     "output_type": "error",
     "traceback": [
      "\u001b[0;31m---------------------------------------------------------------------------\u001b[0m",
      "\u001b[0;31mException\u001b[0m                                 Traceback (most recent call last)",
      "\u001b[0;32mpyross/inference.pyx\u001b[0m in \u001b[0;36mpyross.inference.SIR_type.obtain_full_mean_cov\u001b[0;34m()\u001b[0m\n",
      "\u001b[0;32mpyross/inference.pyx\u001b[0m in \u001b[0;36mpyross.inference.SppQ.integrate\u001b[0;34m()\u001b[0m\n",
      "\u001b[0;32mpyross/inference.pyx\u001b[0m in \u001b[0;36mpyross.inference.SIR_type.integrate\u001b[0;34m()\u001b[0m\n",
      "\u001b[0;31mException\u001b[0m: Error: method not found. use set_det_method to reset, or pass in a valid method"
     ]
    },
    {
     "name": "stderr",
     "output_type": "stream",
     "text": [
      "Exception ignored in: 'pyross.inference.SIR_type.obtain_log_p_for_traj_matrix_fltr'\n",
      "Traceback (most recent call last):\n",
      "  File \"pyross/inference.pyx\", line 1329, in pyross.inference.SIR_type.obtain_full_mean_cov\n",
      "  File \"pyross/inference.pyx\", line 2699, in pyross.inference.SppQ.integrate\n",
      "  File \"pyross/inference.pyx\", line 1527, in pyross.inference.SIR_type.integrate\n",
      "Exception: Error: method not found. use set_det_method to reset, or pass in a valid method\n"
     ]
    },
    {
     "ename": "Exception",
     "evalue": "Error: method not found. use set_det_method to reset, or pass in a valid method",
     "output_type": "error",
     "traceback": [
      "\u001b[0;31m---------------------------------------------------------------------------\u001b[0m",
      "\u001b[0;31mException\u001b[0m                                 Traceback (most recent call last)",
      "\u001b[0;32mpyross/inference.pyx\u001b[0m in \u001b[0;36mpyross.inference.SIR_type.obtain_full_mean_cov\u001b[0;34m()\u001b[0m\n",
      "\u001b[0;32mpyross/inference.pyx\u001b[0m in \u001b[0;36mpyross.inference.SppQ.integrate\u001b[0;34m()\u001b[0m\n",
      "\u001b[0;32mpyross/inference.pyx\u001b[0m in \u001b[0;36mpyross.inference.SIR_type.integrate\u001b[0;34m()\u001b[0m\n",
      "\u001b[0;31mException\u001b[0m: Error: method not found. use set_det_method to reset, or pass in a valid method"
     ]
    },
    {
     "name": "stderr",
     "output_type": "stream",
     "text": [
      "Exception ignored in: 'pyross.inference.SIR_type.obtain_log_p_for_traj_matrix_fltr'\n",
      "Traceback (most recent call last):\n",
      "  File \"pyross/inference.pyx\", line 1329, in pyross.inference.SIR_type.obtain_full_mean_cov\n",
      "  File \"pyross/inference.pyx\", line 2699, in pyross.inference.SppQ.integrate\n",
      "  File \"pyross/inference.pyx\", line 1527, in pyross.inference.SIR_type.integrate\n",
      "Exception: Error: method not found. use set_det_method to reset, or pass in a valid method\n"
     ]
    },
    {
     "ename": "Exception",
     "evalue": "Error: method not found. use set_det_method to reset, or pass in a valid method",
     "output_type": "error",
     "traceback": [
      "\u001b[0;31m---------------------------------------------------------------------------\u001b[0m",
      "\u001b[0;31mException\u001b[0m                                 Traceback (most recent call last)",
      "\u001b[0;32mpyross/inference.pyx\u001b[0m in \u001b[0;36mpyross.inference.SIR_type.obtain_full_mean_cov\u001b[0;34m()\u001b[0m\n",
      "\u001b[0;32mpyross/inference.pyx\u001b[0m in \u001b[0;36mpyross.inference.SppQ.integrate\u001b[0;34m()\u001b[0m\n",
      "\u001b[0;32mpyross/inference.pyx\u001b[0m in \u001b[0;36mpyross.inference.SIR_type.integrate\u001b[0;34m()\u001b[0m\n",
      "\u001b[0;31mException\u001b[0m: Error: method not found. use set_det_method to reset, or pass in a valid method"
     ]
    },
    {
     "name": "stderr",
     "output_type": "stream",
     "text": [
      "Exception ignored in: 'pyross.inference.SIR_type.obtain_log_p_for_traj_matrix_fltr'\n",
      "Traceback (most recent call last):\n",
      "  File \"pyross/inference.pyx\", line 1329, in pyross.inference.SIR_type.obtain_full_mean_cov\n",
      "  File \"pyross/inference.pyx\", line 2699, in pyross.inference.SppQ.integrate\n",
      "  File \"pyross/inference.pyx\", line 1527, in pyross.inference.SIR_type.integrate\n",
      "Exception: Error: method not found. use set_det_method to reset, or pass in a valid method\n"
     ]
    },
    {
     "ename": "Exception",
     "evalue": "Error: method not found. use set_det_method to reset, or pass in a valid method",
     "output_type": "error",
     "traceback": [
      "\u001b[0;31m---------------------------------------------------------------------------\u001b[0m",
      "\u001b[0;31mException\u001b[0m                                 Traceback (most recent call last)",
      "\u001b[0;32mpyross/inference.pyx\u001b[0m in \u001b[0;36mpyross.inference.SIR_type.obtain_full_mean_cov\u001b[0;34m()\u001b[0m\n",
      "\u001b[0;32mpyross/inference.pyx\u001b[0m in \u001b[0;36mpyross.inference.SppQ.integrate\u001b[0;34m()\u001b[0m\n",
      "\u001b[0;32mpyross/inference.pyx\u001b[0m in \u001b[0;36mpyross.inference.SIR_type.integrate\u001b[0;34m()\u001b[0m\n",
      "\u001b[0;31mException\u001b[0m: Error: method not found. use set_det_method to reset, or pass in a valid method"
     ]
    },
    {
     "name": "stderr",
     "output_type": "stream",
     "text": [
      "Exception ignored in: 'pyross.inference.SIR_type.obtain_log_p_for_traj_matrix_fltr'\n",
      "Traceback (most recent call last):\n",
      "  File \"pyross/inference.pyx\", line 1329, in pyross.inference.SIR_type.obtain_full_mean_cov\n",
      "  File \"pyross/inference.pyx\", line 2699, in pyross.inference.SppQ.integrate\n",
      "  File \"pyross/inference.pyx\", line 1527, in pyross.inference.SIR_type.integrate\n",
      "Exception: Error: method not found. use set_det_method to reset, or pass in a valid method\n"
     ]
    },
    {
     "ename": "Exception",
     "evalue": "Error: method not found. use set_det_method to reset, or pass in a valid method",
     "output_type": "error",
     "traceback": [
      "\u001b[0;31m---------------------------------------------------------------------------\u001b[0m",
      "\u001b[0;31mException\u001b[0m                                 Traceback (most recent call last)",
      "\u001b[0;32mpyross/inference.pyx\u001b[0m in \u001b[0;36mpyross.inference.SIR_type.obtain_full_mean_cov\u001b[0;34m()\u001b[0m\n",
      "\u001b[0;32mpyross/inference.pyx\u001b[0m in \u001b[0;36mpyross.inference.SppQ.integrate\u001b[0;34m()\u001b[0m\n",
      "\u001b[0;32mpyross/inference.pyx\u001b[0m in \u001b[0;36mpyross.inference.SIR_type.integrate\u001b[0;34m()\u001b[0m\n",
      "\u001b[0;31mException\u001b[0m: Error: method not found. use set_det_method to reset, or pass in a valid method"
     ]
    },
    {
     "name": "stderr",
     "output_type": "stream",
     "text": [
      "Exception ignored in: 'pyross.inference.SIR_type.obtain_log_p_for_traj_matrix_fltr'\n",
      "Traceback (most recent call last):\n",
      "  File \"pyross/inference.pyx\", line 1329, in pyross.inference.SIR_type.obtain_full_mean_cov\n",
      "  File \"pyross/inference.pyx\", line 2699, in pyross.inference.SppQ.integrate\n",
      "  File \"pyross/inference.pyx\", line 1527, in pyross.inference.SIR_type.integrate\n",
      "Exception: Error: method not found. use set_det_method to reset, or pass in a valid method\n"
     ]
    },
    {
     "ename": "Exception",
     "evalue": "Error: method not found. use set_det_method to reset, or pass in a valid method",
     "output_type": "error",
     "traceback": [
      "\u001b[0;31m---------------------------------------------------------------------------\u001b[0m",
      "\u001b[0;31mException\u001b[0m                                 Traceback (most recent call last)",
      "\u001b[0;32mpyross/inference.pyx\u001b[0m in \u001b[0;36mpyross.inference.SIR_type.obtain_full_mean_cov\u001b[0;34m()\u001b[0m\n",
      "\u001b[0;32mpyross/inference.pyx\u001b[0m in \u001b[0;36mpyross.inference.SppQ.integrate\u001b[0;34m()\u001b[0m\n",
      "\u001b[0;32mpyross/inference.pyx\u001b[0m in \u001b[0;36mpyross.inference.SIR_type.integrate\u001b[0;34m()\u001b[0m\n",
      "\u001b[0;31mException\u001b[0m: Error: method not found. use set_det_method to reset, or pass in a valid method"
     ]
    },
    {
     "name": "stderr",
     "output_type": "stream",
     "text": [
      "Exception ignored in: 'pyross.inference.SIR_type.obtain_log_p_for_traj_matrix_fltr'\n",
      "Traceback (most recent call last):\n",
      "  File \"pyross/inference.pyx\", line 1329, in pyross.inference.SIR_type.obtain_full_mean_cov\n",
      "  File \"pyross/inference.pyx\", line 2699, in pyross.inference.SppQ.integrate\n",
      "  File \"pyross/inference.pyx\", line 1527, in pyross.inference.SIR_type.integrate\n",
      "Exception: Error: method not found. use set_det_method to reset, or pass in a valid method\n"
     ]
    },
    {
     "ename": "Exception",
     "evalue": "Error: method not found. use set_det_method to reset, or pass in a valid method",
     "output_type": "error",
     "traceback": [
      "\u001b[0;31m---------------------------------------------------------------------------\u001b[0m",
      "\u001b[0;31mException\u001b[0m                                 Traceback (most recent call last)",
      "\u001b[0;32mpyross/inference.pyx\u001b[0m in \u001b[0;36mpyross.inference.SIR_type.obtain_full_mean_cov\u001b[0;34m()\u001b[0m\n",
      "\u001b[0;32mpyross/inference.pyx\u001b[0m in \u001b[0;36mpyross.inference.SppQ.integrate\u001b[0;34m()\u001b[0m\n",
      "\u001b[0;32mpyross/inference.pyx\u001b[0m in \u001b[0;36mpyross.inference.SIR_type.integrate\u001b[0;34m()\u001b[0m\n",
      "\u001b[0;31mException\u001b[0m: Error: method not found. use set_det_method to reset, or pass in a valid method"
     ]
    },
    {
     "name": "stderr",
     "output_type": "stream",
     "text": [
      "Exception ignored in: 'pyross.inference.SIR_type.obtain_log_p_for_traj_matrix_fltr'\n",
      "Traceback (most recent call last):\n",
      "  File \"pyross/inference.pyx\", line 1329, in pyross.inference.SIR_type.obtain_full_mean_cov\n",
      "  File \"pyross/inference.pyx\", line 2699, in pyross.inference.SppQ.integrate\n",
      "  File \"pyross/inference.pyx\", line 1527, in pyross.inference.SIR_type.integrate\n",
      "Exception: Error: method not found. use set_det_method to reset, or pass in a valid method\n"
     ]
    },
    {
     "ename": "Exception",
     "evalue": "Error: method not found. use set_det_method to reset, or pass in a valid method",
     "output_type": "error",
     "traceback": [
      "\u001b[0;31m---------------------------------------------------------------------------\u001b[0m",
      "\u001b[0;31mException\u001b[0m                                 Traceback (most recent call last)",
      "\u001b[0;32mpyross/inference.pyx\u001b[0m in \u001b[0;36mpyross.inference.SIR_type.obtain_full_mean_cov\u001b[0;34m()\u001b[0m\n",
      "\u001b[0;32mpyross/inference.pyx\u001b[0m in \u001b[0;36mpyross.inference.SppQ.integrate\u001b[0;34m()\u001b[0m\n",
      "\u001b[0;32mpyross/inference.pyx\u001b[0m in \u001b[0;36mpyross.inference.SIR_type.integrate\u001b[0;34m()\u001b[0m\n",
      "\u001b[0;31mException\u001b[0m: Error: method not found. use set_det_method to reset, or pass in a valid method"
     ]
    },
    {
     "name": "stderr",
     "output_type": "stream",
     "text": [
      "Exception ignored in: 'pyross.inference.SIR_type.obtain_log_p_for_traj_matrix_fltr'\n",
      "Traceback (most recent call last):\n",
      "  File \"pyross/inference.pyx\", line 1329, in pyross.inference.SIR_type.obtain_full_mean_cov\n",
      "  File \"pyross/inference.pyx\", line 2699, in pyross.inference.SppQ.integrate\n",
      "  File \"pyross/inference.pyx\", line 1527, in pyross.inference.SIR_type.integrate\n",
      "Exception: Error: method not found. use set_det_method to reset, or pass in a valid method\n"
     ]
    },
    {
     "ename": "Exception",
     "evalue": "Error: method not found. use set_det_method to reset, or pass in a valid method",
     "output_type": "error",
     "traceback": [
      "\u001b[0;31m---------------------------------------------------------------------------\u001b[0m",
      "\u001b[0;31mException\u001b[0m                                 Traceback (most recent call last)",
      "\u001b[0;32mpyross/inference.pyx\u001b[0m in \u001b[0;36mpyross.inference.SIR_type.obtain_full_mean_cov\u001b[0;34m()\u001b[0m\n",
      "\u001b[0;32mpyross/inference.pyx\u001b[0m in \u001b[0;36mpyross.inference.SppQ.integrate\u001b[0;34m()\u001b[0m\n",
      "\u001b[0;32mpyross/inference.pyx\u001b[0m in \u001b[0;36mpyross.inference.SIR_type.integrate\u001b[0;34m()\u001b[0m\n",
      "\u001b[0;31mException\u001b[0m: Error: method not found. use set_det_method to reset, or pass in a valid method"
     ]
    },
    {
     "name": "stderr",
     "output_type": "stream",
     "text": [
      "Exception ignored in: 'pyross.inference.SIR_type.obtain_log_p_for_traj_matrix_fltr'\n",
      "Traceback (most recent call last):\n",
      "  File \"pyross/inference.pyx\", line 1329, in pyross.inference.SIR_type.obtain_full_mean_cov\n",
      "  File \"pyross/inference.pyx\", line 2699, in pyross.inference.SppQ.integrate\n",
      "  File \"pyross/inference.pyx\", line 1527, in pyross.inference.SIR_type.integrate\n",
      "Exception: Error: method not found. use set_det_method to reset, or pass in a valid method\n"
     ]
    },
    {
     "ename": "Exception",
     "evalue": "Error: method not found. use set_det_method to reset, or pass in a valid method",
     "output_type": "error",
     "traceback": [
      "\u001b[0;31m---------------------------------------------------------------------------\u001b[0m",
      "\u001b[0;31mException\u001b[0m                                 Traceback (most recent call last)",
      "\u001b[0;32mpyross/inference.pyx\u001b[0m in \u001b[0;36mpyross.inference.SIR_type.obtain_full_mean_cov\u001b[0;34m()\u001b[0m\n",
      "\u001b[0;32mpyross/inference.pyx\u001b[0m in \u001b[0;36mpyross.inference.SppQ.integrate\u001b[0;34m()\u001b[0m\n",
      "\u001b[0;32mpyross/inference.pyx\u001b[0m in \u001b[0;36mpyross.inference.SIR_type.integrate\u001b[0;34m()\u001b[0m\n",
      "\u001b[0;31mException\u001b[0m: Error: method not found. use set_det_method to reset, or pass in a valid method"
     ]
    },
    {
     "name": "stdout",
     "output_type": "stream",
     "text": [
      "Optimal value (local minimisation):  -38.08842627541669\n"
     ]
    },
    {
     "name": "stderr",
     "output_type": "stream",
     "text": [
      "Exception ignored in: 'pyross.inference.SIR_type.obtain_log_p_for_traj_matrix_fltr'\n",
      "Traceback (most recent call last):\n",
      "  File \"pyross/inference.pyx\", line 1329, in pyross.inference.SIR_type.obtain_full_mean_cov\n",
      "  File \"pyross/inference.pyx\", line 2699, in pyross.inference.SppQ.integrate\n",
      "  File \"pyross/inference.pyx\", line 1527, in pyross.inference.SIR_type.integrate\n",
      "Exception: Error: method not found. use set_det_method to reset, or pass in a valid method\n"
     ]
    }
   ],
   "source": [
    "# make parameter guesses and set up bounds for each parameter \n",
    "eps=1e-4\n",
    "\n",
    "beta_g = 0.015\n",
    "beta_std = 0.015\n",
    "beta_b = (eps, 0.1)\n",
    "\n",
    "gamma_g = 0.15\n",
    "gamma_std = 0.1 \n",
    "gamma_b = (eps, 1)\n",
    "\n",
    "\n",
    "I0_g = (I0+3)/N\n",
    "I_std = I0_g*0.4 \n",
    "bounds_for_I = np.tile([0.1/N, 100/N], M).reshape(M, 2)\n",
    "\n",
    "S0_g = (S0-3)/N\n",
    "S_std = I_std*np.sqrt(3)\n",
    "bounds_for_S = np.array([(1/N, f-1/N) for f in fi]).reshape(M, 2)\n",
    "\n",
    "# optimisation parameters \n",
    "ftol = 1e-5 # the relative tol in (-logp)  \n",
    "\n",
    "# set up bounds, guess and stds for the rest of the params \n",
    "keys = ['beta', 'gamma']\n",
    "bounds = np.array([beta_b, gamma_b, \n",
    "                   *bounds_for_S, *bounds_for_I])\n",
    "guess = np.array([beta_g, gamma_g, *S0_g, *I0_g])\n",
    "stds = np.array([beta_std, gamma_std, *S_std, *I_std])\n",
    "\n",
    "# set up fltr for initial conditions because they are constraint by the observed \n",
    "init_fltr = np.repeat([True, True, False], M)\n",
    "\n",
    "# set up filter for initial conditions because they are constraint by the observed \n",
    "# note that this filter is different from the bulk of the trajectory, \n",
    "# because we know the initial value 0 holds for all quarantined age groups\n",
    "init_fltr = np.repeat([True, True, False, False, False], M)\n",
    "fltr0=np.kron(([[0, 0, 1, 0, 0],[0, 0, 0, 1, 0],[0, 0, 0, 0, 1]]), np.identity(M))\n",
    "obs0=np.zeros(M*3)\n",
    "\n",
    "\n",
    "params = estimator.latent_infer_parameters(keys, init_fltr, guess, stds, obs, fltr, Tf_inference, Nf_inference, \n",
    "                                    contactMatrix, bounds, \n",
    "                                    global_max_iter=10, global_ftol_factor=1e3, \n",
    "                                    verbose=True, ftol=ftol, obs0=obs0, fltr0=fltr0) "
   ]
  },
  {
   "cell_type": "code",
   "execution_count": null,
   "metadata": {},
   "outputs": [],
   "source": []
  },
  {
   "cell_type": "code",
   "execution_count": 10,
   "metadata": {},
   "outputs": [
    {
     "name": "stdout",
     "output_type": "stream",
     "text": [
      "True parameters:\n",
      "{'beta': 0.02, 'gamma': 0.1, 'p_falsepos': 0.01, 'p_truepos': 0.9, 'pi_RS': 0.1, 'pi_I': 1}\n",
      "\n",
      "Inferred parameters:\n",
      "{'beta': 0.005909512233356305, 'gamma': 0.11629906212871828, 'p_falsepos': array([0.01, 0.01]), 'p_truepos': array([0.9, 0.9]), 'pi_RS': array([0.1, 0.1]), 'pi_I': array([1., 1.])}\n",
      "\n",
      " True initial conditions: \n",
      "[1.249e+04 3.749e+04 1.000e+01 1.000e+01 0.000e+00 0.000e+00 0.000e+00\n",
      " 0.000e+00 0.000e+00 0.000e+00]\n",
      "\n",
      " Inferred initial conditons: \n",
      "[12486 37487    10     9     0     0     0     0     0     0]\n"
     ]
    }
   ],
   "source": [
    "print(\"True parameters:\")\n",
    "print(inference_parameters)\n",
    "\n",
    "print(\"\\nInferred parameters:\")\n",
    "best_estimates = estimator.fill_params_dict(keys, params)\n",
    "print(best_estimates)\n",
    "\n",
    "print('\\n True initial conditions: ') \n",
    "print(x0*N)\n",
    "\n",
    "partial_inits = params[len(keys):]\n",
    "x0_estimate = estimator.fill_initial_conditions(partial_inits, obs0, init_fltr, fltr0)\n",
    "print('\\n Inferred initial conditons: ') \n",
    "print((x0_estimate*N).astype('int'))"
   ]
  },
  {
   "cell_type": "code",
   "execution_count": 11,
   "metadata": {},
   "outputs": [
    {
     "ename": "Exception",
     "evalue": "Error: method not found. use set_det_method to reset, or pass in a valid method",
     "output_type": "error",
     "traceback": [
      "\u001b[0;31m---------------------------------------------------------------------------\u001b[0m",
      "\u001b[0;31mException\u001b[0m                                 Traceback (most recent call last)",
      "\u001b[0;32m<ipython-input-11-29b65f379ec8>\u001b[0m in \u001b[0;36m<module>\u001b[0;34m\u001b[0m\n\u001b[1;32m      2\u001b[0m \u001b[0mestimator\u001b[0m\u001b[0;34m.\u001b[0m\u001b[0mset_params\u001b[0m\u001b[0;34m(\u001b[0m\u001b[0mbest_estimates\u001b[0m\u001b[0;34m)\u001b[0m\u001b[0;34m\u001b[0m\u001b[0;34m\u001b[0m\u001b[0m\n\u001b[1;32m      3\u001b[0m \u001b[0mdet_model_inferred\u001b[0m \u001b[0;34m=\u001b[0m \u001b[0mpyross\u001b[0m\u001b[0;34m.\u001b[0m\u001b[0mdeterministic\u001b[0m\u001b[0;34m.\u001b[0m\u001b[0mSppQ\u001b[0m\u001b[0;34m(\u001b[0m\u001b[0mmodel_spec\u001b[0m\u001b[0;34m,\u001b[0m\u001b[0mbest_estimates\u001b[0m\u001b[0;34m,\u001b[0m \u001b[0mM\u001b[0m\u001b[0;34m,\u001b[0m \u001b[0mNi\u001b[0m\u001b[0;34m)\u001b[0m\u001b[0;34m\u001b[0m\u001b[0;34m\u001b[0m\u001b[0m\n\u001b[0;32m----> 4\u001b[0;31m \u001b[0mx_det\u001b[0m \u001b[0;34m=\u001b[0m \u001b[0mestimator\u001b[0m\u001b[0;34m.\u001b[0m\u001b[0mintegrate\u001b[0m\u001b[0;34m(\u001b[0m\u001b[0mx0\u001b[0m\u001b[0;34m,\u001b[0m \u001b[0;36m0\u001b[0m\u001b[0;34m,\u001b[0m \u001b[0mTf\u001b[0m\u001b[0;34m,\u001b[0m \u001b[0mNf\u001b[0m\u001b[0;34m,\u001b[0m \u001b[0mdet_model_inferred\u001b[0m\u001b[0;34m,\u001b[0m \u001b[0mcontactMatrix\u001b[0m\u001b[0;34m)\u001b[0m\u001b[0;34m\u001b[0m\u001b[0;34m\u001b[0m\u001b[0m\n\u001b[0m\u001b[1;32m      5\u001b[0m \u001b[0;34m\u001b[0m\u001b[0m\n\u001b[1;32m      6\u001b[0m \u001b[0mfig\u001b[0m \u001b[0;34m=\u001b[0m \u001b[0mplt\u001b[0m\u001b[0;34m.\u001b[0m\u001b[0mfigure\u001b[0m\u001b[0;34m(\u001b[0m\u001b[0mnum\u001b[0m\u001b[0;34m=\u001b[0m\u001b[0;32mNone\u001b[0m\u001b[0;34m,\u001b[0m \u001b[0mfigsize\u001b[0m\u001b[0;34m=\u001b[0m\u001b[0;34m(\u001b[0m\u001b[0;36m10\u001b[0m\u001b[0;34m,\u001b[0m \u001b[0;36m8\u001b[0m\u001b[0;34m)\u001b[0m\u001b[0;34m,\u001b[0m \u001b[0mdpi\u001b[0m\u001b[0;34m=\u001b[0m\u001b[0;36m80\u001b[0m\u001b[0;34m,\u001b[0m \u001b[0mfacecolor\u001b[0m\u001b[0;34m=\u001b[0m\u001b[0;34m'w'\u001b[0m\u001b[0;34m,\u001b[0m \u001b[0medgecolor\u001b[0m\u001b[0;34m=\u001b[0m\u001b[0;34m'k'\u001b[0m\u001b[0;34m)\u001b[0m\u001b[0;34m\u001b[0m\u001b[0;34m\u001b[0m\u001b[0m\n",
      "\u001b[0;32mpyross/inference.pyx\u001b[0m in \u001b[0;36mpyross.inference.SppQ.integrate\u001b[0;34m()\u001b[0m\n",
      "\u001b[0;32mpyross/inference.pyx\u001b[0m in \u001b[0;36mpyross.inference.SIR_type.integrate\u001b[0;34m()\u001b[0m\n",
      "\u001b[0;31mException\u001b[0m: Error: method not found. use set_det_method to reset, or pass in a valid method"
     ]
    }
   ],
   "source": [
    "# plot the guessed trajectory and the true trajectory \n",
    "estimator.set_params(best_estimates)\n",
    "det_model_inferred = pyross.deterministic.SppQ(model_spec,best_estimates, M, Ni)\n",
    "x_det = estimator.integrate(x0, 0, Tf, Nf, det_model_inferred, contactMatrix)\n",
    "\n",
    "fig = plt.figure(num=None, figsize=(10, 8), dpi=80, facecolor='w', edgecolor='k')\n",
    "plt.rcParams.update({'font.size': 22})\n",
    "plt.plot(S, label='True S', ls='--', c='C1')\n",
    "plt.plot(np.sum(x_det[:, 0*M:1*M],axis=1)*N, label='Inferred S', c='C1')\n",
    "plt.plot(I, label='True I', ls='--', c='C2')\n",
    "plt.plot(np.sum(x_det[:, 1*M:2*M],axis=1)*N, label='Inferred I', c='C2')\n",
    "plt.plot(NQ, label='True Q ($S^Q+I^Q+R^Q$)', ls='--', c='C3')\n",
    "plt.plot(np.sum(x_det[:, 4*M:5*M],axis=1)*N, label='Inferred Q', c='C3')\n",
    "\n",
    "\n",
    "plt.axvspan(0, Tf_inference, \n",
    "           label='Used for inference',\n",
    "           alpha=0.3, color='dodgerblue')\n",
    "plt.xlim([0, Tf])\n",
    "plt.legend(fontsize=18); plt.grid() \n",
    "plt.autoscale(enable=True, axis='x', tight=True)\n",
    "plt.xlabel(\"time [days]\")\n",
    "plt.show()"
   ]
  },
  {
   "cell_type": "code",
   "execution_count": null,
   "metadata": {},
   "outputs": [],
   "source": []
  }
 ],
 "metadata": {
  "kernelspec": {
   "display_name": "Python 3",
   "language": "python",
   "name": "python3"
  },
  "language_info": {
   "codemirror_mode": {
    "name": "ipython",
    "version": 3
   },
   "file_extension": ".py",
   "mimetype": "text/x-python",
   "name": "python",
   "nbconvert_exporter": "python",
   "pygments_lexer": "ipython3",
   "version": "3.7.3"
  }
 },
 "nbformat": 4,
 "nbformat_minor": 4
}
