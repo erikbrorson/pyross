{
 "cells": [
  {
   "cell_type": "code",
   "execution_count": 14,
   "metadata": {},
   "outputs": [],
   "source": [
    "from scipy.stats import lognorm\n",
    "import numpy as np \n",
    "from matplotlib import pyplot as plt"
   ]
  },
  {
   "cell_type": "code",
   "execution_count": 11,
   "metadata": {},
   "outputs": [],
   "source": [
    "x = np.arange(5)+1\n",
    "s = np.ones(5)\n",
    "scale = np.ones(5) \n",
    "pdf = lognorm.pdf(x, s, scale)"
   ]
  },
  {
   "cell_type": "code",
   "execution_count": 16,
   "metadata": {},
   "outputs": [],
   "source": [
    "def lognorm_dpdf(x, s, scale):\n",
    "    return -(np.log(x/scale)/s**2 + 1)/x"
   ]
  },
  {
   "cell_type": "code",
   "execution_count": 8,
   "metadata": {},
   "outputs": [],
   "source": [
    "dpdf = lognorm_dpdf(x, s, scale)"
   ]
  },
  {
   "cell_type": "code",
   "execution_count": 25,
   "metadata": {},
   "outputs": [
    {
     "name": "stdout",
     "output_type": "stream",
     "text": [
      "[[ 1.39462353  1.21320714  1.77602671  1.96677628  1.40275517]\n",
      " [ 2.39462353  2.21320714  2.77602671  2.96677628  2.40275517]\n",
      " [ 3.39462353  3.21320714  3.77602671  3.96677628  3.40275517]\n",
      " [ 4.39462353  4.21320714  4.77602671  4.96677628  4.40275517]\n",
      " [ 5.39462353  5.21320714  5.77602671  5.96677628  5.40275517]\n",
      " [ 6.39462353  6.21320714  6.77602671  6.96677628  6.40275517]\n",
      " [ 7.39462353  7.21320714  7.77602671  7.96677628  7.40275517]\n",
      " [ 8.39462353  8.21320714  8.77602671  8.96677628  8.40275517]\n",
      " [ 9.39462353  9.21320714  9.77602671  9.96677628  9.40275517]\n",
      " [10.39462353 10.21320714 10.77602671 10.96677628 10.40275517]\n",
      " [11.39462353 11.21320714 11.77602671 11.96677628 11.40275517]\n",
      " [12.39462353 12.21320714 12.77602671 12.96677628 12.40275517]\n",
      " [13.39462353 13.21320714 13.77602671 13.96677628 13.40275517]\n",
      " [14.39462353 14.21320714 14.77602671 14.96677628 14.40275517]\n",
      " [15.39462353 15.21320714 15.77602671 15.96677628 15.40275517]\n",
      " [16.39462353 16.21320714 16.77602671 16.96677628 16.40275517]\n",
      " [17.39462353 17.21320714 17.77602671 17.96677628 17.40275517]\n",
      " [18.39462353 18.21320714 18.77602671 18.96677628 18.40275517]\n",
      " [19.39462353 19.21320714 19.77602671 19.96677628 19.40275517]\n",
      " [20.39462353 20.21320714 20.77602671 20.96677628 20.40275517]]\n"
     ]
    }
   ],
   "source": [
    "n_samples = 20\n",
    "x = np.random.random((5))+1+ np.repeat(np.arange((n_samples)), 5).reshape((n_samples, 5))\n",
    "print(x)\n",
    "pdf = lognorm.pdf(x, s, scale)\n",
    "dpdf = lognorm_dpdf(x, s, scale)"
   ]
  },
  {
   "cell_type": "code",
   "execution_count": 26,
   "metadata": {},
   "outputs": [
    {
     "data": {
      "image/png": "[encoded data removed]",
      "text/plain": [
       "<Figure size 432x288 with 1 Axes>"
      ]
     },
     "metadata": {
      "needs_background": "light"
     },
     "output_type": "display_data"
    }
   ],
   "source": [
    "plt.plot(pdf[:, 0])\n",
    "plt.plot(dpdf[:, 0])\n",
    "plt.show() "
   ]
  },
  {
   "cell_type": "code",
   "execution_count": null,
   "metadata": {},
   "outputs": [],
   "source": [
    "\n"
   ]
  }
 ],
 "metadata": {
  "kernelspec": {
   "display_name": "Python 3",
   "language": "python",
   "name": "python3"
  },
  "language_info": {
   "codemirror_mode": {
    "name": "ipython",
    "version": 3
   },
   "file_extension": ".py",
   "mimetype": "text/x-python",
   "name": "python",
   "nbconvert_exporter": "python",
   "pygments_lexer": "ipython3",
   "version": "3.7.7"
  }
 },
 "nbformat": 4,
 "nbformat_minor": 4
}
