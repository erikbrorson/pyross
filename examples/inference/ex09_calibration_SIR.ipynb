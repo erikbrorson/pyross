{
 "cells": [
  {
   "cell_type": "markdown",
   "metadata": {},
   "source": [
    "# Calibration (SIR model)\n",
    "Using generated data, we test if we can infer that a lockdown has happened and how the contact parameters have changed.\n",
    "To do this, we generate a test trajectory with a lockdown at time $20$. \n",
    "The lockdown is implemented by scaling the contact matrices (for work, school, other).\n",
    "We use the data points up to the lockdown to infer the parameters of the SIR model.\n",
    "Using the data after lockdown and the inferred parameters, we infer the change of the contact structure.\n",
    "\n",
    "For the pre-intervention period, we infer the following parameters: \n",
    "* $\\alpha$ (fraction of asymptomatic infectives), \n",
    "* $\\beta$ (probability of infection on contact), \n",
    "* $\\gamma_{I_a}$ (rate of recovery for asymptomatic infected individuals),\n",
    "* $\\gamma_{I_s}$ (rate of recovery for symptomatic infected individuals) \n",
    "\n",
    "For the post-intervention period, we infer the following control parameters: \n",
    "* $a_\\mathrm{W}$ fraction of work contact, \n",
    "* $a_\\mathrm{S}$ fraction of social contact, \n",
    "* $a_\\mathrm{O}$ fraction of other contacts "
   ]
  },
  {
   "cell_type": "code",
   "execution_count": 1,
   "metadata": {},
   "outputs": [],
   "source": [
    "%matplotlib inline\n",
    "import numpy as np\n",
    "import pyross\n",
    "import pandas as pd\n",
    "import time\n",
    "import matplotlib.pyplot as plt\n",
    "from scipy.io import loadmat"
   ]
  },
  {
   "cell_type": "markdown",
   "metadata": {},
   "source": [
    "## 1) Generate a trajectory"
   ]
  },
  {
   "cell_type": "code",
   "execution_count": 2,
   "metadata": {},
   "outputs": [],
   "source": [
    "# population and age classes (4 age groups)\n",
    "M=4  # number of age classes\n",
    "\n",
    "my_data = np.genfromtxt('../data/age_structures/UK.csv', delimiter=',', skip_header=1)\n",
    "aM, aF = my_data[:, 1], my_data[:, 2]\n",
    "\n",
    "Ni0=aM+aF;   Ni=np.zeros((M))\n",
    "\n",
    "Ni[0] = (np.sum(Ni0[0:4])).astype('int')\n",
    "Ni[1] = (np.sum(Ni0[4:8])).astype('int')\n",
    "Ni[2] = (np.sum(Ni0[8:12])).astype('int')\n",
    "Ni[3] = (np.sum(Ni0[12:16])).astype('int')\n",
    "N=np.sum(Ni)\n",
    "fi = Ni/N \n",
    "\n",
    "# Get individual contact matrices\n",
    "CH0, CW0, CS0, CO0 = pyross.contactMatrix.UK()\n",
    "\n",
    "CH = np.zeros((M, M))\n",
    "CW = np.zeros((M, M))\n",
    "CS = np.zeros((M, M))\n",
    "CO = np.zeros((M, M))\n",
    "\n",
    "for i in range(16):\n",
    "    CH0[i,:] = Ni0[i]*CH0[i,:]\n",
    "    CS0[i,:] = Ni0[i]*CS0[i,:]\n",
    "    CW0[i,:] = Ni0[i]*CW0[i,:]\n",
    "    CO0[i,:] = Ni0[i]*CO0[i,:]\n",
    "\n",
    "    \n",
    "for i in range(M):\n",
    "    for j in range(M):\n",
    "        i1, j1 = i*4, j*4\n",
    "        CH[i,j] = np.sum( CH0[i1:i1+4,j1:j1+4]  )/Ni[i]\n",
    "        CW[i,j] = np.sum( CW0[i1:i1+4,j1:j1+4]  )/Ni[i]\n",
    "        CS[i,j] = np.sum( CS0[i1:i1+4,j1:j1+4]  )/Ni[i]\n",
    "        CO[i,j] = np.sum( CO0[i1:i1+4,j1:j1+4]  )/Ni[i]"
   ]
  },
  {
   "cell_type": "code",
   "execution_count": 3,
   "metadata": {},
   "outputs": [],
   "source": [
    "# Generate class with contact matrix for SIR model with UK contact structure\n",
    "generator = pyross.contactMatrix.ContactMatrixFunction(CH, CW, CS, CO)"
   ]
  },
  {
   "cell_type": "code",
   "execution_count": 4,
   "metadata": {},
   "outputs": [],
   "source": [
    "T_intervention = 30\n",
    "times= [T_intervention] # temporal boundaries between different contact-behaviour\n",
    "\n",
    "aW, aS, aO = 0.8, 0.7, 0.7\n",
    "\n",
    "# prefactors for CW, CS, CO:\n",
    "interventions = [[1.0,1.0,1.0],      # before first time\n",
    "                 [aW, aS, aO],       # after first time\n",
    "                ]         \n",
    "\n",
    "# generate corresponding contact matrix function\n",
    "C = generator.interventions_temporal(times=times,interventions=interventions)"
   ]
  },
  {
   "cell_type": "code",
   "execution_count": 5,
   "metadata": {},
   "outputs": [],
   "source": [
    "beta  = 0.04       # contact rate parameter\n",
    "gIa   = 1./7       # recovery rate of asymptomatic infectives \n",
    "gIs   = 1./7       # recovery rate of symptomatic infectives \n",
    "alpha = 0.2        # asymptomatic fraction\n",
    "fsa   = 0.8        # suppresion of contact by symptomatics\n",
    "\n",
    "\n",
    "# initial conditions    \n",
    "Is_0 = np.ones(M)*20\n",
    "Is_0[1] += 10  #make one group different \n",
    "Ia_0 = np.zeros((M))*2\n",
    "Ia_0[1] += 2 \n",
    "R_0  = np.zeros((M))\n",
    "S_0  = Ni - (Ia_0 + Is_0 + R_0)\n",
    "\n",
    "parameters = {'alpha':alpha,'beta':beta, 'gIa':gIa,'gIs':gIs,'fsa':fsa}\n",
    "true_parameters = parameters\n",
    "model = pyross.stochastic.SIR(parameters, M, Ni)\n",
    "\n",
    "# start simulation\n",
    "Tf=100;  Nf=Tf+1 \n",
    "data=model.simulate(S_0, Ia_0, Is_0, C, Tf, Nf, method='tau-leaping')"
   ]
  },
  {
   "cell_type": "code",
   "execution_count": 6,
   "metadata": {
    "scrolled": true
   },
   "outputs": [
    {
     "data": {
      "image/png": "[encoded data removed]",
      "text/plain": [
       "<Figure size 432x288 with 1 Axes>"
      ]
     },
     "metadata": {
      "needs_background": "light"
     },
     "output_type": "display_data"
    }
   ],
   "source": [
    "IC  = np.zeros((Nf))\n",
    "for i in range(M):\n",
    "        IC += data['X'][:,2*M+i] \n",
    "t = data['t']\n",
    "plt.plot(t, IC)\n",
    "plt.axvspan(0, T_intervention, \n",
    "           label='Pre intervention',\n",
    "           alpha=0.3, color='dodgerblue')\n",
    "plt.show() "
   ]
  },
  {
   "cell_type": "markdown",
   "metadata": {},
   "source": [
    "## 2) Infer the parameters of the model"
   ]
  },
  {
   "cell_type": "code",
   "execution_count": 7,
   "metadata": {},
   "outputs": [
    {
     "name": "stdout",
     "output_type": "stream",
     "text": [
      "1432.3101962249689\n",
      "0.31836819648742676\n"
     ]
    },
    {
     "data": {
      "image/png": "[encoded data removed]",
      "text/plain": [
       "<Figure size 432x288 with 1 Axes>"
      ]
     },
     "metadata": {
      "needs_background": "light"
     },
     "output_type": "display_data"
    }
   ],
   "source": [
    "Tf = 30 # truncate to only getting the first few datapoints (up to lockdown) \n",
    "Nf = Tf+1\n",
    "\n",
    "x = data['X'].astype('float')\n",
    "x = x[:Nf]\n",
    "\n",
    "# initialise the estimator \n",
    "estimator = pyross.inference.SIR(parameters, M, Ni)\n",
    "\n",
    "# compute -log_p for the original (correct) parameters \n",
    "start_time = time.time() \n",
    "parameters = {'alpha':alpha, 'beta':beta, 'gIa':gIa, 'gIs':gIs,'fsa':fsa}\n",
    "logp = estimator.obtain_minus_log_p(parameters, x, Tf, C)\n",
    "end_time = time.time()\n",
    "print(logp) \n",
    "print(end_time - start_time)\n",
    "\n",
    "# Check the deterministic simulation against stochstic simulations with the same parameters and initial conditons \n",
    "# They are likely to be different due to the inherent stochasticity of the model \n",
    "Tf_initial = T_intervention # truncate to only getting the pre-intervention trajectory \n",
    "Nf_initial = Tf_initial+1\n",
    "contactMatrix = generator.constant_contactMatrix()\n",
    "estimator.set_det_model(parameters)\n",
    "estimator.set_contact_matrix(contactMatrix)\n",
    "xm = estimator.integrate(x[0], 0, Tf_initial, Nf_initial)\n",
    "t = np.linspace(0, Tf_initial, Nf_initial)\n",
    "plt.plot(t, np.sum(x[:,2*M:3*M], axis=1))\n",
    "plt.plot(t, np.sum(xm[:,2*M:3*M], axis=1))\n",
    "plt.show()"
   ]
  },
  {
   "cell_type": "code",
   "execution_count": 8,
   "metadata": {
    "scrolled": true
   },
   "outputs": [
    {
     "name": "stdout",
     "output_type": "stream",
     "text": [
      "Starting global minimisation...\n",
      "(8_w,16)-aCMA-ES (mu_w=4.8,w_1=32%) in dimension 4 (seed=2735826223, Fri Jun 26 11:43:22 2020)\n",
      "Iterat #Fevals   function value  axis ratio  sigma  min&max std  t[m:s]\n",
      "    1     16 1.653122567459430e+04 1.0e+00 1.08e+00  7e-02  3e-01 0:00.1\n",
      "    2     32 9.310756797602544e+03 1.6e+00 8.52e-01  5e-02  2e-01 0:00.2\n",
      "    3     48 1.003753930282437e+04 1.7e+00 7.48e-01  3e-02  2e-01 0:00.3\n",
      "Optimal value (global minimisation):  1502.1673136701436\n",
      "Starting local minimisation...\n",
      "Optimal value (local minimisation):  1478.1932084282696\n",
      "{'alpha': 0.1752255240944655, 'beta': 0.04023408120022781, 'gIa': 0.0958988828389619, 'gIs': 0.1547708814818626, 'fsa': array([0.8, 0.8, 0.8, 0.8])}\n",
      "2.51155686378479\n"
     ]
    }
   ],
   "source": [
    "# take a guess \n",
    "eps = 1e-4 \n",
    "priors = {\n",
    "    'alpha':{\n",
    "        'mean': 0.3, \n",
    "        'std': 0.2, \n",
    "        'bounds': [eps, 0.8]\n",
    "    }, \n",
    "    'beta':{\n",
    "        'mean': 0.05, \n",
    "        'std': 0.1, \n",
    "        'bounds': [eps, 0.2]\n",
    "    }, \n",
    "    'gIa':{\n",
    "        'mean': 0.1, \n",
    "        'std': 0.2, \n",
    "        'bounds': [eps, 0.6]\n",
    "    }, \n",
    "    'gIs':{\n",
    "        'mean': 0.2, \n",
    "        'std': 0.2, \n",
    "        'bounds': [eps, 0.6]\n",
    "    }\n",
    "}\n",
    "estimator.set_lyapunov_method('euler')\n",
    "start_time = time.time() \n",
    "\n",
    "res = estimator.infer_parameters(x, Tf_initial, contactMatrix, priors, tangent=True, \n",
    "                                    global_max_iter=20, local_max_iter=400,\n",
    "                                    cma_population=16, global_atol=1,\n",
    "                                    ftol=1e-6, verbose=True)\n",
    "end_time = time.time()\n",
    "\n",
    "print(res['map_dict']) # best guess \n",
    "print(end_time - start_time)"
   ]
  },
  {
   "cell_type": "code",
   "execution_count": 9,
   "metadata": {},
   "outputs": [
    {
     "name": "stdout",
     "output_type": "stream",
     "text": [
      "True parameters:\n",
      "{'alpha': 0.2, 'beta': 0.04, 'gIa': 0.14285714285714285, 'gIs': 0.14285714285714285, 'fsa': 0.8}\n",
      "\n",
      "Inferred parameters:\n",
      "{'alpha': 0.1752255240944655, 'beta': 0.04023408120022781, 'gIa': 0.0958988828389619, 'gIs': 0.1547708814818626, 'fsa': array([0.8, 0.8, 0.8, 0.8])}\n"
     ]
    }
   ],
   "source": [
    "print(\"True parameters:\")\n",
    "print(true_parameters)\n",
    "\n",
    "print(\"\\nInferred parameters:\")\n",
    "print(res['map_dict'])"
   ]
  },
  {
   "cell_type": "markdown",
   "metadata": {},
   "source": [
    "## 3) Infer the change of contact structure"
   ]
  },
  {
   "cell_type": "code",
   "execution_count": 10,
   "metadata": {},
   "outputs": [
    {
     "name": "stdout",
     "output_type": "stream",
     "text": [
      "1028031.6256388\n"
     ]
    }
   ],
   "source": [
    "priors = {\n",
    "    'aW':{\n",
    "        'mean': 0.8, \n",
    "        'std': 0.1, \n",
    "        'bounds': [0.1, 1]\n",
    "    }, \n",
    "    'aS':{\n",
    "        'mean': 0.7,\n",
    "        'std': 0.1, \n",
    "        'bounds': [0.1, 1]\n",
    "    }, \n",
    "    'aO':{\n",
    "        'mean': 0.7, \n",
    "        'std': 0.1, \n",
    "        'bounds': [0.1, 1]\n",
    "    }\n",
    "}\n",
    "\n",
    "x = data['X'].astype('float')\n",
    "x = x[T_intervention+1:]\n",
    "Nf = x.shape[0] \n",
    "Tf = Nf-1 \n",
    "\n",
    "contactMatrix = generator.constant_contactMatrix(aW=aW, aS=aS, aO=aO)\n",
    "\n",
    "# compute -log_p for the initial guess (for the moment, use correct parameters)\n",
    "logp = estimator.obtain_minus_log_p(parameters, x, Tf, contactMatrix)\n",
    "print(logp) "
   ]
  },
  {
   "cell_type": "code",
   "execution_count": 12,
   "metadata": {
    "scrolled": true
   },
   "outputs": [
    {
     "name": "stdout",
     "output_type": "stream",
     "text": [
      "Starting global minimisation...\n",
      "(8_w,16)-aCMA-ES (mu_w=4.8,w_1=32%) in dimension 3 (seed=3669157929, Fri Jun 26 11:44:07 2020)\n",
      "Iterat #Fevals   function value  axis ratio  sigma  min&max std  t[m:s]\n",
      "    1     16 6.015919633365482e+05 1.0e+00 8.75e-01  8e-02  8e-02 0:00.2\n",
      "    2     32 6.186770290996989e+05 1.4e+00 7.46e-01  6e-02  7e-02 0:00.3\n",
      "    3     48 5.760564634042518e+05 1.7e+00 5.82e-01  4e-02  5e-02 0:00.5\n",
      "Optimal value (global minimisation):  558043.4422376978\n",
      "Starting local minimisation...\n",
      "Optimal value (local minimisation):  558038.4145393504\n",
      "{'aW': 0.8016169578721087, 'aS': 0.7028055458941477, 'aO': 0.7007477168160797}\n",
      "3.5813121795654297\n"
     ]
    }
   ],
   "source": [
    "eps = 1e-3 \n",
    "start_time = time.time() \n",
    "\n",
    "best_estimates = res['map_dict']\n",
    "estimator.set_params(best_estimates)\n",
    "estimator.set_det_model(best_estimates)\n",
    "# estimator.set_det_method('LSODA') # slower but performs better for exponential decay (near the end of the pandemic)\n",
    "res = estimator.infer_control(x, Tf, generator, priors, \n",
    "                                         tangent=True, verbose=True, \n",
    "                                          global_max_iter=20)\n",
    "end_time = time.time()\n",
    "\n",
    "print(res['map_dict']) \n",
    "print(end_time - start_time)"
   ]
  },
  {
   "cell_type": "code",
   "execution_count": 13,
   "metadata": {},
   "outputs": [
    {
     "name": "stdout",
     "output_type": "stream",
     "text": [
      "True lockdown factors:\n",
      "[0.8, 0.7, 0.7]\n",
      "\n",
      "Inferred lockdown factors:\n",
      "{'aW': 0.8016169578721087, 'aS': 0.7028055458941477, 'aO': 0.7007477168160797}\n"
     ]
    }
   ],
   "source": [
    "print(\"True lockdown factors:\")\n",
    "print([aW, aS, aO])\n",
    "\n",
    "print(\"\\nInferred lockdown factors:\")\n",
    "print(res['map_dict'])"
   ]
  },
  {
   "cell_type": "code",
   "execution_count": 14,
   "metadata": {
    "scrolled": true
   },
   "outputs": [
    {
     "data": {
      "image/png": "[encoded data removed]",
      "text/plain": [
       "<Figure size 432x288 with 1 Axes>"
      ]
     },
     "metadata": {
      "needs_background": "light"
     },
     "output_type": "display_data"
    }
   ],
   "source": [
    "times = [T_intervention]\n",
    "interventions = [[1.0,1.0,1.0],      # before first time\n",
    "                 res['flat_map'],       # after first time\n",
    "                ]         \n",
    "\n",
    "# compare the true trajectory with the \n",
    "contactMatrix = generator.interventions_temporal(times=times,interventions=interventions)\n",
    "estimator.set_det_model(parameters)\n",
    "estimator.set_contact_matrix(contactMatrix)\n",
    "x = data['X'].astype('float')\n",
    "estimator.set_det_method('LSODA') # setting deterministic integration to be LSODA \n",
    "x_det_control = estimator.integrate(x[T_intervention], T_intervention, Tf+T_intervention, Nf)\n",
    "plt.plot(np.sum(x[:,M:2*M], axis=1), label='Ia')\n",
    "plt.plot(np.linspace(T_intervention, Tf+T_intervention, Nf), np.sum(x_det_control[:, M:2*M], axis=1), label='Inferred Ia')\n",
    "plt.plot(np.sum(x[:,2*M:3*M], axis=1), label='Is')\n",
    "plt.plot(np.linspace(T_intervention, Tf+T_intervention, Nf), np.sum(x_det_control[:, 2*M:3*M], axis=1), label='Inferred Is')\n",
    "plt.axvspan(0, T_intervention, \n",
    "           label='Pre intervention',\n",
    "           alpha=0.3, color='dodgerblue')\n",
    "plt.xlim([0, Tf+T_intervention])\n",
    "plt.legend()\n",
    "plt.show()"
   ]
  },
  {
   "cell_type": "markdown",
   "metadata": {},
   "source": [
    "## 4) Now, instead of assuming a step-function like change at T_intervention, allow for anticipation time and reaction time \n",
    "\n",
    "For this, we make use of the `intervention_custom_temporal` function in the contactMatrix module. First we need to define our intervention function. We use a tanh to represent anticipation and reaction, and parameterise it with four parameters: \n",
    "\n",
    "* width: the width of the tanh profile \n",
    "* loc: the location of the interface of the tanh \n",
    "* aW_f: the final aW_f of the lockdown \n",
    "* aS_f: the final aS_f of the lockdown \n",
    "* aO_f: the fianl aO_f of the lockdown "
   ]
  },
  {
   "cell_type": "code",
   "execution_count": 15,
   "metadata": {},
   "outputs": [
    {
     "data": {
      "image/png": "[encoded data removed]",
      "text/plain": [
       "<Figure size 432x288 with 1 Axes>"
      ]
     },
     "metadata": {
      "needs_background": "light"
     },
     "output_type": "display_data"
    }
   ],
   "source": [
    "def approx_tanh(t, width, loc):\n",
    "    cond1 = (t < loc-width/2)\n",
    "    cond2 = (t >= loc+width/2)\n",
    "    cond3 = np.logical_and((t < loc+width/2), (t >= loc-width/2))\n",
    "    cond_list = [cond1, cond2, cond3]\n",
    "    fun_list = [-1, 1, lambda t: 2*(t-loc)/width]\n",
    "    return np.piecewise(t, cond_list, fun_list)\n",
    "    \n",
    "def intervention_fun(t, M, width=1, loc=0, aW_f=0, aS_f=0, aO_f=0):\n",
    "    aW = (1-approx_tanh(t, width, loc))/2*(1-aW_f) + aW_f\n",
    "    aS = (1-approx_tanh(t, width, loc))/2*(1-aS_f) + aS_f\n",
    "    aO = (1-approx_tanh(t, width, loc))/2*(1-aO_f) + aO_f\n",
    "    aW_full = np.full((2, M), aW) # must return the full (2, M) array \n",
    "    aS_full = np.full((2, M), aS)\n",
    "    aO_full = np.full((2, M), aO)\n",
    "    return aW_full, aS_full, aO_full\n",
    "\n",
    "aW_f = 0.8 \n",
    "aS_f = 0.7\n",
    "aO_f = 0.7\n",
    "\n",
    "\n",
    "# plot aW as a function of t \n",
    "width = 10\n",
    "loc = T_intervention \n",
    "time_points = np.linspace(0, 100, 1001)\n",
    "aW_time_series = np.empty((1001,), dtype='float')\n",
    "for (i, t) in enumerate(time_points): \n",
    "    aW_time_series[i] = intervention_fun(t, 4, width, loc, aW_f, aS_f, aO_f)[0][0, 0]\n",
    "plt.plot(time_points, aW_time_series)\n",
    "plt.show()"
   ]
  },
  {
   "cell_type": "code",
   "execution_count": 16,
   "metadata": {},
   "outputs": [],
   "source": [
    "contactMatrix = generator.intervention_custom_temporal(intervention_fun, \n",
    "                                                       width=width, loc=loc, \n",
    "                                                       aW_f=aW_f, aS_f=aS_f, aO_f=aO_f)\n",
    "\n",
    "# initial conditions    \n",
    "Is_0 = np.ones(M)*20\n",
    "Is_0[1] += 10  #make one group different \n",
    "Ia_0 = np.zeros((M))*2\n",
    "Ia_0[1] += 2 \n",
    "R_0  = np.zeros((M))\n",
    "S_0  = Ni - (Ia_0 + Is_0 + R_0)\n",
    "\n",
    "# start simulation\n",
    "Tf=100;  Nf=Tf+1 \n",
    "data=model.simulate(S_0, Ia_0, Is_0, contactMatrix, Tf, Nf, method='tau-leaping')"
   ]
  },
  {
   "cell_type": "code",
   "execution_count": 17,
   "metadata": {},
   "outputs": [
    {
     "data": {
      "image/png": "[encoded data removed]",
      "text/plain": [
       "<Figure size 432x288 with 1 Axes>"
      ]
     },
     "metadata": {
      "needs_background": "light"
     },
     "output_type": "display_data"
    }
   ],
   "source": [
    "# plot simulation\n",
    "IC  = np.zeros((Nf))\n",
    "for i in range(M):\n",
    "        IC += data['X'][:,2*M+i] \n",
    "t = data['t']\n",
    "plt.plot(t, IC)\n",
    "plt.axvspan(0, T_intervention, \n",
    "           label='Pre intervention',\n",
    "           alpha=0.3, color='dodgerblue')\n",
    "plt.show() "
   ]
  },
  {
   "cell_type": "markdown",
   "metadata": {},
   "source": [
    "### For this part, we skip the step where we infer the epidemiological parameters of the model, and just use the correct ones. But if we wish, we can cut the trajectory as before and infer them. "
   ]
  },
  {
   "cell_type": "code",
   "execution_count": 18,
   "metadata": {},
   "outputs": [
    {
     "name": "stdout",
     "output_type": "stream",
     "text": [
      "10500.098722875533\n"
     ]
    }
   ],
   "source": [
    "x = data['X'].astype('float')\n",
    "x = x[:60]\n",
    "Nf = x.shape[0] \n",
    "Tf = Nf-1 \n",
    "\n",
    "\n",
    "# compute -log_p \n",
    "estimator = pyross.inference.SIR(parameters, M, Ni)\n",
    "logp = estimator.obtain_minus_log_p(parameters, x, Tf, contactMatrix)\n",
    "print(logp) "
   ]
  },
  {
   "cell_type": "code",
   "execution_count": 19,
   "metadata": {},
   "outputs": [
    {
     "name": "stdout",
     "output_type": "stream",
     "text": [
      "Starting global minimisation...\n",
      "(8_w,16)-aCMA-ES (mu_w=4.8,w_1=32%) in dimension 5 (seed=1490988171, Fri Jun 26 11:45:46 2020)\n",
      "Iterat #Fevals   function value  axis ratio  sigma  min&max std  t[m:s]\n",
      "    1     16 1.244767278246438e+04 1.0e+00 9.19e-01  9e-02  9e+00 0:01.3\n",
      "    2     32 1.596640954115381e+04 1.3e+00 8.34e-01  8e-02  7e+00 0:02.5\n",
      "    3     48 1.234139265094664e+04 1.5e+00 7.74e-01  7e-02  7e+00 0:03.8\n",
      "    6     96 1.154384815813813e+04 2.0e+00 5.11e-01  4e-02  4e+00 0:07.9\n",
      "   10    160 1.110879358243590e+04 2.7e+00 3.03e-01  2e-02  1e+00 0:12.7\n",
      "   14    224 1.099361315713182e+04 4.0e+00 1.57e-01  1e-02  7e-01 0:17.7\n",
      "   19    304 1.097311811108182e+04 6.8e+00 1.14e-01  5e-03  5e-01 0:24.3\n",
      "Optimal value (global minimisation):  10965.129643825236\n",
      "Starting local minimisation...\n",
      "Optimal value (local minimisation):  10955.328729569712\n",
      "{'width': 9.845362526117702, 'loc': 29.928781479931143, 'aW_f': 0.7962336685640472, 'aS_f': 0.6912306381899936, 'aO_f': 0.6973683329286665}\n",
      "37.630603075027466\n"
     ]
    }
   ],
   "source": [
    "priors = {\n",
    "    'width':{\n",
    "        'mean': 10,\n",
    "        'std': 5, \n",
    "        'bounds': [1e-3, 40]\n",
    "    }, \n",
    "    'loc':{\n",
    "        'mean': 35, \n",
    "        'std': 10, \n",
    "        'bounds': [1e-3, 100]\n",
    "    }, \n",
    "    'aW_f':{\n",
    "        'mean': 0.8, \n",
    "        'std': 0.2, \n",
    "        'bounds': [0.1, 1.0]\n",
    "    }, \n",
    "    'aS_f':{\n",
    "        'mean': 0.7, \n",
    "        'std': 0.1, \n",
    "        'bounds': [0.1, 1.0]\n",
    "    }, \n",
    "    'aO_f':{\n",
    "        'mean': 0.7, \n",
    "        'std': 0.1, \n",
    "        'bounds': [0.1, 1.0]\n",
    "    }\n",
    "}\n",
    "\n",
    "start_time = time.time() \n",
    "estimator.set_det_method('LSODA') # slower but performs better for exponential decay (near the end of the pandemic)\n",
    "estimator.set_lyapunov_method('euler') # fast integration method for lyapunov\n",
    "res = estimator.infer_control(x, Tf, generator, priors,\n",
    "                             intervention_fun=intervention_fun, tangent=False,\n",
    "                             global_max_iter=20, verbose=True)\n",
    "end_time = time.time()\n",
    "\n",
    "print(res['map_dict']) # best guess \n",
    "print(end_time - start_time)"
   ]
  },
  {
   "cell_type": "code",
   "execution_count": 26,
   "metadata": {},
   "outputs": [
    {
     "data": {
      "image/png": "[encoded data removed]",
      "text/plain": [
       "<Figure size 800x640 with 1 Axes>"
      ]
     },
     "metadata": {},
     "output_type": "display_data"
    }
   ],
   "source": [
    "# compare the true trajectory with the \n",
    "Tf = 100 \n",
    "Nf = Tf + 1 \n",
    "\n",
    "inferred_contactMatrix = generator.intervention_custom_temporal(intervention_fun, **res['map_dict'])\n",
    "estimator.set_det_model(best_estimates)\n",
    "estimator.set_contact_matrix(inferred_contactMatrix)\n",
    "x = data['X'][:Nf].astype('float')\n",
    "x_det_control = estimator.integrate(x[0], 0, Tf, Nf)\n",
    "fig = plt.figure(num=None, figsize=(10, 8), dpi=80, facecolor='w', edgecolor='k')\n",
    "plt.rcParams.update({'font.size': 12})\n",
    "plt.plot(np.sum(x[:,M:2*M], axis=1), label='Ia')\n",
    "plt.plot(np.sum(x_det_control[:, M:2*M], axis=1), label='Inferred Ia')\n",
    "plt.plot(np.sum(x[:,2*M:3*M], axis=1), label='Is')\n",
    "plt.plot(np.sum(x_det_control[:, 2*M:3*M], axis=1), label='Inferred Is')\n",
    "plt.axvline(x=T_intervention, label='lockdown time', color='black')\n",
    "plt.axvline(x=res['map_dict']['loc'], label='inferred lockdown time', color='red')\n",
    "plt.axvspan(0, 60, \n",
    "           label='used for infer control',\n",
    "           alpha=0.3, color='orange')\n",
    "plt.xlim([0, Tf])\n",
    "plt.legend()\n",
    "plt.show()"
   ]
  },
  {
   "cell_type": "code",
   "execution_count": null,
   "metadata": {},
   "outputs": [],
   "source": []
  }
 ],
 "metadata": {
  "kernelspec": {
   "display_name": "Python 3",
   "language": "python",
   "name": "python3"
  },
  "language_info": {
   "codemirror_mode": {
    "name": "ipython",
    "version": 3
   },
   "file_extension": ".py",
   "mimetype": "text/x-python",
   "name": "python",
   "nbconvert_exporter": "python",
   "pygments_lexer": "ipython3",
   "version": "3.7.7"
  }
 },
 "nbformat": 4,
 "nbformat_minor": 4
}
